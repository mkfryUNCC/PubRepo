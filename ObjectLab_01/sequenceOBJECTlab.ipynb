{
 "cells": [
  {
   "cell_type": "markdown",
   "metadata": {
    "slideshow": {
     "slide_type": "-"
    }
   },
   "source": [
    "# working with Sequence Class objects, file imports and parsing... Requires FASTA file for data import and input of file path"
   ]
  },
  {
   "cell_type": "markdown",
   "metadata": {},
   "source": [
    "### supply file path of Datafile\n",
    "### I have \"SampleData.fa\" defined under program directory...   "
   ]
  },
  {
   "cell_type": "code",
   "execution_count": 2,
   "metadata": {
    "scrolled": true
   },
   "outputs": [
    {
     "name": "stdout",
     "output_type": "stream",
     "text": [
      "Enter Path of FASTA file storage SampleData.fa\n"
     ]
    }
   ],
   "source": [
    "dFile = input(\"Enter Path of FASTA file storage \")  #defining path of data file location I have SampleData.fa directly under ProgramDIr"
   ]
  },
  {
   "cell_type": "markdown",
   "metadata": {},
   "source": [
    "# Class to define a sequence data string and allow for string searches"
   ]
  },
  {
   "cell_type": "code",
   "execution_count": 3,
   "metadata": {},
   "outputs": [],
   "source": [
    "class Sequence:   \n",
    "    def __init__(self,seqData):\n",
    "        self.seqData = seqData\n",
    "                             \n",
    "    def checkMatch(self,searchSTR):\n",
    "        matchCount = 0\n",
    "        for i in range(len(self.seqData)):\n",
    "            if self.seqData[i:i+len(searchSTR)] == searchSTR:\n",
    "                   matchCount += 1\n",
    "        print(\"Searched for [\"+str(searchSTR)+\"]  and it appears \"+str(matchCount)+\" times in this sequence!\")\n",
    "       \n",
    "    def __repr__(self):\n",
    "        return(\"Just added a record with datalen of \"+str(len(self.seqData))+\" with the first 25 char as: \"+self.seqData[0:25])\n",
    "               "
   ]
  },
  {
   "cell_type": "markdown",
   "metadata": {},
   "source": [
    "# Class to store sequence label and sequence object class"
   ]
  },
  {
   "cell_type": "code",
   "execution_count": 4,
   "metadata": {},
   "outputs": [],
   "source": [
    "class SequenceRecord:      #Sequence Data object\n",
    "    def __init__(self,head,SEQ):\n",
    "        if type(SEQ) == Sequence:\n",
    "            self.label= head\n",
    "            self.seqOb= SEQ\n",
    "        else:\n",
    "            return False\n",
    "              \n",
    "    def __repr__(self):\n",
    "        return(str(self.label)[0:25]+\".....has been created\")               "
   ]
  },
  {
   "cell_type": "markdown",
   "metadata": {},
   "source": [
    "### Parse supplied FASTA file from input, in this test supplied file was \"SampleData.fa\" from working directory"
   ]
  },
  {
   "cell_type": "code",
   "execution_count": 10,
   "metadata": {},
   "outputs": [],
   "source": [
    "def FA_FILEparse(faFILE):  # parse file into Sequence and SequenceRecord Class\n",
    "    h = open(faFILE)\n",
    "    name = None\n",
    "    seq = \"\"\n",
    "    for line in h:\n",
    "        if line.startswith(\">\"):\n",
    "            if name:\n",
    "                seqRec = SequenceRecord(name,Sequence(seq))\n",
    "                yield seqRec\n",
    "                name = None\n",
    "                seq = \"\"\n",
    "            name = line.rstrip().lstrip(\">\")\n",
    "\n",
    "        else:\n",
    "            seq += line.rstrip()\n",
    "    seqRec = SequenceRecord(name,Sequence(seq))\n",
    "    yield seqRec\n",
    "def returnOBJdata(generatedOBJ):# return string data from list derived from Sequence Object record\n",
    "    Counter = 1\n",
    "    for i in myDATA:\n",
    "        print(\"Record \" + str(Counter)+\"\\n\")\n",
    "        print(i)\n",
    "        i.seqOb.checkMatch(\"GGAT\")\n",
    "        print(\"\\n\")\n",
    "        Counter += 1"
   ]
  },
  {
   "cell_type": "code",
   "execution_count": 11,
   "metadata": {},
   "outputs": [
    {
     "name": "stdout",
     "output_type": "stream",
     "text": [
      "Record 1\n",
      "\n",
      "MD10G1276500 pacid=400898.....has been created\n",
      "Searched for [GGAT]  and it appears 21 times in this sequence!\n",
      "\n",
      "\n",
      "Record 2\n",
      "\n",
      "MD10G1110200 pacid=400898.....has been created\n",
      "Searched for [GGAT]  and it appears 9 times in this sequence!\n",
      "\n",
      "\n",
      "Record 3\n",
      "\n",
      "MD10G1036500 pacid=400898.....has been created\n",
      "Searched for [GGAT]  and it appears 1 times in this sequence!\n",
      "\n",
      "\n",
      "Record 4\n",
      "\n",
      "MD10G1170700 pacid=400898.....has been created\n",
      "Searched for [GGAT]  and it appears 10 times in this sequence!\n",
      "\n",
      "\n"
     ]
    }
   ],
   "source": [
    "myDATA=[]\n",
    "myDATA = FA_FILEparse(dFile)\n",
    "returnOBJdata(myDATA)"
   ]
  },
  {
   "cell_type": "code",
   "execution_count": null,
   "metadata": {},
   "outputs": [],
   "source": []
  }
 ],
 "metadata": {
  "kernelspec": {
   "display_name": "Python 3",
   "language": "python",
   "name": "python3"
  },
  "language_info": {
   "codemirror_mode": {
    "name": "ipython",
    "version": 3
   },
   "file_extension": ".py",
   "mimetype": "text/x-python",
   "name": "python",
   "nbconvert_exporter": "python",
   "pygments_lexer": "ipython3",
   "version": "3.7.1"
  }
 },
 "nbformat": 4,
 "nbformat_minor": 2
}
