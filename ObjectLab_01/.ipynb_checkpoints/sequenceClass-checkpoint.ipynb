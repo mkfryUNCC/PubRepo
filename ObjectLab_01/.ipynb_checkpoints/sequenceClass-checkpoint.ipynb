{
 "cells": [
  {
   "cell_type": "markdown",
   "metadata": {},
   "source": [
    "#In a new notebook, write a new Python Class called Sequence.  This class should have one instance variables initialized by the constructor, a string that will hold the sequence of bases.  In addition, this class should have one method that executes a function of your choosing. Think about what sequences can do or how they can change, and implement that as a function of this class. If you need inspiration, look back on some of the early things we did last semester.\n",
    "\n",
    " \n",
    "\n",
    "Once you are confident your sequence class is written properly, write another class called SequenceRecord.  The constructor of this class will take two arguments, a “label” and a Sequence Object.  Your code should attempt to enforce that a valid Sequence Object was provided.\n",
    "\n",
    " \n",
    "\n",
    "Now that you have your two classes, write a Python generator that you might use to parse a FASTA file.  Only now, rather than yielding a tuple of your header and sequence, your generator should yield a SequenceRecord object. It would be a good idea to quickly make yourself a 2-3 entry long FASTA file to call your generator with to test it’s functionality."
   ]
  },
  {
   "cell_type": "code",
   "execution_count": 3,
   "metadata": {},
   "outputs": [],
   "source": [
    "class Sequence:\n",
    "    def __init__(self,base,baseDES):\n",
    "        self.base = base\n",
    "        self.baseD = baseDES\n",
    "        seq.baseCT = 0\n",
    "    def __repr__(self):\n",
    "        return(str(self.base) + 'representation as '+self.baseDES+':\\nThere are '+str(seq.baseCT)+' in file data total')\n",
    "               "
   ]
  },
  {
   "cell_type": "code",
   "execution_count": null,
   "metadata": {},
   "outputs": [],
   "source": [
    "class SeqenceRecord:\n",
    "    def __init__(self,head,seqD):\n",
    "        self.head = head\n",
    "        self.seqDATA = seqD\n",
    "    def __repr__(self):\n",
    "        return(\"RAW output:\\n\" + str(self.head) + '\\n'+str(self.seqDATA))"
   ]
  }
 ],
 "metadata": {
  "kernelspec": {
   "display_name": "Python 3",
   "language": "python",
   "name": "python3"
  },
  "language_info": {
   "codemirror_mode": {
    "name": "ipython",
    "version": 3
   },
   "file_extension": ".py",
   "mimetype": "text/x-python",
   "name": "python",
   "nbconvert_exporter": "python",
   "pygments_lexer": "ipython3",
   "version": "3.7.1"
  }
 },
 "nbformat": 4,
 "nbformat_minor": 2
}
