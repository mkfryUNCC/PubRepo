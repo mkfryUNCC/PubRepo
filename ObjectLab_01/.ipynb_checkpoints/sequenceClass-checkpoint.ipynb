{
 "cells": [
  {
   "cell_type": "markdown",
   "metadata": {
    "slideshow": {
     "slide_type": "-"
    }
   },
   "source": [
    "#working with Sequence Class objects, file imports and parsing...  Requires FASTA file for data import and input of file path"
   ]
  },
  {
   "cell_type": "markdown",
   "metadata": {},
   "source": [
    "###supply file path of Datafile"
   ]
  },
  {
   "cell_type": "code",
   "execution_count": 1,
   "metadata": {},
   "outputs": [
    {
     "name": "stdout",
     "output_type": "stream",
     "text": [
      "Enter Path of FASTA file storage SampleData.fa\n"
     ]
    }
   ],
   "source": [
    "dFile = input(\"Enter Path of FASTA file storage \")  #defining path of data file location"
   ]
  },
  {
   "cell_type": "code",
   "execution_count": 2,
   "metadata": {},
   "outputs": [],
   "source": [
    "class Sequence:   #Class to define a sequence data string and allow for string searches\n",
    "    def __init__(self,seqData):\n",
    "        self.seqData = seqData\n",
    "                             \n",
    "    def checkMatch(self,searchSTR):\n",
    "        matchCount = 0\n",
    "        for i in range(len(self.seqData)):\n",
    "            if self.seqData[i:i+len(searchSTR)] == searchSTR:\n",
    "                   matchCount += 1\n",
    "        print(\"Searched for [\"+str(searchSTR)+\"]  and it appears \"+str(matchCount)+\" times in this sequence!\")\n",
    "       \n",
    "    def __repr__(self):\n",
    "        return(\"Just added a record with datalen of \"+str(len(self.seqData))+\" with the first 25 char as: \"+self.seqData[0:25])\n",
    "               "
   ]
  },
  {
   "cell_type": "code",
   "execution_count": 3,
   "metadata": {},
   "outputs": [
    {
     "name": "stdout",
     "output_type": "stream",
     "text": [
      "Just added a record with datalen of 146 with the first 25 char as: CCCTTGATTACTGCCAATACCGTGC\n",
      "Searched for [GTGGAC]  and it appears 1 times in this sequence!\n"
     ]
    }
   ],
   "source": [
    "seq1 = Sequence(\"CCCTTGATTACTGCCAATACCGTGCTTTCTATCCTTGCTGTAGACTACCCTGTGGACAAAGTTTCCTCTATGTGTCTGATGATGGTGCTGCCATGCTTACATTTGAATCCCTTGCCGAAACATCTGAATTTGCAACAAAGTGGGTT\")\n",
    "print(seq1)\n",
    "Sequence.checkMatch(seq1,\"GTGGAC\")"
   ]
  },
  {
   "cell_type": "code",
   "execution_count": 4,
   "metadata": {},
   "outputs": [],
   "source": [
    "class SequenceRecord:      #Sequence Data object\n",
    "    def __init__(self,head,SEQ):\n",
    "        self.label= head\n",
    "        self.seqOb= SEQ\n",
    "              \n",
    "    def __repr__(self):\n",
    "        return(str(self.label)[0:25]+\".....has been created\")               "
   ]
  },
  {
   "cell_type": "code",
   "execution_count": 5,
   "metadata": {},
   "outputs": [],
   "source": [
    "#File parse----------------------------------\n",
    "def FA_FILEparse(faFILE):\n",
    "    h = open(faFILE)\n",
    "    #dataF = fr.read_csv\n",
    "    name = None\n",
    "    seq = \"\"\n",
    "    for line in h:\n",
    "        if line.startswith(\">\"):\n",
    "            if name:\n",
    "                yield (name,seq)\n",
    "                name = None\n",
    "                seq = \"\"\n",
    "            name = line.rstrip().lstrip(\">\")\n",
    "\n",
    "        else:\n",
    "            seq += line.rstrip()\n",
    "\n",
    "    yield name,seq\n",
    "\n",
    "#dictionary work   \n",
    "def dictCreate(faDataFile):\n",
    "    retDir ={}\n",
    "    for name, seq in FA_FILEparse(faDataFile):\n",
    "        retDir[name] = seq\n",
    "    return retDir\n",
    "def prettyDictPRT(faDICT):\n",
    "    for name,seq in faDICT.items():\n",
    "        print(\"---------------------------------------------------------\\n\"+str(name)+\"\\n---------------------------------------------------------\\n\"+str(seq)+\"\\n*\\n*\\n\")\n",
    "#---------------------------\n",
    "        \n",
    "def createSeqOBJfromFile(faDataFile):\n",
    "    h = open(faDataFile)\n",
    "    #dataF = fr.read_csv\n",
    "    name = None\n",
    "    seq = \"\"\n",
    "    for line in h:\n",
    "        if line.startswith(\">\"):\n",
    "            if name:\n",
    "                yield (name,seq)\n",
    "                name = None\n",
    "                seq = \"\"\n",
    "            name = line.rstrip().lstrip(\">\")\n",
    "\n",
    "        else:\n",
    "            seq += line.rstrip()\n",
    "    SequenceRecord(name,seq)\n",
    "def returnOBJdata(generatedOBJ):\n",
    "    Counter = 1\n",
    "    for i in myDATA:\n",
    "        print(\"Record \" + str(Counter)+\"\\n\")\n",
    "        print(i)\n",
    "        print(\"\\n\")\n",
    "        Counter += 1"
   ]
  },
  {
   "cell_type": "code",
   "execution_count": 6,
   "metadata": {},
   "outputs": [],
   "source": [
    "#myworkingDICT= dictCreate(dFile)             "
   ]
  },
  {
   "cell_type": "code",
   "execution_count": null,
   "metadata": {},
   "outputs": [],
   "source": [
    "#create a generator and parse thru new sequence objects"
   ]
  },
  {
   "cell_type": "code",
   "execution_count": 7,
   "metadata": {},
   "outputs": [
    {
     "name": "stdout",
     "output_type": "stream",
     "text": [
      "Record 1\n",
      "\n",
      "('MD10G1276500 pacid=40089867 polypeptide=MD10G1276500 locus=MD10G1276500 ID=MD10G1276500.v1.1.491 annot-version=v1.1', 'ATGATGCAGTCCGTGGCTCCTGTGTGCAATGTCTGCGGCGAGCAGGTGGGGCTTGGTGCCAATGGGGAGGTTTTCGTGGCATGCCACGAGTGTAATTTCCCCATTTGCAAGGCTTGTTTCGATGAAGATGTCAAGGCTGGGCGTAAAGTTTGCTTGCAGTGTGGTATTCCCTATGACGATAACCCGTTGGCGGAGTATGAAACAAAGGTGTCAGGCACTCGATCCACAATGGAAGCTCACCTGAATAATACACAGGATACAGGAATTCATGCTAGGCATATCAGCAGTGTGTCTACGTTGGATAGTGAATTAAACGATGAATCTGGCAATCCGATTTGGAAGAATAGAGTGGAAAGTTGGAAGGATAAGAAGGATAAGAAGGATAAAAAGATCAAGAAGAAAAAGGATACACCTAATGGGGAAAAAGAGGCTCAAATTCCACCTGAGAAGCAGATGACAGAGGAATATTCATCAGAGGCTGCGGAACCACTTTCAACTCTCGTCCCACTTCCATCTAACAGAATCACACCATACAGAACTGTTATAATTATGCGATTGATCATTCTCGCCCTTTTCTTCCATTATCGAGTAACAAATCCTGTTGATAGTGCTTACGGTCTATGGTTCACTTCGATCATATGTGAGATCTGGTTTGCTTTTTCTTGGGTGTTGGATCAGTTTCCTAAGTGGTCTCCAGTTAATCGGACTACATTTACTGACAGGTTATCTGCCAGGTTTGAAAGAGAGGGTGAACTCTCCGAGCTTGCTGCTGTGGATTTCTTCGTAAGTACAGTTGATCCGTTGAAAGAACCGCCCTTGATTACTGCCAATACCGTGCTTTCTATCCTTGCTGTAGACTACCCTGTGGACAAAGTTTCCTGCTATGTGTCTGATGATGGTGCTGCCATGCTTACATTTGAATCCCTTGCCGAAACATCTGAATTTGCAACAAAGTGGGTTCCTTTCTGCAAGAAATTTTCAATTGAACCACGTGCACCTGAGTTTTACTTCTCACAAAAGATTGACTACTTGAAGGATAAAGTGCAACCATCTTTTGTGAAGGAGCGCAGAGCGATGAAAAGAGATTATGAAGAGTTCAAAGTGCGAATGAATGCTTTAGTAGCAAAGGCTCAAAAAACACCAGAAGAAGGATGGACTATGCAAGATGGAACTCCATGGCCAGGAAATAACTCGCGTGACCATCCTGGGATGATCCAGGTGTTCCTTGGACATAGCGGTGCCTATGACATCGAGGGAAATGAACTTCCTCGATTGGTTTATGTCTCGAGAGAGAAGAGACCCGGCTACCCACATCACAAGAAAGCTGGTGCTGAAAATGCTTTGGTAAGGGTGTCTGCAGTTCTCACAAATGCCCCATACATCCTCAATCTTGACTGTGATCACTACGTTAACAACAGCCAGGCAATTCGTGAGGCAATGTGTTTCTTGATGGACCCTCAAGTCGGTCGAGAAGTATGCTATGTGCAGTTTCCTCAGAGGTTTGATGGTATTGATCGCAGTGATCGATATGCTAATCGCAACACAGTTTTCTTTGATGTTAACATGAAAGGACTGGATGGCATTCAAGGTCCAGTATATGTGGGGACAGGATGTTGTTTCAACAGGCAAGCACTTTACGGCTACGGTCCTCCTTCTATGCCCGCCTTATCCAAGGCTGCTTCCTCATCCTCCTGCTCTTGTTGCTGTCCCTCTAAGAAGCCCTCTAAAGATGTGTCAGAGGCTTATCGAGATGCAAAACAGGAGGAGCTTGATGCTGCCATTTTTAACCTCCGTGATATTGAGAATTATGATGAGCTTGAGAGGTCAATGCTGATCTCGCAGACAAGCTTTGAGAAAACTTTTGGATTATCGTCTGTATTCATCGAATCTACGCTAATGGAGAACGGAGGAGTGGCCGAATCTTCCAACCCTTCAACATTGATCAAGGAGGCGATTCACGTCATTAGCTGTGGTTATGAAGAGAAGACCGCGTGGGGAAAAGAGATTGGTTGGATATATGGATCAATCACTGAGGATATCTTAACCGGTTTCAAGATGCATTGCCGTGGATGGAGGTCAATTTACTGCATGCCCTTGAGACCTGCATTCAAAGGGTCAGCTCCCATTAACCTTTCTGATCGACTGCACCAAGTTCTTCGGTGGGCACTGGGATCGGTGGAAATTTTCCTCAGTAGACATTGTCCTCTCTGGTACGGGTTTGCAGGAGGCCGCCTCAAATTGCTTCAGAGAATGGCATATATCAACACTATTGTTTACCCCTTCACATCCCTCCCTCTCGTCGCTTACTGCACACTCCCTGCAATATGCCTTCTCACAGGAAAATTCATCATCCCAACACTTACAAACCTGGCAAGTGCCCTGTTTCTTGGCCTCTTCATCTCCATCATTGCTACAAGTGTGCTTGAGTTGAGGTGGAGTGGAGTCCGCATTGAGGACTTATGGCGTAACGAGCAGTTCTGGGTGATCGGAGGTGTTTCAGCCCATCTCTTTGCCGTCTTCCAAGGTTTCTTAAAGATGTTGGCCGGAATTGACACCAACTTCACCGTCACAACCAAATCAGCCGAAGACACAGAATTCGGAGAGCTCTATCTGATCAAATGGACCACACTTTTGATTCCCCCAACTACACTCCTCATCGTCAACATGGTTGGTGTTGTTGCAGGATTTTCGGACGCCCTCAACAAGGGATACGAAGCTTGGGGGCCACTTTTCGGGAAGGTTTTCTTTGCCTTCTGGGTGATTCTTCATCTATATCCCTTCCTCAAAGGTCTCATGGGACGCCAAAACCGGACTCCAACCATCGTTGTTTTGTGGTCAGTGCTCTTGGCCTCTGTCTTCTCCCTTGTTTGGGTGAAGATAAATCCATTTGTGAGCAAAGTGGACAGCTCAACGCTTGCTCAAAGCTGCATTTCCATAGACTGCTGA')\n",
      "\n",
      "\n",
      "Record 2\n",
      "\n",
      "('MD10G1110200 pacid=40089868 polypeptide=MD10G1110200 locus=MD10G1110200 ID=MD10G1110200.v1.1.491 annot-version=v1.1', 'ATGGCGTCTCTCTCCATCGCTTCACATTACTCCATTTCCTCATGGCCTCCCAAGAATAGCAACACCAGTACCACCCTCTCATCTTTCAACAAAACCCCATTTCGTAAAAACACCCAAAATCTCACCTTTTCGAAAAAACGCCATCATTTTCTCACGTTTTCCATGAAAAATGACCAGGAAAACGAACCCACTTCTTCTTCGTCGCCGTCGTCGGCTGTTGCAGTTTCCGAGAAGCCGAGCGACGGCAGTGAGACCCAGGAGAGTGAATTGCCAGCAGAAGGAGCTGACTCTGAGTCTGATGAGGAGAAAGAGAAGCAGCTGGAGACGGATTGGAAGACGGACGAGGAGTTCAAGAAGTTCATGGGAAATCCTTCGATTGAAGCTGCAATAAAGTTGGAGAAGAAAAGGGCAGATAGGAAACTCAAGGATCTTGATAGGGAAAGTAGTGGGAACCCATTTGCAGGGATCCTGAACAAAGTTTTGCGTGACAGTTTGACCAGAGAGAAGGAGAGGCTGGAGAAAGCTGAAGAGACGTTCAAGGCAATTGATCTTAACAAGTTAAGGAGTTGTTTTGGGTTTGATACATTTTTTCCAACTGATGTTCGGAGATTTGGAGATGGAGGCATTTTTGTTGGAAATTTGAGGAGACCAATTGAAGAGGTCATGCCCAAATTAGAGCAAAAGCTATCTGAAGCGGCAGGAAGAGAAGTTGTGTTATGGTTCATGGAAGAAAAAACTAATGACATCAGAAAACAGGTCTGTATGGTGCAACCCAAATTGGAAATTGATCTGCAGTTTGAGTCAACCAAGCTGAGCACTCCTTTGGGTTATGTGAGTGCAGTAGCCTTATGTGTCGCCACGTTTGGGACCGTAGCTCTAATAAGTGGCTTCTTCCTGAAACCTGATGCTACATGGGATGACTACCTTGCCAATGTTGTGCCCCTCTTTGGTGGCTTCCTATCTATTTTGGGAGTTTCTGAGATAGCGACTAGAGTGACAGCTGCTCGTCACGGTGTAAAACTCAGTCCATCTTTTCTTGTGCCATCCAATTGGACAGGCTGTTTAGGAGTGATGAATAACTATGAATCACTGCTTCCAAACAAGAAAGCGCTTTTTGACATTCCAGTGGCACGCACGGCTAGTGCATATCTCACATCACTGGTGCTTGCAATTGCTGCTTTTGTGGCTGATGGAAGCTTTAATGGGGGTGACAATGCATTGTATATAAGGCCGCAATTCTTCTTTAATAATCCCTTGCTTTCTTTTGTCCAATTTGTTATTGGTCCTTACGCGGATGACCTTGGAAATGTGCTGCCCTATGCAGTGGAAGGTGTTGGAGTTCCTGTTGATCCCCTTGCCTTTGCTGGACTTCTAGGGATGGTGGTGACTTCTCTGAACTTGTTGCCATGTGGGAGACTCGAAGGAGGCCGGATTGCACAAGCTATGTTTGGGAGAGGTACGGCTGCTCTGCTATCGTTTGCCACATCGCTTTTACTTGGGATTGGTGGCCTAAGTGGAAGTGTCCTTTGCCTGGCATGGGGATTATTTGCCACCTTCTTCCGGGGTGGAGAAGAAATGCCTGCGAAAGATGAAATCACCCCCATGGGAGACGATAGGTTTGCTTGGGGTTGTGTCCTCGGCCTTATCTGCTTCCTCACGCTTTTCCCTAACATCGGAGGGACGTTCTCCAGCTCATTTTTAAGTGCACCATTTTTCAGGGGTGATATGTAA')\n",
      "\n",
      "\n",
      "Record 3\n",
      "\n",
      "('MD10G1036500 pacid=40089869 polypeptide=MD10G1036500 locus=MD10G1036500 ID=MD10G1036500.v1.1.491 annot-version=v1.1', 'ATGTCGTCGTCGTCGAAGATCACCCTGCAGAGCTCCGACGGCGAGTCGTTCGAGGTCGAGGAGGCGGTGGCGCTGGAATCACAGACCATTGGGCTCGTGATCGAGAACGACTGCGCCGACAACTGTATTCCTTTGCCCAACGTCACCAGCAAGATCTTGGCCATGGTCATCGAGTACTGCAAGAGGCACGTCGACGCCGCCAAGCTCGACGAGAAGATCTTCGAGGACGATCTCGAGTCCTGGGATCAGGCGTTCGTAAAGGTGGACCAGGCTACGCTGTTTGATCTCATTAACGCTGCAGCCTACTTGAACATCAAGAGCCTTTTGGACCTGACATGCCAGGCAGTTGCAGACATGATCAAGGGTAAGACTCCAGAAGAGATCAGAAAGACCTTCAACATCAAGGACGAGTTCACCCTGGAGGAAGAGGAGGAAGTTCGTCGTGAGAACCAGTGGGCGTTTGAATGA')\n",
      "\n",
      "\n"
     ]
    }
   ],
   "source": [
    "myDATA=createSeqOBJfromFile(dFile)\n",
    "returnOBJdata(myDATA)"
   ]
  },
  {
   "cell_type": "code",
   "execution_count": null,
   "metadata": {},
   "outputs": [],
   "source": []
  }
 ],
 "metadata": {
  "kernelspec": {
   "display_name": "Python 3",
   "language": "python",
   "name": "python3"
  },
  "language_info": {
   "codemirror_mode": {
    "name": "ipython",
    "version": 3
   },
   "file_extension": ".py",
   "mimetype": "text/x-python",
   "name": "python",
   "nbconvert_exporter": "python",
   "pygments_lexer": "ipython3",
   "version": "3.7.3"
  }
 },
 "nbformat": 4,
 "nbformat_minor": 2
}
