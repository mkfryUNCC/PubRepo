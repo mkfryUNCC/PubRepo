{
 "cells": [
  {
   "cell_type": "markdown",
   "metadata": {},
   "source": [
    "#In a new notebook, write a new Python Class called Sequence.  This class should have one instance variables initialized by the constructor, a string that will hold the sequence of bases.  In addition, this class should have one method that executes a function of your choosing. Think about what sequences can do or how they can change, and implement that as a function of this class. If you need inspiration, look back on some of the early things we did last semester.\n",
    "\n",
    " \n",
    "\n",
    "Once you are confident your sequence class is written properly, write another class called SequenceRecord.  The constructor of this class will take two arguments, a “label” and a Sequence Object.  Your code should attempt to enforce that a valid Sequence Object was provided.\n",
    "\n",
    " \n",
    "\n",
    "Now that you have your two classes, write a Python generator that you might use to parse a FASTA file.  Only now, rather than yielding a tuple of your header and sequence, your generator should yield a SequenceRecord object. It would be a good idea to quickly make yourself a 2-3 entry long FASTA file to call your generator with to test it’s functionality."
   ]
  },
  {
   "cell_type": "code",
   "execution_count": null,
   "metadata": {},
   "outputs": [],
   "source": [
    "class Sequence:   #Class to define sequence search\n",
    "    def __init__(self,searchString,baseDES):\n",
    "        self.searchSTR = searchString\n",
    "    def __repr__(self):\n",
    "        return(str(self.searchSTR) + \"is defined\")\n",
    "               "
   ]
  },
  {
   "cell_type": "code",
   "execution_count": null,
   "metadata": {},
   "outputs": [],
   "source": [
    "class SeqenceRecord:      #Sequence records based of sequence search from the data file\n",
    "    def __init__(self,recID,SEQ):\n",
    "        self.recordID\n",
    "        self.SEQ\n",
    "    def __repr__(self):\n",
    "        return(\"RecordID is set @ \"+str(self.recordID)+ \" and search sequence = \"+str(self.SEQ))"
   ]
  },
  {
   "cell_type": "markdown",
   "metadata": {},
   "source": [
    "#supply file path of Datafile"
   ]
  },
  {
   "cell_type": "code",
   "execution_count": null,
   "metadata": {},
   "outputs": [],
   "source": [
    "dFile = input(\"Enter Path of FASTA file storage\")  #defining path of data file location"
   ]
  },
  {
   "cell_type": "code",
   "execution_count": null,
   "metadata": {},
   "outputs": [],
   "source": [
    "def FA_FILEparse(faFILE):\n",
    "    h = open(faFILE)\n",
    "    name = None\n",
    "    seq = \"\"\n",
    "    for line in fh:\n",
    "        if line.startswith(\">\"):\n",
    "            if name:\n",
    "                yield (name,seq)\n",
    "                name = None\n",
    "                seq = \"\"\n",
    "            name = line.rstrip().lstrip(\">\")\n",
    "\n",
    "        else:\n",
    "            seq += line.rstrip()\n",
    "\n",
    "    yield name,seq\n",
    "def dictCreate():\n",
    "    retDir ={}\n",
    "    for name, seq in FA_FILEparse(dFile):\n",
    "        retDir[name] = seq\n",
    "    return retDir"
   ]
  },
  {
   "cell_type": "code",
   "execution_count": null,
   "metadata": {},
   "outputs": [],
   "source": [
    "print(dFile)"
   ]
  },
  {
   "cell_type": "code",
   "execution_count": null,
   "metadata": {},
   "outputs": [],
   "source": [
    "myworkingDIR = dictCreate()"
   ]
  },
  {
   "cell_type": "code",
   "execution_count": null,
   "metadata": {},
   "outputs": [],
   "source": [
    "print(mworkingDIR)"
   ]
  },
  {
   "cell_type": "code",
   "execution_count": null,
   "metadata": {},
   "outputs": [],
   "source": []
  }
 ],
 "metadata": {
  "kernelspec": {
   "display_name": "Python 3",
   "language": "python",
   "name": "python3"
  },
  "language_info": {
   "codemirror_mode": {
    "name": "ipython",
    "version": 3
   },
   "file_extension": ".py",
   "mimetype": "text/x-python",
   "name": "python",
   "nbconvert_exporter": "python",
   "pygments_lexer": "ipython3",
   "version": "3.7.3"
  }
 },
 "nbformat": 4,
 "nbformat_minor": 2
}
