{
 "cells": [
  {
   "cell_type": "code",
   "execution_count": 14,
   "metadata": {},
   "outputs": [],
   "source": [
    "class Sequence:   #Class to define sequence search\n",
    "    def __init__(self,myID,searchString,Header):\n",
    "        self.recID = myID\n",
    "        self.searchSTR = searchString\n",
    "        self.testHeader = Header\n",
    "        self.HeaderSHORT = Header[0:25]\n",
    "        \n",
    "    def __repr__(self):\n",
    "        return(str(self.searchSTR) + \" is defined\")\n",
    "               "
   ]
  },
  {
   "cell_type": "code",
   "execution_count": 18,
   "metadata": {},
   "outputs": [
    {
     "ename": "SyntaxError",
     "evalue": "invalid syntax (<ipython-input-18-bbd415cbbfe6>, line 21)",
     "output_type": "error",
     "traceback": [
      "\u001b[0;36m  File \u001b[0;32m\"<ipython-input-18-bbd415cbbfe6>\"\u001b[0;36m, line \u001b[0;32m21\u001b[0m\n\u001b[0;31m    self.matchCount += 1\u001b[0m\n\u001b[0m                     ^\u001b[0m\n\u001b[0;31mSyntaxError\u001b[0m\u001b[0;31m:\u001b[0m invalid syntax\n"
     ]
    }
   ],
   "source": [
    "class SequenceRecord:      #Sequence records based of sequence search from the data file\n",
    "    def __init__(self,recID,SE):\n",
    "        self.recordID = recID\n",
    "        self.SEQ = SE\n",
    "        self.matchCount = 0\n",
    "        \n",
    "    def __repr__(self):\n",
    "        if self.matchCount == 0:\n",
    "            return (\"Record \"+str(self.recordID)+ \" and search sequence = \"+str(self.SEQ.searchSTR)+\"\\nThere were no returned results\")\n",
    "        else:\n",
    "            return(\"Record \"+str(self.recordID)+ \" and search sequence = \"+str(self.SEQ.searchSTR)+\"\\nTesting \"+str(self.testSampshort)+\"\\nrresults: \"+str(self.matchCount))\n",
    "   \n",
    "    def setSample(self, sampleHEAD):\n",
    "        self.testSample = sampleHEAD\n",
    "        self.testSampshort = sampleHEAD[0:25]\n",
    "        \n",
    "    def searchSEQ(self, dictSEQ):\n",
    "        for name, seq in dictSEQ.items():\n",
    "            for i in range(len(seq)):\n",
    "                if seq[i:i+len(self.SEQ.searchSTR) == self.SEQ.searchSTR:\n",
    "                    self.matchCount += 1      \n",
    "                "
   ]
  },
  {
   "cell_type": "markdown",
   "metadata": {},
   "source": [
    "#supply file path of Datafile"
   ]
  },
  {
   "cell_type": "code",
   "execution_count": 3,
   "metadata": {},
   "outputs": [
    {
     "name": "stdout",
     "output_type": "stream",
     "text": [
      "Enter Path of FASTA file storage SampleData.fa\n"
     ]
    }
   ],
   "source": [
    "dFile = input(\"Enter Path of FASTA file storage \")  #defining path of data file location"
   ]
  },
  {
   "cell_type": "code",
   "execution_count": 4,
   "metadata": {},
   "outputs": [],
   "source": [
    "def FA_FILEparse(faFILE):\n",
    "    h = open(faFILE)\n",
    "    #dataF = fr.read_csv\n",
    "    name = None\n",
    "    seq = \"\"\n",
    "    for line in h:\n",
    "        if line.startswith(\">\"):\n",
    "            if name:\n",
    "                yield (name,seq)\n",
    "                name = None\n",
    "                seq = \"\"\n",
    "            name = line.rstrip().lstrip(\">\")\n",
    "\n",
    "        else:\n",
    "            seq += line.rstrip()\n",
    "\n",
    "    yield name,seq\n",
    "def dictCreate(faDataFile):\n",
    "    retDir ={}\n",
    "    for name, seq in FA_FILEparse(faDataFile):\n",
    "        retDir[name] = seq\n",
    "    return retDir\n",
    "def prettyDictPRT(faDICT):\n",
    "    for name,seq in myworkingDICT.items():\n",
    "        print(\"---------------------------------------------------------\\n\"+str(name)+\"\\n---------------------------------------------------------\\n\"+str(seq)+\"\\n*\\n*\\n\")\n",
    "    "
   ]
  },
  {
   "cell_type": "code",
   "execution_count": 5,
   "metadata": {},
   "outputs": [],
   "source": [
    "myworkingDICT= dictCreate(dFile)"
   ]
  },
  {
   "cell_type": "code",
   "execution_count": 6,
   "metadata": {},
   "outputs": [
    {
     "name": "stdout",
     "output_type": "stream",
     "text": [
      "TGAAGA is defined\n",
      "GGTGAACTC is defined\n",
      "TTCCC is defined\n"
     ]
    }
   ],
   "source": [
    "t1 = Sequence(1,\"TGAAGA\")\n",
    "t2 = Sequence(2,\"GGTGAACTC\")\n",
    "t3 = Sequence(3,\"TTCCC\")\n",
    "print(t1)\n",
    "print(t2)\n",
    "print(t3)"
   ]
  },
  {
   "cell_type": "code",
   "execution_count": 12,
   "metadata": {},
   "outputs": [],
   "source": [
    "sampRec1 = SequenceRecord(1,t1)\n",
    "sampRec2 = SequenceRecord(2,t2)\n",
    "sampRec3 = SequenceRecord(3,t3)"
   ]
  },
  {
   "cell_type": "code",
   "execution_count": 13,
   "metadata": {},
   "outputs": [
    {
     "name": "stdout",
     "output_type": "stream",
     "text": [
      "1 and search sequence = TGAAGA\n",
      "There were no returned results\n",
      "2 and search sequence = GGTGAACTC\n",
      "There were no returned results\n",
      "3 and search sequence = TTCCC\n",
      "There were no returned results\n"
     ]
    }
   ],
   "source": [
    "print(sampRec1)\n",
    "print(sampRec2)\n",
    "print(sampRec3)"
   ]
  },
  {
   "cell_type": "code",
   "execution_count": 9,
   "metadata": {},
   "outputs": [
    {
     "ename": "TypeError",
     "evalue": "'SeqenceRecord' object is not subscriptable",
     "output_type": "error",
     "traceback": [
      "\u001b[0;31m---------------------------------------------------------------------------\u001b[0m",
      "\u001b[0;31mTypeError\u001b[0m                                 Traceback (most recent call last)",
      "\u001b[0;32m<ipython-input-9-448693acef50>\u001b[0m in \u001b[0;36m<module>\u001b[0;34m()\u001b[0m\n\u001b[0;32m----> 1\u001b[0;31m \u001b[0mSeqenceRecord\u001b[0m\u001b[0;34m.\u001b[0m\u001b[0msearchSEQ\u001b[0m\u001b[0;34m(\u001b[0m\u001b[0msampRec1\u001b[0m\u001b[0;34m,\u001b[0m\u001b[0mmyworkingDICT\u001b[0m\u001b[0;34m)\u001b[0m\u001b[0;34m\u001b[0m\u001b[0;34m\u001b[0m\u001b[0m\n\u001b[0m\u001b[1;32m      2\u001b[0m \u001b[0mSeqenceRecord\u001b[0m\u001b[0;34m.\u001b[0m\u001b[0msearchSEQ\u001b[0m\u001b[0;34m(\u001b[0m\u001b[0msampRec2\u001b[0m\u001b[0;34m,\u001b[0m\u001b[0mmyworkingDICT\u001b[0m\u001b[0;34m)\u001b[0m\u001b[0;34m\u001b[0m\u001b[0;34m\u001b[0m\u001b[0m\n\u001b[1;32m      3\u001b[0m \u001b[0mSeqenceRecord\u001b[0m\u001b[0;34m.\u001b[0m\u001b[0msearchSEQ\u001b[0m\u001b[0;34m(\u001b[0m\u001b[0msampRec3\u001b[0m\u001b[0;34m,\u001b[0m\u001b[0mmyworkingDICT\u001b[0m\u001b[0;34m)\u001b[0m\u001b[0;34m\u001b[0m\u001b[0;34m\u001b[0m\u001b[0m\n",
      "\u001b[0;32m<ipython-input-2-8108769ac886>\u001b[0m in \u001b[0;36msearchSEQ\u001b[0;34m(self, dictSEQ)\u001b[0m\n\u001b[1;32m     27\u001b[0m                 \u001b[0mselfID\u001b[0m \u001b[0;34m=\u001b[0m  \u001b[0mself\u001b[0m\u001b[0;34m.\u001b[0m\u001b[0mrecordID\u001b[0m \u001b[0;34m+\u001b[0m \u001b[0;36m1\u001b[0m\u001b[0;34m\u001b[0m\u001b[0;34m\u001b[0m\u001b[0m\n\u001b[1;32m     28\u001b[0m             \u001b[0;32mfor\u001b[0m \u001b[0mi\u001b[0m \u001b[0;32min\u001b[0m \u001b[0mrange\u001b[0m\u001b[0;34m(\u001b[0m\u001b[0mlen\u001b[0m\u001b[0;34m(\u001b[0m\u001b[0mseq\u001b[0m\u001b[0;34m)\u001b[0m\u001b[0;34m)\u001b[0m\u001b[0;34m:\u001b[0m\u001b[0;34m\u001b[0m\u001b[0;34m\u001b[0m\u001b[0m\n\u001b[0;32m---> 29\u001b[0;31m                 \u001b[0;32mif\u001b[0m \u001b[0mseq\u001b[0m\u001b[0;34m[\u001b[0m\u001b[0mi\u001b[0m\u001b[0;34m:\u001b[0m\u001b[0mi\u001b[0m\u001b[0;34m+\u001b[0m\u001b[0mlen\u001b[0m\u001b[0;34m(\u001b[0m\u001b[0mself\u001b[0m\u001b[0;34m[\u001b[0m\u001b[0mselfID\u001b[0m\u001b[0;34m]\u001b[0m\u001b[0;34m.\u001b[0m\u001b[0mSEQ\u001b[0m\u001b[0;34m.\u001b[0m\u001b[0msearchSTR\u001b[0m\u001b[0;34m)\u001b[0m\u001b[0;34m]\u001b[0m \u001b[0;34m==\u001b[0m \u001b[0mself\u001b[0m\u001b[0;34m[\u001b[0m\u001b[0mselfID\u001b[0m\u001b[0;34m]\u001b[0m\u001b[0;34m.\u001b[0m\u001b[0mSEQ\u001b[0m\u001b[0;34m.\u001b[0m\u001b[0msearchSTR\u001b[0m\u001b[0;34m:\u001b[0m\u001b[0;34m\u001b[0m\u001b[0;34m\u001b[0m\u001b[0m\n\u001b[0m\u001b[1;32m     30\u001b[0m                     \u001b[0mself\u001b[0m\u001b[0;34m.\u001b[0m\u001b[0mmatchCount\u001b[0m \u001b[0;34m+=\u001b[0m \u001b[0;36m1\u001b[0m\u001b[0;34m\u001b[0m\u001b[0;34m\u001b[0m\u001b[0m\n\u001b[1;32m     31\u001b[0m \u001b[0;34m\u001b[0m\u001b[0m\n",
      "\u001b[0;31mTypeError\u001b[0m: 'SeqenceRecord' object is not subscriptable"
     ]
    }
   ],
   "source": [
    "SeqenceRecord.searchSEQ(sampRec1,myworkingDICT)\n",
    "SeqenceRecord.searchSEQ(sampRec2,myworkingDICT)\n",
    "SeqenceRecord.searchSEQ(sampRec3,myworkingDICT)"
   ]
  },
  {
   "cell_type": "code",
   "execution_count": null,
   "metadata": {},
   "outputs": [],
   "source": [
    "print(sampRec1)\n",
    "print(sampRec2)\n",
    "print(sampRec3)"
   ]
  },
  {
   "cell_type": "code",
   "execution_count": null,
   "metadata": {},
   "outputs": [],
   "source": []
  }
 ],
 "metadata": {
  "kernelspec": {
   "display_name": "Python 3",
   "language": "python",
   "name": "python3"
  },
  "language_info": {
   "codemirror_mode": {
    "name": "ipython",
    "version": 3
   },
   "file_extension": ".py",
   "mimetype": "text/x-python",
   "name": "python",
   "nbconvert_exporter": "python",
   "pygments_lexer": "ipython3",
   "version": "3.7.1"
  }
 },
 "nbformat": 4,
 "nbformat_minor": 2
}
