{
 "cells": [
  {
   "cell_type": "code",
   "execution_count": 3,
   "metadata": {},
   "outputs": [],
   "source": [
    "class Sequence:   #Class to define sequence search\n",
    "    def __init__(self,searchString,baseDES):\n",
    "        self.searchSTR = searchString\n",
    "    def __repr__(self):\n",
    "        return(str(self.searchSTR) + \"is defined\")\n",
    "               "
   ]
  },
  {
   "cell_type": "code",
   "execution_count": 23,
   "metadata": {},
   "outputs": [],
   "source": [
    "class SeqenceRecord:      #Sequence records based of sequence search from the data file\n",
    "    def __init__(self,recID,SE):\n",
    "        self.recordID = recID\n",
    "        self.SEQ = SE\n",
    "        self.testSample == \"\"\n",
    "        self.testSampshort = \"\"\n",
    "        self.matchCount = 0\n",
    "        \n",
    "    def __repr__(self):\n",
    "        if self.matchCount == 0:\n",
    "            return (str(self.recordID)+ \" and search sequence = \"+str(self.SEQ)+\"\\nThere were no returned results\")\n",
    "        else:\n",
    "            return(str(self.recordID)+ \" and search sequence = \"+str(self.SEQ)+\"\\nTesting \"+str(self.SEQshort)+\"\\nrresults: \"+str(self.matchCount))\n",
    "    def searchSEQ(self,SEQdict):\n",
    "        for seq, seqD in SEQdict:\n",
    "            self.testSEQ = seq\n",
    "            for i in range(len(seqD)):\n",
    "                if seqD[i:i+len(self.SEQ)] == self.SEQ:\n",
    "                    self.matchCount += 1\n",
    "        \n",
    "                    "
   ]
  },
  {
   "cell_type": "markdown",
   "metadata": {},
   "source": [
    "#supply file path of Datafile"
   ]
  },
  {
   "cell_type": "code",
   "execution_count": 5,
   "metadata": {},
   "outputs": [
    {
     "name": "stdout",
     "output_type": "stream",
     "text": [
      "Enter Path of FASTA file storageC:\\PRGZ\\LocalGIT_rep\\PubRepo\\ObjectLab_01\\SampleData.fa\n"
     ]
    }
   ],
   "source": [
    "dFile = input(\"Enter Path of FASTA file storage\")  #defining path of data file location"
   ]
  },
  {
   "cell_type": "code",
   "execution_count": 9,
   "metadata": {},
   "outputs": [],
   "source": [
    "def FA_FILEparse(faFILE):\n",
    "    h = open(faFILE)\n",
    "    #dataF = fr.read_csv\n",
    "    name = None\n",
    "    seq = \"\"\n",
    "    for line in h:\n",
    "        if line.startswith(\">\"):\n",
    "            if name:\n",
    "                yield (name,seq)\n",
    "                name = None\n",
    "                seq = \"\"\n",
    "            name = line.rstrip().lstrip(\">\")\n",
    "\n",
    "        else:\n",
    "            seq += line.rstrip()\n",
    "\n",
    "    yield name,seq\n",
    "def dictCreate():\n",
    "    retDir ={}\n",
    "    for name, seq in FA_FILEparse(dFile):\n",
    "        retDir[name] = seq\n",
    "    return retDir"
   ]
  },
  {
   "cell_type": "code",
   "execution_count": 10,
   "metadata": {},
   "outputs": [
    {
     "name": "stdout",
     "output_type": "stream",
     "text": [
      "C:\\PRGZ\\LocalGIT_rep\\PubRepo\\ObjectLab_01\\SampleData.fa\n"
     ]
    }
   ],
   "source": [
    "print(dFile)"
   ]
  },
  {
   "cell_type": "code",
   "execution_count": 11,
   "metadata": {},
   "outputs": [],
   "source": [
    "myworkingDIR = dictCreate()"
   ]
  },
  {
   "cell_type": "code",
   "execution_count": 16,
   "metadata": {},
   "outputs": [],
   "source": [
    "t1 = Sequence(1,\"TGAAGA\")\n",
    "t2 = Sequence(2,\"GGTGAACTC\")\n",
    "t2 = Sequence(3,\"TTCCC\")"
   ]
  },
  {
   "cell_type": "code",
   "execution_count": null,
   "metadata": {},
   "outputs": [],
   "source": []
  }
 ],
 "metadata": {
  "kernelspec": {
   "display_name": "Python 3",
   "language": "python",
   "name": "python3"
  },
  "language_info": {
   "codemirror_mode": {
    "name": "ipython",
    "version": 3
   },
   "file_extension": ".py",
   "mimetype": "text/x-python",
   "name": "python",
   "nbconvert_exporter": "python",
   "pygments_lexer": "ipython3",
   "version": "3.7.1"
  }
 },
 "nbformat": 4,
 "nbformat_minor": 2
}
