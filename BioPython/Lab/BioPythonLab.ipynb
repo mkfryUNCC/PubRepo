{
 "cells": [
  {
   "cell_type": "markdown",
   "metadata": {},
   "source": [
    "## Step 1: Using SeqIO, read in and parse the file of apple primary transcripts (available on Canvas):\n",
    "    - During your parsing, create a list of only transcripts of length 125 or less\n",
    "    - Report the number of transcripts matching this criteria\n",
    "    - Translate these sequences to protein, make sure to save them to their own list"
   ]
  },
  {
   "cell_type": "code",
   "execution_count": 4,
   "metadata": {},
   "outputs": [
    {
     "name": "stdout",
     "output_type": "stream",
     "text": [
      "Total transcripts with length of 125 or less: 62\n",
      "ID: MD10G1061500\n",
      "Name: MD10G1061500\n",
      "Description: MD10G1061500 pacid=40090284 polypeptide=MD10G1061500 locus=MD10G1061500 ID=MD10G1061500.v1.1.491 annot-version=v1.1\n",
      "Number of features: 0\n",
      "Seq('ATGTACGGAGCAGGAGCTAAAGAAGATCTTCAACTATGTAGTGGTTGTCTTTGC...TAG', SingleLetterAlphabet())\n"
     ]
    }
   ],
   "source": [
    "#renamed FASTA file to testfile.fa, org name was Mdomestica_491_v1.1.cds_primaryTranscriptOnly\n",
    "from Bio import SeqIO\n",
    "fileHandle00 =open(\"testfile.fa\")\n",
    "test1objs=SeqIO.parse(fileHandle00,\"fasta\")\n",
    "selTranscripts =[]\n",
    "\n",
    "for rec in test1objs:\n",
    "    if len(rec)<= 125:\n",
    "        selTranscripts.append(rec)\n",
    "        \n",
    "print(\"Total transcripts with length of 125 or less: \"+str(len(selTranscripts)))\n",
    "print(selTranscripts[0])\n"
   ]
  },
  {
   "cell_type": "markdown",
   "metadata": {},
   "source": [
    "## Step 2: Align our small proteins using pairwise2\n",
    "    - Align each protein to each other protein using the blosum62 scoring matrix, a gap opening penalty of -10, and a gap extension penalty of -0.5\n",
    "    - If an alignment scores better than 40, save it.\n",
    "    - Print the highest scoring pairwise alignment\n",
    "    - Take care in how you set up your loops for the pairwise alignments. Each alignment only needs to be done once. If you've already tested the alignment of seq1 vs seq5, don't align seq5 vs seq1.\n",
    "    "
   ]
  },
  {
   "cell_type": "code",
   "execution_count": null,
   "metadata": {},
   "outputs": [],
   "source": []
  },
  {
   "cell_type": "markdown",
   "metadata": {},
   "source": [
    "## Step 3: Running BLAST and reading results\n",
    "     *Because we are doing a web BLAST, choose ONLY one sequence from our list of short proteins*.\n",
    "    - Run BLAST with your sequence against the NR database\n",
    "    - Parse the results. Report any HSPs with an E-value less than 0.05 and show the HSP alignments, including the name of the matching sequence. If no HSPs meet that criteria, report the highest scoring pair.\n",
    "    - If for whatever reason the sequence you selected fails to return any results, try a new one "
   ]
  },
  {
   "cell_type": "code",
   "execution_count": null,
   "metadata": {},
   "outputs": [],
   "source": []
  }
 ],
 "metadata": {
  "kernelspec": {
   "display_name": "Python 3",
   "language": "python",
   "name": "python3"
  },
  "language_info": {
   "codemirror_mode": {
    "name": "ipython",
    "version": 3
   },
   "file_extension": ".py",
   "mimetype": "text/x-python",
   "name": "python",
   "nbconvert_exporter": "python",
   "pygments_lexer": "ipython3",
   "version": "3.7.1"
  }
 },
 "nbformat": 4,
 "nbformat_minor": 2
}
