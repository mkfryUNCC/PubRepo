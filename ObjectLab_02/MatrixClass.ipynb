{
 "cells": [
  {
   "cell_type": "markdown",
   "metadata": {},
   "source": [
    "# A class to harness integer matrices, row/column search functionality, addition and multiplication of matrices"
   ]
  },
  {
   "cell_type": "code",
   "execution_count": 1,
   "metadata": {},
   "outputs": [],
   "source": [
    "import random as r"
   ]
  },
  {
   "cell_type": "markdown",
   "metadata": {},
   "source": [
    "### defined random integer list for usage in new Matrices"
   ]
  },
  {
   "cell_type": "code",
   "execution_count": 2,
   "metadata": {},
   "outputs": [],
   "source": [
    "def makeList(lenOflist,startRand,endRand):\n",
    "    retList =[]\n",
    "    for i in range(0,lenOflist):\n",
    "        retList.append(r.randint(startRand,endRand))\n",
    "    return retList"
   ]
  },
  {
   "cell_type": "markdown",
   "metadata": {},
   "source": [
    "### Matrix class to harness initialization of new Matrix, with functions to perform opertions upon matrix"
   ]
  },
  {
   "cell_type": "code",
   "execution_count": 3,
   "metadata": {},
   "outputs": [],
   "source": [
    "class Matrix:\n",
    "    def __init__(self,cols,rows,randomMax,name,genEmpty):  \n",
    "        #initalize with row count, column count, the Maximum random integer for creation,\n",
    "        #matrix name, and a Boolean expression if to create an empty list for Row Entry\n",
    "        if type(rows) == int and type(cols) == int and type(randomMax) == int and len(name) > 0:\n",
    "            self.matName = name #name of Matrix\n",
    "            self.randomMax = randomMax #max num of chars in 1 value\n",
    "            self.maxItems = rows * cols #max number of values in Matrix\n",
    "            self.rowEntry=[]  #empty list declaration\n",
    "            self.colCount = cols #harness column count for display\n",
    "            self.rowCount = rows #harness row count for display\n",
    "            if genEmpty == False: # test if requests function returns empty matrix\n",
    "                initItems = makeList(self.maxItems,0,randomMax) # Genteratre random integer list\n",
    "                colAssign = 1\n",
    "                rowAssign = 1\n",
    "                lastposihold = 0\n",
    "                  \n",
    "                while colAssign <= cols+1:     \n",
    "                    if colAssign == 1 :\n",
    "                        self.rowEntry.append(initItems[:cols])\n",
    "                        lastposihold = cols\n",
    "                    else:\n",
    "                        self.rowEntry.append(initItems[lastposihold:(cols*rowAssign)])\n",
    "                        lastposihold = (cols*rowAssign)\n",
    "                    colAssign += 1\n",
    "                    rowAssign += 1\n",
    "        else:\n",
    "            return False\n",
    "        \n",
    "    def getRow(self, Row):   #get values of specific row as list\n",
    "        if Row > 0 and Row-1<= self.rowCount:\n",
    "            retRow=[]\n",
    "            retRow=self.rowEntry[Row-1]\n",
    "            return retRow\n",
    "        else:\n",
    "            return False\n",
    "        \n",
    "    def getCol(self,Col):  # get values of specific Column as list\n",
    "        if Col > 0 and Col <= self.colCount:\n",
    "            retCol=[]\n",
    "            for i in range(0,self.rowCount):\n",
    "                retCol.append(self.rowEntry[i][Col-1])\n",
    "            return retCol  \n",
    "        else:\n",
    "            return False\n",
    "        \n",
    "    def getRowCol(self,Col,Row):    #return Cooridinate value as integer\n",
    "        if Col > 0 and Col <= self.colCount  and Row > 0 and Row <= self.rowCount:\n",
    "            return self.rowEntry[Row-1][Col-1]\n",
    "        else:\n",
    "            return False\n",
    "       \n",
    "    def getRowDetail(self, Row):   #get values of specific row\n",
    "        if Row > 0 and Row-1<= self.rowCount:\n",
    "            return self.matName + \"-Row:\" +str(Row)+\" values\\n\"+str(self.rowEntry[Row-1])\n",
    "        else:\n",
    "            return False\n",
    "        \n",
    "    def getColDetail(self,Col):  # get values of specific Column\n",
    "        if Col > 0 and Col <= self.colCount:\n",
    "            retCol=[]\n",
    "            for i in range(0,self.rowCount):\n",
    "                retCol.append(self.rowEntry[i][Col-1])\n",
    "            return self.matName + \"-Column:\" +str(Col)+\" values\\n\"+str(retCol)\n",
    "        else:\n",
    "            return False\n",
    "        \n",
    "    def getRowColDetail(self,Col,Row):    #return Cooridinate value\n",
    "        if Col > 0 and Col <= self.colCount  and Row > 0 and Row <= self.rowCount:\n",
    "            return str(self.matName) + \"-Row:\" +str(Row)+\", Column: \"+str(Col)+\" value \\n\"+str(self.rowEntry[Row-1][Col-1])\n",
    "        else:\n",
    "            return False\n",
    "   \n",
    "    def addvals(self,mat2):    #add 2 of the same layout matrices\n",
    "        if type(mat2) ==Matrix:\n",
    "            if self.rowCount == mat2.rowCount and self.colCount == mat2.colCount:\n",
    "                maxNum = 0\n",
    "                for i in range(len(self.rowEntry)):\n",
    "                   # iterate through columns of 2ndMatrix\n",
    "                   for j in range(len(mat2.rowEntry[0])):\n",
    "                            if (self.rowEntry[i][j] + mat2.rowEntry[i][j]) > maxNum:\n",
    "                                maxNum = self.rowEntry[i][j] + mat2.rowEntry[i][j]\n",
    "                            self.rowEntry[i][j] += mat2.rowEntry[i][j]\n",
    "                self.randomMax = maxNum\n",
    "            else:\n",
    "                return \"Matrices do not have the same layout\"\n",
    "        else:\n",
    "            return False\n",
    "    \n",
    "    def addtoMAT(self,mat2):\n",
    "       \n",
    "        \n",
    "        if self.rowCount== mat2.rowCount and self.colCount == self.colCount:\n",
    "            for i in range(0,self.rowCount):\n",
    "                for j in range(0,self.colCount):\n",
    "                    self.data[i][j]+=mat2.data[i][j]\n",
    "                    \n",
    "    def multiToNew(self, mat2):\n",
    "        newlst=[]\n",
    "             \n",
    "        if self.colCount== mat2.rowCount:\n",
    "            for i in range(0,self.rowCount):\n",
    "                sublst = []\n",
    "                for j in range (0, mat2.colCount):\n",
    "                    row = self.rowEntry[i]\n",
    "                    col = matrix2.getCol(j)\n",
    "                    rowColSum = 0\n",
    "                    for k in range(0,self.rowCount):\n",
    "                        rowColSum += row[k]*col[k]\n",
    "                    sublst.append(rowColSum)\n",
    "                newlst.append(sublst)\n",
    "            retMat =Matrix(i,j,0,\"prodMatrix\"+str(r.randint(0,1000)),True)\n",
    "            retMat.rowEntry = newlst\n",
    "            return retMat\n",
    "    \n",
    "    def multiplyVals(self,mat2):    #Multiply 2 of the same layout matrices\n",
    "        if type(mat2) ==Matrix:\n",
    "            if self.rowCount == mat2.rowCount and self.colCount == mat2.colCount:\n",
    "                #when creating new Matrix obj, unable to supply Matrix name it was decided \n",
    "                #to use a prodMatrix +random int to avoid conflict with \n",
    "                #an exsisting Matrix name, while understanding  it still is possible but unlikely..\n",
    "                prodMat = Matrix(self.colCount,self.rowCount,0,\"prodMatrix\"+str(r.randint(0,1000)),True)\n",
    "                prodMat.rowEntry = [[0 for cols in range(self.colCount)] for rows in range(self.rowCount)] \n",
    "               # iterate through columns of 1stMatrix\n",
    "                maxNum = 0 \n",
    "                for i in range(len(self.rowEntry)):\n",
    "                   # iterate through columns of 2ndMatrix\n",
    "                   for j in range(len(mat2.rowEntry[0])):\n",
    "                            if (self.rowEntry[i][j] * mat2.rowEntry[i][j]) > maxNum:\n",
    "                                 #reseting the char count for char display\n",
    "                                maxNum = self.rowEntry[i][j] * mat2.rowEntry[i][j]\n",
    "                            prodMat.rowEntry[i][j] += self.rowEntry[i][j] * mat2.rowEntry[i][j]\n",
    "                prodMat.randomMax = maxNum\n",
    "                return prodMat\n",
    "            else:\n",
    "                return \"Matrices do not have the same layout\"\n",
    "        else:\n",
    "            return False\n",
    "    \n",
    "    def __repr__(self):\n",
    "        retStr =self.matName+\" has \"+str(self.colCount)+ \" Columns and \"+str(self.rowCount)+\" Rows\\n-----------------------------------------------------\\n\"\n",
    "        ctr = 1\n",
    "        cols =\"   \"\n",
    "        colsp = \"\"\n",
    "        for l in range(len(str(self.randomMax))):  #put in loop to allow better column number spacing\n",
    "            colsp = colsp+\" \"\n",
    "        while ctr <= self.colCount:#a loop to iterate thru column numbering\n",
    "            cols = cols + str(ctr)+ colsp\n",
    "            ctr += 1\n",
    "        ctr = 1\n",
    "        retStr =retStr + cols +\"\\n   --------------------------------------------------\\n\"\n",
    "        for z in self.rowEntry:\n",
    "                retStr = retStr + str(ctr) + \"-|\"+str(z)+\"\\n\" #loop thur rows with row numbering\n",
    "                ctr += 1\n",
    "        return(retStr+\"-----------------------------------------------------\")"
   ]
  },
  {
   "cell_type": "markdown",
   "metadata": {},
   "source": [
    "### define new matrices, return products of 1st and 2nd matrices in a new matrix class"
   ]
  },
  {
   "cell_type": "code",
   "execution_count": 4,
   "metadata": {},
   "outputs": [],
   "source": [
    "myMatrix1 = Matrix(10,11,100,\"matrix1\",False)\n",
    "myMatrix2 = Matrix(10,11,10,\"matrix2\",False)\n",
    "myMatrixProd =myMatrix1.multiToNew(myMatrix2)"
   ]
  },
  {
   "cell_type": "markdown",
   "metadata": {},
   "source": [
    "### print routines to return Matrix population and respective data selections"
   ]
  },
  {
   "cell_type": "code",
   "execution_count": 7,
   "metadata": {},
   "outputs": [
    {
     "name": "stdout",
     "output_type": "stream",
     "text": [
      "matrix1 has 10 Columns and 11 Rows\n",
      "-----------------------------------------------------\n",
      "   1   2   3   4   5   6   7   8   9   10   \n",
      "   --------------------------------------------------\n",
      "1-|[53, 62, 86, 97, 59, 80, 65, 65, 83, 92]\n",
      "2-|[80, 55, 40, 89, 83, 21, 48, 20, 63, 48]\n",
      "3-|[46, 45, 14, 8, 88, 5, 52, 28, 11, 1]\n",
      "4-|[44, 71, 88, 98, 14, 8, 2, 60, 10, 40]\n",
      "5-|[39, 60, 57, 25, 22, 37, 27, 99, 85, 4]\n",
      "6-|[19, 14, 98, 45, 24, 6, 49, 0, 97, 41]\n",
      "7-|[15, 9, 56, 57, 91, 19, 81, 25, 73, 93]\n",
      "8-|[37, 37, 79, 52, 53, 97, 91, 56, 31, 17]\n",
      "9-|[40, 78, 67, 62, 54, 100, 66, 48, 47, 64]\n",
      "10-|[44, 33, 49, 28, 11, 90, 100, 1, 6, 82]\n",
      "11-|[30, 52, 16, 53, 53, 18, 37, 58, 42, 40]\n",
      "-----------------------------------------------------\n",
      "matrix2 has 10 Columns and 11 Rows\n",
      "-----------------------------------------------------\n",
      "   1  2  3  4  5  6  7  8  9  10  \n",
      "   --------------------------------------------------\n",
      "1-|[8, 5, 10, 4, 4, 1, 0, 8, 2, 7]\n",
      "2-|[6, 9, 0, 6, 2, 5, 1, 7, 10, 9]\n",
      "3-|[6, 7, 6, 1, 9, 0, 8, 1, 7, 7]\n",
      "4-|[3, 0, 10, 9, 10, 0, 8, 5, 1, 0]\n",
      "5-|[7, 4, 10, 8, 4, 6, 4, 5, 9, 2]\n",
      "6-|[3, 9, 1, 3, 2, 9, 7, 5, 4, 0]\n",
      "7-|[9, 2, 5, 4, 8, 3, 9, 0, 6, 9]\n",
      "8-|[5, 7, 2, 8, 6, 9, 5, 5, 5, 3]\n",
      "9-|[10, 7, 10, 3, 0, 9, 5, 6, 6, 7]\n",
      "10-|[8, 0, 9, 6, 2, 2, 9, 8, 6, 6]\n",
      "11-|[4, 9, 5, 6, 5, 7, 1, 3, 1, 6]\n",
      "-----------------------------------------------------\n",
      "None\n",
      "-----------List/Int Returns-----------------------------\n",
      "\n",
      "[44, 71, 88, 98, 14, 8, 2, 60, 10, 40]\n",
      "[0, 1, 8, 8, 4, 7, 9, 5, 5, 9, 1]\n"
     ]
    },
    {
     "ename": "AttributeError",
     "evalue": "'NoneType' object has no attribute 'getRowCol'",
     "output_type": "error",
     "traceback": [
      "\u001b[0;31m---------------------------------------------------------------------------\u001b[0m",
      "\u001b[0;31mAttributeError\u001b[0m                            Traceback (most recent call last)",
      "\u001b[0;32m<ipython-input-7-81f9dcdcb886>\u001b[0m in \u001b[0;36m<module>\u001b[0;34m()\u001b[0m\n\u001b[1;32m      5\u001b[0m \u001b[0mprint\u001b[0m\u001b[0;34m(\u001b[0m\u001b[0mmyMatrix1\u001b[0m\u001b[0;34m.\u001b[0m\u001b[0mgetRow\u001b[0m\u001b[0;34m(\u001b[0m\u001b[0;36m4\u001b[0m\u001b[0;34m)\u001b[0m\u001b[0;34m)\u001b[0m \u001b[0;31m#list return\u001b[0m\u001b[0;34m\u001b[0m\u001b[0;34m\u001b[0m\u001b[0m\n\u001b[1;32m      6\u001b[0m \u001b[0mprint\u001b[0m\u001b[0;34m(\u001b[0m\u001b[0mmyMatrix2\u001b[0m\u001b[0;34m.\u001b[0m\u001b[0mgetCol\u001b[0m\u001b[0;34m(\u001b[0m\u001b[0;36m7\u001b[0m\u001b[0;34m)\u001b[0m\u001b[0;34m)\u001b[0m \u001b[0;31m#list retun\u001b[0m\u001b[0;34m\u001b[0m\u001b[0;34m\u001b[0m\u001b[0m\n\u001b[0;32m----> 7\u001b[0;31m \u001b[0mprint\u001b[0m\u001b[0;34m(\u001b[0m\u001b[0mmyMatrixProd\u001b[0m\u001b[0;34m.\u001b[0m\u001b[0mgetRowCol\u001b[0m\u001b[0;34m(\u001b[0m\u001b[0;36m1\u001b[0m\u001b[0;34m,\u001b[0m\u001b[0;36m3\u001b[0m\u001b[0;34m)\u001b[0m\u001b[0;34m)\u001b[0m \u001b[0;31m# int return\u001b[0m\u001b[0;34m\u001b[0m\u001b[0;34m\u001b[0m\u001b[0m\n\u001b[0m\u001b[1;32m      8\u001b[0m \u001b[0mprint\u001b[0m\u001b[0;34m(\u001b[0m\u001b[0;34m\"----------------added readablity------------------------\\n\"\u001b[0m\u001b[0;34m)\u001b[0m\u001b[0;34m\u001b[0m\u001b[0;34m\u001b[0m\u001b[0m\n\u001b[1;32m      9\u001b[0m \u001b[0mprint\u001b[0m\u001b[0;34m(\u001b[0m\u001b[0mmyMatrix1\u001b[0m\u001b[0;34m.\u001b[0m\u001b[0mgetRowDetail\u001b[0m\u001b[0;34m(\u001b[0m\u001b[0;36m4\u001b[0m\u001b[0;34m)\u001b[0m\u001b[0;34m)\u001b[0m\u001b[0;31m# added some functionality to give better readablity\u001b[0m\u001b[0;34m\u001b[0m\u001b[0;34m\u001b[0m\u001b[0m\n",
      "\u001b[0;31mAttributeError\u001b[0m: 'NoneType' object has no attribute 'getRowCol'"
     ]
    }
   ],
   "source": [
    "print(myMatrix1)\n",
    "print(myMatrix2)\n",
    "print(myMatrixProd)\n",
    "print(\"-----------List/Int Returns-----------------------------\\n\")\n",
    "print(myMatrix1.getRow(4)) #list return \n",
    "print(myMatrix2.getCol(7)) #list retun\n",
    "print(myMatrixProd.getRowCol(1,3)) # int return\n",
    "print(\"----------------added readablity------------------------\\n\")\n",
    "print(myMatrix1.getRowDetail(4))# added some functionality to give better readablity\n",
    "print(myMatrix2.getColDetail(7))# added some functionality to give better readablity\n",
    "print(myMatrixProd.getRowColDetail(9,10))# added some functionality to give better readablity"
   ]
  },
  {
   "cell_type": "markdown",
   "metadata": {},
   "source": [
    "#### Modifying exsisting Matrix, reprint to show new results"
   ]
  },
  {
   "cell_type": "code",
   "execution_count": null,
   "metadata": {},
   "outputs": [],
   "source": [
    "myMatrix1.addToMat(myMatrixProd)# function to add to exsisting matrix \n",
    "print(myMatrix1) # reprint to provide updated results"
   ]
  }
 ],
 "metadata": {
  "kernelspec": {
   "display_name": "Python 3",
   "language": "python",
   "name": "python3"
  },
  "language_info": {
   "codemirror_mode": {
    "name": "ipython",
    "version": 3
   },
   "file_extension": ".py",
   "mimetype": "text/x-python",
   "name": "python",
   "nbconvert_exporter": "python",
   "pygments_lexer": "ipython3",
   "version": "3.7.3"
  }
 },
 "nbformat": 4,
 "nbformat_minor": 2
}
