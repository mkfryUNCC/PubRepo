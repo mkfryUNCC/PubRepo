{
 "cells": [
  {
   "cell_type": "markdown",
   "metadata": {},
   "source": [
    "# A class to harness integer matrices, row/column search functionality, addition and multiplication of matrices"
   ]
  },
  {
   "cell_type": "code",
   "execution_count": 1,
   "metadata": {},
   "outputs": [],
   "source": [
    "import random as r"
   ]
  },
  {
   "cell_type": "markdown",
   "metadata": {},
   "source": [
    "### defined random integer list for usage in new Matrices"
   ]
  },
  {
   "cell_type": "code",
   "execution_count": 2,
   "metadata": {},
   "outputs": [],
   "source": [
    "def makeList(lenOflist,startRand,endRand):\n",
    "    retList =[]\n",
    "    for i in range(0,lenOflist):\n",
    "        retList.append(r.randint(startRand,endRand))\n",
    "    return retList"
   ]
  },
  {
   "cell_type": "markdown",
   "metadata": {},
   "source": [
    "### Matrix class to harness initialization of new Matrix, with functions to perform opertions upon matrix"
   ]
  },
  {
   "cell_type": "code",
   "execution_count": 3,
   "metadata": {},
   "outputs": [],
   "source": [
    "class Matrix:\n",
    "    def __init__(self,cols,rows,randomMax,name,genEmpty):  \n",
    "        #initalize with row count, column count, the Maximum random integer for creation,\n",
    "        #matrix name, and a Boolean expression if to create an empty list for Row Entry\n",
    "        if type(rows) == int and type(cols) == int and type(randomMax) == int and len(name) > 0:\n",
    "            self.matName = name #name of Matrix\n",
    "            self.randomMax = randomMax #max num of chars in 1 value\n",
    "            self.maxItems = rows * cols #max number of values in Matrix\n",
    "            self.rowEntry=[]  #empty list declaration\n",
    "            self.colCount = cols #harness column count for display\n",
    "            self.rowCount = rows #harness row count for display\n",
    "            if genEmpty == False: # test if requests function returns empty matrix\n",
    "                initItems = makeList(self.maxItems,0,randomMax) # Genteratre random integer list\n",
    "                colAssign = 1\n",
    "                rowAssign = 1\n",
    "                lastposihold = 0\n",
    "                  \n",
    "                while colAssign <= cols+1:     \n",
    "                    if colAssign == 1 :\n",
    "                        self.rowEntry.append(initItems[:cols])\n",
    "                        lastposihold = cols\n",
    "                    else:\n",
    "                        self.rowEntry.append(initItems[lastposihold:(cols*rowAssign)])\n",
    "                        lastposihold = (cols*rowAssign)\n",
    "                    colAssign += 1\n",
    "                    rowAssign += 1\n",
    "        else:\n",
    "            return False\n",
    "        \n",
    "    def getRow(self, Row):   #get values of specific row as list\n",
    "        if Row > 0 and Row-1<= self.rowCount:\n",
    "            retRow=[]\n",
    "            retRow=self.rowEntry[Row-1]\n",
    "            return retRow\n",
    "        else:\n",
    "            return False\n",
    "        \n",
    "    def getCol(self,Col):  # get values of specific Column as list\n",
    "        if Col > 0 and Col <= self.colCount:\n",
    "            retCol=[]\n",
    "            for i in range(0,self.rowCount):\n",
    "                retCol.append(self.rowEntry[i][Col-1])\n",
    "            return retCol  \n",
    "        else:\n",
    "            return False\n",
    "        \n",
    "    def getRowCol(self,Col,Row):    #return Cooridinate value as integer\n",
    "        if Col > 0 and Col <= self.colCount  and Row > 0 and Row <= self.rowCount:\n",
    "            return self.rowEntry[Row-1][Col-1]\n",
    "        else:\n",
    "            return False\n",
    "       \n",
    "    def getRowDetail(self, Row):   #get values of specific row\n",
    "        if Row > 0 and Row-1<= self.rowCount:\n",
    "            return self.matName + \"-Row:\" +str(Row)+\" values\\n\"+str(self.rowEntry[Row-1])\n",
    "        else:\n",
    "            return False\n",
    "        \n",
    "    def getColDetail(self,Col):  # get values of specific Column\n",
    "        if Col > 0 and Col <= self.colCount:\n",
    "            retCol=[]\n",
    "            for i in range(0,self.rowCount):\n",
    "                retCol.append(self.rowEntry[i][Col-1])\n",
    "            return self.matName + \"-Column:\" +str(Col)+\" values\\n\"+str(retCol)\n",
    "        else:\n",
    "            return False\n",
    "        \n",
    "    def getRowColDetail(self,Col,Row):    #return Cooridinate value\n",
    "        if Col > 0 and Col <= self.colCount  and Row > 0 and Row <= self.rowCount:\n",
    "            return str(self.matName) + \"-Row:\" +str(Row)+\", Column: \"+str(Col)+\" value \\n\"+str(self.rowEntry[Row-1][Col-1])\n",
    "        else:\n",
    "            return False\n",
    "   \n",
    "    def addToMat(self,mat2):    #add 2 of the same layout matrices\n",
    "        if type(mat2) ==Matrix:\n",
    "            if self.rowCount == mat2.rowCount and self.colCount == mat2.colCount:\n",
    "                maxNum = 0\n",
    "                for i in range(len(self.rowEntry)):\n",
    "                   # iterate through columns of 2ndMatrix\n",
    "                   for j in range(len(mat2.rowEntry[0])):\n",
    "                            if (self.rowEntry[i][j] + mat2.rowEntry[i][j]) > maxNum:\n",
    "                                maxNum = self.rowEntry[i][j] + mat2.rowEntry[i][j]\n",
    "                            self.rowEntry[i][j] += mat2.rowEntry[i][j]\n",
    "                self.randomMax = maxNum\n",
    "            else:\n",
    "                return \"Matrices do not have the same layout\"\n",
    "        else:\n",
    "            return False\n",
    "        \n",
    "    \n",
    "    def matMulti(self,mat2):    #Multiply 2 of the same layout matrices\n",
    "        if type(mat2) ==Matrix:\n",
    "            if self.rowCount == mat2.rowCount and self.colCount == mat2.colCount:\n",
    "                #when creating new Matrix obj, unable to supply Matrix name it was decided \n",
    "                #to use a prodMatrix +random int to avoid conflict with \n",
    "                #an exsisting Matrix name, while understanding  it still is possible but unlikely..\n",
    "                prodMat = Matrix(self.colCount,self.rowCount,0,\"prodMatrix\"+str(r.randint(0,1000)),True)\n",
    "                prodMat.rowEntry = [[0 for cols in range(self.colCount)] for rows in range(self.rowCount)] \n",
    "               # iterate through columns of 1stMatrix\n",
    "                maxNum = 0 \n",
    "                for i in range(len(self.rowEntry)):\n",
    "                   # iterate through columns of 2ndMatrix\n",
    "                   for j in range(len(mat2.rowEntry[0])):\n",
    "                            if (self.rowEntry[i][j] * mat2.rowEntry[i][j]) > maxNum:\n",
    "                                 #reseting the char count for char display\n",
    "                                maxNum = self.rowEntry[i][j] * mat2.rowEntry[i][j]\n",
    "                            prodMat.rowEntry[i][j] += self.rowEntry[i][j] * mat2.rowEntry[i][j]\n",
    "                prodMat.randomMax = maxNum\n",
    "                return prodMat\n",
    "            else:\n",
    "                return \"Matrices do not have the same layout\"\n",
    "        else:\n",
    "            return False\n",
    "    \n",
    "    def __repr__(self):\n",
    "        retStr =self.matName+\" has \"+str(self.colCount)+ \" Columns and \"+str(self.rowCount)+\" Rows\\n-----------------------------------------------------\\n\"\n",
    "        ctr = 1\n",
    "        cols =\"   \"\n",
    "        colsp = \"\"\n",
    "        for l in range(len(str(self.randomMax))):  #put in loop to allow better column number spacing\n",
    "            colsp = colsp+\" \"\n",
    "        while ctr <= self.colCount:#a loop to iterate thru column numbering\n",
    "            cols = cols + str(ctr)+ colsp\n",
    "            ctr += 1\n",
    "        ctr = 1\n",
    "        retStr =retStr + cols +\"\\n   --------------------------------------------------\\n\"\n",
    "        for z in self.rowEntry:\n",
    "                retStr = retStr + str(ctr) + \"-|\"+str(z)+\"\\n\" #loop thur rows with row numbering\n",
    "                ctr += 1\n",
    "        return(retStr+\"-----------------------------------------------------\")"
   ]
  },
  {
   "cell_type": "markdown",
   "metadata": {},
   "source": [
    "### define new matrices, return products of 1st and 2nd matrices in a new matrix class"
   ]
  },
  {
   "cell_type": "code",
   "execution_count": 4,
   "metadata": {},
   "outputs": [],
   "source": [
    "myMatrix1 = Matrix(10,11,100,\"matrix1\",False)\n",
    "myMatrix2 = Matrix(10,11,10,\"matrix2\",False)\n",
    "myMatrixProd = Matrix.matMulti(myMatrix1,myMatrix2)"
   ]
  },
  {
   "cell_type": "markdown",
   "metadata": {},
   "source": [
    "### print routines to return Matrix population and respective data selections"
   ]
  },
  {
   "cell_type": "code",
   "execution_count": 5,
   "metadata": {},
   "outputs": [
    {
     "name": "stdout",
     "output_type": "stream",
     "text": [
      "matrix1 has 10 Columns and 11 Rows\n",
      "-----------------------------------------------------\n",
      "   1   2   3   4   5   6   7   8   9   10   \n",
      "   --------------------------------------------------\n",
      "1-|[27, 35, 72, 64, 62, 10, 95, 100, 22, 77]\n",
      "2-|[21, 78, 36, 15, 34, 21, 28, 91, 68, 57]\n",
      "3-|[99, 62, 72, 81, 86, 83, 99, 75, 73, 20]\n",
      "4-|[94, 24, 84, 25, 61, 95, 48, 99, 57, 99]\n",
      "5-|[58, 65, 31, 13, 85, 15, 72, 38, 76, 76]\n",
      "6-|[18, 73, 58, 29, 47, 4, 62, 11, 77, 45]\n",
      "7-|[68, 84, 51, 36, 50, 68, 62, 22, 20, 5]\n",
      "8-|[43, 33, 96, 50, 71, 22, 77, 71, 86, 64]\n",
      "9-|[49, 66, 69, 90, 85, 26, 35, 7, 79, 75]\n",
      "10-|[42, 98, 41, 49, 70, 98, 3, 90, 55, 37]\n",
      "11-|[92, 52, 8, 15, 30, 5, 21, 70, 34, 86]\n",
      "-----------------------------------------------------\n",
      "matrix2 has 10 Columns and 11 Rows\n",
      "-----------------------------------------------------\n",
      "   1  2  3  4  5  6  7  8  9  10  \n",
      "   --------------------------------------------------\n",
      "1-|[8, 10, 10, 8, 1, 3, 3, 3, 9, 5]\n",
      "2-|[8, 6, 2, 0, 3, 6, 1, 1, 6, 6]\n",
      "3-|[2, 1, 1, 9, 9, 8, 0, 8, 5, 0]\n",
      "4-|[6, 4, 2, 10, 8, 4, 2, 2, 1, 8]\n",
      "5-|[8, 2, 8, 9, 8, 9, 2, 6, 9, 3]\n",
      "6-|[1, 4, 8, 4, 0, 7, 6, 1, 9, 7]\n",
      "7-|[4, 3, 9, 3, 10, 4, 6, 1, 7, 9]\n",
      "8-|[10, 7, 1, 5, 1, 8, 5, 0, 7, 10]\n",
      "9-|[3, 7, 5, 5, 5, 1, 1, 1, 4, 8]\n",
      "10-|[7, 7, 8, 10, 7, 1, 10, 8, 1, 2]\n",
      "11-|[4, 0, 1, 8, 5, 3, 9, 0, 1, 10]\n",
      "-----------------------------------------------------\n",
      "prodMatrix813 has 10 Columns and 11 Rows\n",
      "-----------------------------------------------------\n",
      "   1   2   3   4   5   6   7   8   9   10   \n",
      "   --------------------------------------------------\n",
      "1-|[216, 350, 720, 512, 62, 30, 285, 300, 198, 385]\n",
      "2-|[168, 468, 72, 0, 102, 126, 28, 91, 408, 342]\n",
      "3-|[198, 62, 72, 729, 774, 664, 0, 600, 365, 0]\n",
      "4-|[564, 96, 168, 250, 488, 380, 96, 198, 57, 792]\n",
      "5-|[464, 130, 248, 117, 680, 135, 144, 228, 684, 228]\n",
      "6-|[18, 292, 464, 116, 0, 28, 372, 11, 693, 315]\n",
      "7-|[272, 252, 459, 108, 500, 272, 372, 22, 140, 45]\n",
      "8-|[430, 231, 96, 250, 71, 176, 385, 0, 602, 640]\n",
      "9-|[147, 462, 345, 450, 425, 26, 35, 7, 316, 600]\n",
      "10-|[294, 686, 328, 490, 490, 98, 30, 720, 55, 74]\n",
      "11-|[368, 0, 8, 120, 150, 15, 189, 0, 34, 860]\n",
      "-----------------------------------------------------\n",
      "-----------List/Int Returns-----------------------------\n",
      "\n",
      "[94, 24, 84, 25, 61, 95, 48, 99, 57, 99]\n",
      "[3, 1, 0, 2, 2, 6, 6, 5, 1, 10, 9]\n",
      "55\n",
      "----------------added readablity------------------------\n",
      "\n",
      "matrix1-Row:4 values\n",
      "[94, 24, 84, 25, 61, 95, 48, 99, 57, 99]\n",
      "matrix2-Column:7 values\n",
      "[3, 1, 0, 2, 2, 6, 6, 5, 1, 10, 9]\n",
      "prodMatrix813-Row:10, Column: 9 value \n",
      "55\n"
     ]
    }
   ],
   "source": [
    "print(myMatrix1)\n",
    "print(myMatrix2)\n",
    "print(myMatrixProd)\n",
    "print(\"-----------List/Int Returns-----------------------------\\n\")\n",
    "print(myMatrix1.getRow(4)) #list return \n",
    "print(myMatrix2.getCol(7)) #list retun\n",
    "print(myMatrixProd.getRowCol(9,10)) # int return\n",
    "print(\"----------------added readablity------------------------\\n\")\n",
    "print(myMatrix1.getRowDetail(4))# added some functionality to give better readablity\n",
    "print(myMatrix2.getColDetail(7))# added some functionality to give better readablity\n",
    "print(myMatrixProd.getRowColDetail(9,10))# added some functionality to give better readablity"
   ]
  },
  {
   "cell_type": "markdown",
   "metadata": {},
   "source": [
    "#### Modifying exsisting Matrix, reprint to show new results"
   ]
  },
  {
   "cell_type": "code",
   "execution_count": 6,
   "metadata": {},
   "outputs": [
    {
     "name": "stdout",
     "output_type": "stream",
     "text": [
      "matrix1 has 10 Columns and 11 Rows\n",
      "-----------------------------------------------------\n",
      "   1   2   3   4   5   6   7   8   9   10   \n",
      "   --------------------------------------------------\n",
      "1-|[243, 385, 792, 576, 124, 40, 380, 400, 220, 462]\n",
      "2-|[189, 546, 108, 15, 136, 147, 56, 182, 476, 399]\n",
      "3-|[297, 124, 144, 810, 860, 747, 99, 675, 438, 20]\n",
      "4-|[658, 120, 252, 275, 549, 475, 144, 297, 114, 891]\n",
      "5-|[522, 195, 279, 130, 765, 150, 216, 266, 760, 304]\n",
      "6-|[36, 365, 522, 145, 47, 32, 434, 22, 770, 360]\n",
      "7-|[340, 336, 510, 144, 550, 340, 434, 44, 160, 50]\n",
      "8-|[473, 264, 192, 300, 142, 198, 462, 71, 688, 704]\n",
      "9-|[196, 528, 414, 540, 510, 52, 70, 14, 395, 675]\n",
      "10-|[336, 784, 369, 539, 560, 196, 33, 810, 110, 111]\n",
      "11-|[460, 52, 16, 135, 180, 20, 210, 70, 68, 946]\n",
      "-----------------------------------------------------\n"
     ]
    }
   ],
   "source": [
    "myMatrix1.addToMat(myMatrixProd)# function to add to exsisting matrix \n",
    "print(myMatrix1) # reprint to provide updated results"
   ]
  }
 ],
 "metadata": {
  "kernelspec": {
   "display_name": "Python 3",
   "language": "python",
   "name": "python3"
  },
  "language_info": {
   "codemirror_mode": {
    "name": "ipython",
    "version": 3
   },
   "file_extension": ".py",
   "mimetype": "text/x-python",
   "name": "python",
   "nbconvert_exporter": "python",
   "pygments_lexer": "ipython3",
   "version": "3.7.3"
  }
 },
 "nbformat": 4,
 "nbformat_minor": 2
}
