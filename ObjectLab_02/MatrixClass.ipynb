{
 "cells": [
  {
   "cell_type": "markdown",
   "metadata": {},
   "source": [
    "# Create Matrix to harness rows and columns "
   ]
  },
  {
   "cell_type": "code",
   "execution_count": 113,
   "metadata": {},
   "outputs": [],
   "source": [
    "import random as r\n",
    "import math as m"
   ]
  },
  {
   "cell_type": "code",
   "execution_count": 114,
   "metadata": {},
   "outputs": [],
   "source": [
    "def makeList(lenOflist):\n",
    "    retList=[]\n",
    "    for i in range(0,lenOflist):\n",
    "        retList.append(r.randint(0,255))\n",
    "    return retList"
   ]
  },
  {
   "cell_type": "code",
   "execution_count": 123,
   "metadata": {},
   "outputs": [],
   "source": [
    "myTestList = makeList(103)"
   ]
  },
  {
   "cell_type": "code",
   "execution_count": 124,
   "metadata": {},
   "outputs": [],
   "source": [
    "class Matrix:\n",
    "    def __init__(self, matrixTablename, rowdata):\n",
    "        if rowdata:\n",
    "            colAssign = 1\n",
    "            rowAssign = 1\n",
    "            lastposihold = 0\n",
    "            self.rowEntry=[]\n",
    "            Col = m.floor(m.sqrt(len(rowdata)))\n",
    "            self.tableName = matrixTablename           \n",
    "            while colAssign <= Col:\n",
    "                if colAssign == Col +1:\n",
    "                    colAssign = 1\n",
    "                \n",
    "                if colAssign ==1:\n",
    "                    self.rowEntry.append(rowdata[:Col])\n",
    "                    lastposihold = Col\n",
    "                else:\n",
    "                    self.rowEntry.append(rowdata[lastposihold:(Col*rowAssign)])\n",
    "                    lastposihold = (Col*rowAssign)\n",
    "                colAssign += 1\n",
    "                rowAssign += 1\n",
    "       \n",
    "    def __repr__(self):\n",
    "        print(\"TableName: \"+str(self.tableName)+\"\\n\")\n",
    "        print(\"--------------------------------------------------------\")\n",
    "        for z in self.rowEntry:\n",
    "            if z:\n",
    "                print(str(z))\n",
    "        print(\"--------------------------------------------------------\")\n",
    "                \n",
    "        \n",
    "              \n",
    "        "
   ]
  },
  {
   "cell_type": "code",
   "execution_count": 125,
   "metadata": {},
   "outputs": [],
   "source": [
    "myMatrix = Matrix(\"testMatrix01\",myTestList)"
   ]
  },
  {
   "cell_type": "code",
   "execution_count": 126,
   "metadata": {},
   "outputs": [
    {
     "name": "stdout",
     "output_type": "stream",
     "text": [
      "TableName: testMatrix01\n",
      "\n",
      "--------------------------------------------------------\n",
      "[126, 78, 190, 16, 67, 70, 250, 255, 105, 105]\n",
      "[236, 240, 246, 143, 74, 99, 239, 65, 66, 230]\n",
      "[40, 28, 9, 14, 200, 239, 162, 165, 115, 38]\n",
      "[0, 215, 28, 3, 84, 123, 232, 11, 58, 47]\n",
      "[223, 121, 217, 216, 66, 173, 151, 237, 97, 77]\n",
      "[220, 133, 44, 11, 13, 166, 172, 142, 194, 205]\n",
      "[232, 68, 10, 144, 64, 78, 132, 166, 29, 220]\n",
      "[253, 65, 201, 203, 43, 36, 79, 18, 49, 209]\n",
      "[42, 214, 181, 78, 81, 165, 150, 229, 29, 178]\n",
      "[103, 205, 73, 140, 234, 109, 211, 212, 57, 156]\n",
      "--------------------------------------------------------\n"
     ]
    },
    {
     "ename": "TypeError",
     "evalue": "__str__ returned non-string (type NoneType)",
     "output_type": "error",
     "traceback": [
      "\u001b[0;31m---------------------------------------------------------------------------\u001b[0m",
      "\u001b[0;31mTypeError\u001b[0m                                 Traceback (most recent call last)",
      "\u001b[0;32m<ipython-input-126-21df90d01e9f>\u001b[0m in \u001b[0;36m<module>\u001b[0;34m()\u001b[0m\n\u001b[0;32m----> 1\u001b[0;31m \u001b[0mprint\u001b[0m\u001b[0;34m(\u001b[0m\u001b[0mmyMatrix\u001b[0m\u001b[0;34m)\u001b[0m\u001b[0;34m\u001b[0m\u001b[0;34m\u001b[0m\u001b[0m\n\u001b[0m",
      "\u001b[0;31mTypeError\u001b[0m: __str__ returned non-string (type NoneType)"
     ]
    }
   ],
   "source": [
    "print(myMatrix)"
   ]
  },
  {
   "cell_type": "code",
   "execution_count": null,
   "metadata": {},
   "outputs": [],
   "source": []
  }
 ],
 "metadata": {
  "kernelspec": {
   "display_name": "Python 3",
   "language": "python",
   "name": "python3"
  },
  "language_info": {
   "codemirror_mode": {
    "name": "ipython",
    "version": 3
   },
   "file_extension": ".py",
   "mimetype": "text/x-python",
   "name": "python",
   "nbconvert_exporter": "python",
   "pygments_lexer": "ipython3",
   "version": "3.7.3"
  }
 },
 "nbformat": 4,
 "nbformat_minor": 2
}
