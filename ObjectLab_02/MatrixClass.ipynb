{
 "cells": [
  {
   "cell_type": "markdown",
   "metadata": {},
   "source": [
    "# Create Matrix to harness rows and columns "
   ]
  },
  {
   "cell_type": "code",
   "execution_count": 27,
   "metadata": {},
   "outputs": [],
   "source": [
    "import random as r\n",
    "import math as m"
   ]
  },
  {
   "cell_type": "code",
   "execution_count": 28,
   "metadata": {},
   "outputs": [],
   "source": [
    "def makeSQUAREList(lenOflist):\n",
    "    if m.remainder(m.sqrt(lenOflist),1) == 0:\n",
    "        retList=[]\n",
    "        for i in range(0,lenOflist):\n",
    "            retList.append(r.randint(0,255))\n",
    "        return retList\n",
    "    else:\n",
    "        print(\"Please return a perfect square integer EX: 4, 9, 16 etc\")"
   ]
  },
  {
   "cell_type": "code",
   "execution_count": 29,
   "metadata": {},
   "outputs": [
    {
     "data": {
      "text/plain": [
       "list"
      ]
     },
     "execution_count": 29,
     "metadata": {},
     "output_type": "execute_result"
    }
   ],
   "source": [
    "myTestList = makeSQUAREList(100)"
   ]
  },
  {
   "cell_type": "code",
   "execution_count": 68,
   "metadata": {},
   "outputs": [],
   "source": [
    "class Matrix:\n",
    "    def __init__(self, rowdata):\n",
    "        if type(rowdata) == list:\n",
    "            colAssign = 1\n",
    "            rowAssign = 1\n",
    "            lastposihold = 0\n",
    "            rowShort = 0\n",
    "            self.rowEntry=[]\n",
    "            sqRT = m.sqrt(len(rowdata))\n",
    "            Col = m.floor(sqRT)\n",
    "            self.colCount = Col\n",
    "            #self.rowCount = Col\n",
    "            #if m.remainder(sqRT,1) > 0: \n",
    "               # rowShort = (len(rowdata))-(Col ** 2)\n",
    "               # self.rowCount = Col + 1\n",
    "            while colAssign <= Col+1:     \n",
    "                if colAssign == 1 :\n",
    "                    self.rowEntry.append(rowdata[:Col])\n",
    "                    lastposihold = Col\n",
    "                else:\n",
    "                    if (len(rowdata)) - lastposihold <=Col:\n",
    "                        self.rowEntry.append(rowdata[lastposihold:(lastposihold + rowShort)])\n",
    "                    else:\n",
    "                        self.rowEntry.append(rowdata[lastposihold:(Col*rowAssign)])\n",
    "                        lastposihold = (Col*rowAssign)\n",
    "                colAssign += 1\n",
    "                rowAssign += 1\n",
    "        else:\n",
    "            return False\n",
    "       \n",
    "    def getRow(self, Index):\n",
    "        return str(self.rowEntry[(Index+1)])\n",
    "    \n",
    "    def getCol(self,Col):\n",
    "        retColdata = []\n",
    "        i =0\n",
    "        while i <= len(self.rowEntry):\n",
    "                retColdata.append(self.rowEntry[i][Col])\n",
    "                i +=1\n",
    "        return str(retColdata)\n",
    "        \n",
    "    def getRowCol(self,Row,Index):\n",
    "        return str(self.rowEntry[Row][Index])\n",
    "    \n",
    "    \n",
    "    def __repr__(self):\n",
    "        retStr =''\n",
    "        \n",
    "        print(\"--------------------------------------------------------\")\n",
    "        for z in self.rowEntry:\n",
    "            if z:\n",
    "                retStr = retStr + str(z)+\"\\n\" #+ \"  Count:\"+str(len(z)))\n",
    "        return(\"Matrix has \"+str(self.colCount)+ \" Columns and \"+str(self.colCount)+\" Rows\\n-----------------------------------------------------\\n\"+retStr+\"-----------------------------------------------------\")"
   ]
  },
  {
   "cell_type": "code",
   "execution_count": 69,
   "metadata": {},
   "outputs": [],
   "source": [
    "myMatrix = Matrix(myTestList)"
   ]
  },
  {
   "cell_type": "code",
   "execution_count": 70,
   "metadata": {},
   "outputs": [
    {
     "name": "stdout",
     "output_type": "stream",
     "text": [
      "--------------------------------------------------------\n",
      "Matrix has 10 Columns and 10 Rows\n",
      "-----------------------------------------------------\n",
      "[209, 156, 144, 37, 76, 6, 102, 17, 158, 123]\n",
      "[227, 51, 66, 196, 81, 8, 168, 114, 236, 200]\n",
      "[189, 205, 172, 116, 186, 27, 98, 255, 225, 216]\n",
      "[176, 123, 57, 160, 6, 64, 82, 236, 5, 195]\n",
      "[0, 70, 213, 202, 54, 40, 114, 44, 30, 88]\n",
      "[142, 134, 121, 239, 111, 240, 203, 160, 73, 166]\n",
      "[175, 246, 106, 166, 23, 93, 100, 225, 205, 112]\n",
      "[147, 38, 236, 135, 113, 18, 145, 7, 43, 115]\n",
      "[186, 204, 71, 177, 190, 58, 72, 15, 3, 6]\n",
      "-----------------------------------------------------\n"
     ]
    }
   ],
   "source": [
    "print(myMatrix)"
   ]
  },
  {
   "cell_type": "code",
   "execution_count": 71,
   "metadata": {},
   "outputs": [
    {
     "name": "stdout",
     "output_type": "stream",
     "text": [
      "[176, 123, 57, 160, 6, 64, 82, 236, 5, 195]\n"
     ]
    }
   ],
   "source": [
    "print(myMatrix.getRow(2))"
   ]
  },
  {
   "cell_type": "code",
   "execution_count": null,
   "metadata": {},
   "outputs": [],
   "source": [
    "print(myMatrix.getRowCol(2,9))"
   ]
  },
  {
   "cell_type": "code",
   "execution_count": null,
   "metadata": {},
   "outputs": [],
   "source": [
    "print(myMatrix.getCol(9))"
   ]
  },
  {
   "cell_type": "code",
   "execution_count": null,
   "metadata": {},
   "outputs": [],
   "source": []
  },
  {
   "cell_type": "code",
   "execution_count": null,
   "metadata": {},
   "outputs": [],
   "source": []
  }
 ],
 "metadata": {
  "kernelspec": {
   "display_name": "Python 3",
   "language": "python",
   "name": "python3"
  },
  "language_info": {
   "codemirror_mode": {
    "name": "ipython",
    "version": 3
   },
   "file_extension": ".py",
   "mimetype": "text/x-python",
   "name": "python",
   "nbconvert_exporter": "python",
   "pygments_lexer": "ipython3",
   "version": "3.7.1"
  }
 },
 "nbformat": 4,
 "nbformat_minor": 2
}
