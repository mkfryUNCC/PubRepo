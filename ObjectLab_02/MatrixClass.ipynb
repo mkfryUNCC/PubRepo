{
 "cells": [
  {
   "cell_type": "markdown",
   "metadata": {},
   "source": [
    "# Create Matrix to harness rows and columns "
   ]
  },
  {
   "cell_type": "code",
   "execution_count": null,
   "metadata": {},
   "outputs": [],
   "source": [
    "import random as r\n",
    "import math as m"
   ]
  },
  {
   "cell_type": "code",
   "execution_count": null,
   "metadata": {},
   "outputs": [],
   "source": [
    "def makeList(lenOflist,startRand,endRand):\n",
    "    retList =[]\n",
    "    for i in range(0,lenOflist):\n",
    "        retList.append(r.randint(startRand,endRand))\n",
    "    return retList"
   ]
  },
  {
   "cell_type": "code",
   "execution_count": null,
   "metadata": {},
   "outputs": [],
   "source": [
    "class Matrix:\n",
    "    def __init__(self,x,y,randomMax,name,genEmpty):  \n",
    "        #initalize with row count, column count, the Maximum random integer for creation,\n",
    "        #matrix name, and a Boolean expression if to create an empty list for Row Entry\n",
    "        if type(x) == int and type(y) == int and type(randomMax) == int and len(name) > 0:\n",
    "            self.matName = name\n",
    "            self.randomMax = randomMax\n",
    "            self.maxItems = x * y\n",
    "            self.rowEntry=[]\n",
    "            self.colCount = x\n",
    "            self.rowCount = y  \n",
    "            if genEmpty == False:\n",
    "                initItems = makeList(self.maxItems,0,randomMax)\n",
    "                colAssign = 1\n",
    "                rowAssign = 1\n",
    "                lastposihold = 0\n",
    "                  \n",
    "                while colAssign <= x+1:     \n",
    "                    if colAssign == 1 :\n",
    "                        self.rowEntry.append(initItems[:x])\n",
    "                        lastposihold = x\n",
    "                    else:\n",
    "                        self.rowEntry.append(initItems[lastposihold:(x*rowAssign)])\n",
    "                        lastposihold = (x*rowAssign)\n",
    "                    colAssign += 1\n",
    "                    rowAssign += 1\n",
    "        else:\n",
    "            return False\n",
    "       \n",
    "    def getRow(self, Row):   #get values of specific row\n",
    "        if Row > 0 and Row-1<= self.rowCount:\n",
    "            return self.matName + \"-Row:\" +str(Row)+\" values\\n\"+str(self.rowEntry[Row-1])\n",
    "        else:\n",
    "            return False\n",
    "        \n",
    "    def getCol(self,Col):  # get values of specific Column\n",
    "        if Col > 0 and Col <= self.colCount:\n",
    "            retCol=[]\n",
    "            for i in range(0,self.rowCount):\n",
    "                retCol.append(self.rowEntry[i][Col-1])\n",
    "            return self.matName + \"-Column:\" +str(Col)+\" values\\n\"+str(retCol)\n",
    "        else:\n",
    "            return False\n",
    "        \n",
    "    def getRowCol(self,Row,Col):    #return Cooridinate value\n",
    "        if Col > 0 and Col <= self.colCount  and Row > 0 and Row <= self.rowCount:\n",
    "            return str(self.matName) + \"-Row:\" +str(Row)+\", Column: \"+str(Col)+\" value \\n\"+str(self.rowEntry[Row-1][Col-1])\n",
    "        else:\n",
    "            return False\n",
    "    def matMulti(self,mat2):    #Multiple 2 of the same layout matrices\n",
    "        if type(mat2) ==Matrix:\n",
    "            if self.rowCount == mat2.rowCount and self.colCount == mat2.colCount:\n",
    "                prodMat = Matrix(self.rowCount,self.colCount,0,\"prodMatrix\"+str(r.randint(0,self.colCount*self.rowCount)),True)\n",
    "                # iterate through columns of 1stMatrix\n",
    "                for i in range(len(self.rowEntry)):\n",
    "                   # iterate through columns of 2ndMatrix\n",
    "                   for j in range(len(mat2.rowEntry[0])):\n",
    "                       # iterate through rows of 2ndMatrix\n",
    "                       for k in range(len(mat2.rowEntry)):\n",
    "                            prodMat.rowEntry[i][j] += self.rowEntry[i][k] * mat2.rowEntry[k][j]\n",
    "                return prodMat\n",
    "            else:\n",
    "                return \"Matrices do not have the same layout\"\n",
    "        else:\n",
    "            return False\n",
    "    \n",
    "    def __repr__(self):\n",
    "        retStr =self.matName+\" has \"+str(self.colCount)+ \" Columns and \"+str(self.rowCount)+\" Rows\\n-----------------------------------------------------\\n\"\n",
    "        ctr = 1\n",
    "        cols =\"   \"\n",
    "        colsp = \"\"\n",
    "        for l in range(len(str(self.randomMax))):  #put in loop to allow better column number spacing\n",
    "            colsp = colsp+\" \"\n",
    "        while ctr <= self.colCount:#a loop to iterate thru column numbering\n",
    "            cols = cols + str(ctr)+ colsp\n",
    "            ctr += 1\n",
    "        ctr = 1\n",
    "        retStr =retStr + cols +\"\\n   --------------------------------------------------\\n\"\n",
    "        for z in self.rowEntry:\n",
    "                retStr = retStr + str(ctr) + \"-|\"+str(z)+\"\\n\" #loop thur rows with row numbering\n",
    "                ctr += 1\n",
    "        return(retStr+\"-----------------------------------------------------\")"
   ]
  },
  {
   "cell_type": "code",
   "execution_count": null,
   "metadata": {},
   "outputs": [],
   "source": [
    "myMatrix1 = Matrix(14,15,100,\"matrix1\",False)\n",
    "myMatrix2 = Matrix(14,15,10,\"matrix2\",False)"
   ]
  },
  {
   "cell_type": "code",
   "execution_count": null,
   "metadata": {},
   "outputs": [],
   "source": [
    "print(myMatrix1)\n",
    "print(myMatrix2)"
   ]
  },
  {
   "cell_type": "code",
   "execution_count": null,
   "metadata": {},
   "outputs": [],
   "source": [
    "print(myMatrix1.getRow(15))\n"
   ]
  },
  {
   "cell_type": "code",
   "execution_count": null,
   "metadata": {},
   "outputs": [],
   "source": [
    "print(myMatrix2.getRowCol(12,14))"
   ]
  },
  {
   "cell_type": "code",
   "execution_count": null,
   "metadata": {},
   "outputs": [],
   "source": [
    "print(myMatrix2.getCol(9))"
   ]
  },
  {
   "cell_type": "code",
   "execution_count": null,
   "metadata": {},
   "outputs": [],
   "source": [
    "print(myMatrix1.matMulti(myMatrix2))"
   ]
  },
  {
   "cell_type": "code",
   "execution_count": null,
   "metadata": {},
   "outputs": [],
   "source": []
  }
 ],
 "metadata": {
  "kernelspec": {
   "display_name": "Python 3",
   "language": "python",
   "name": "python3"
  },
  "language_info": {
   "codemirror_mode": {
    "name": "ipython",
    "version": 3
   },
   "file_extension": ".py",
   "mimetype": "text/x-python",
   "name": "python",
   "nbconvert_exporter": "python",
   "pygments_lexer": "ipython3",
   "version": "3.7.3"
  }
 },
 "nbformat": 4,
 "nbformat_minor": 2
}
