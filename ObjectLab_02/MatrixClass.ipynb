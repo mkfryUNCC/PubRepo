{
 "cells": [
  {
   "cell_type": "markdown",
   "metadata": {},
   "source": [
    "# Create Matrix to harness rows and columns "
   ]
  },
  {
   "cell_type": "code",
   "execution_count": 1,
   "metadata": {},
   "outputs": [],
   "source": [
    "import random as r\n",
    "import math as m"
   ]
  },
  {
   "cell_type": "code",
   "execution_count": 2,
   "metadata": {},
   "outputs": [],
   "source": [
    "def makeList(lenOflist,startRand,endRand):\n",
    "    retList =[]\n",
    "    for i in range(0,lenOflist):\n",
    "        retList.append(r.randint(startRand,endRand))\n",
    "    return retList"
   ]
  },
  {
   "cell_type": "code",
   "execution_count": 33,
   "metadata": {},
   "outputs": [
    {
     "name": "stdout",
     "output_type": "stream",
     "text": [
      "[83, 123, 72, 201, 29, 81, 68, 165, 57, 204, 124, 15, 45, 54, 163, 234, 183, 175, 35, 114, 58, 55, 66, 80, 133, 73, 12, 219, 19, 193, 178, 92, 128, 232, 207, 40, 198, 149, 55, 149, 67, 17, 13, 205, 14, 219, 173, 41, 69, 85, 74, 30, 228, 30, 83, 72, 13, 236, 43, 198, 98, 241, 134, 187, 196, 5, 172, 24, 221, 73, 152, 66, 100, 140, 62, 113, 76, 209, 172, 211, 4, 161, 137, 104, 162, 10, 114, 130, 234, 70, 149, 67, 136, 21, 240, 110, 78, 149, 28, 147]\n"
     ]
    }
   ],
   "source": [
    "myTestList = makeList(100,0,255)\n",
    "print(myTestList)"
   ]
  },
  {
   "cell_type": "code",
   "execution_count": 170,
   "metadata": {},
   "outputs": [],
   "source": [
    "class Matrix:\n",
    "    def __init__(self,x,y,randomMax,name):\n",
    "        if type(x) == int and type(y) == int and type(randomMax) == int and len(name) > 0:\n",
    "            self.matName = name\n",
    "            maxItems = x * y\n",
    "            initItems = makeList(maxItems,0,randomMax)\n",
    "            colAssign = 1\n",
    "            rowAssign = 1\n",
    "            lastposihold = 0\n",
    "            self.rowEntry=[]\n",
    "            self.colCount = x\n",
    "            self.rowCount = y      \n",
    "            while colAssign <= x+1:     \n",
    "                if colAssign == 1 :\n",
    "                    self.rowEntry.append(initItems[:x])\n",
    "                    lastposihold = x\n",
    "                else:\n",
    "                    self.rowEntry.append(initItems[lastposihold:(x*rowAssign)])\n",
    "                    lastposihold = (x*rowAssign)\n",
    "                colAssign += 1\n",
    "                rowAssign += 1\n",
    "        else:\n",
    "            return False\n",
    "       \n",
    "    def getRow(self, Row):\n",
    "        if Row > 0 and Row-1<= self.rowCount:\n",
    "            return self.matName + \"-Row:\" +str(Row)+\" values\\n\"+str(self.rowEntry[Row-1])\n",
    "        else:\n",
    "            return False\n",
    "    def getCol(self,Col):\n",
    "        if Col > 0 and Col <= self.colCount:\n",
    "            retCol=[]\n",
    "            for i in range(0,self.rowCount):\n",
    "                retCol.append(self.rowEntry[i][Col-1])\n",
    "            return self.matName + \"-Column:\" +str(Col)+\" values\\n\"+str(retCol)\n",
    "        else:\n",
    "            return False\n",
    "        \n",
    "    def getRowCol(self,Row,Col):\n",
    "        if Col > 0 and Col <= self.colCount  and Row > 0 and Row <= self.rowCount:\n",
    "            return str(self.matName) + \"-Row:\" +str(Row)+\", Column: \"+str(Col)+\" value \\n\"+str(self.rowEntry[Row-1][Col-1])\n",
    "        else:\n",
    "            return False\n",
    "    def matAdder()\n",
    "    \n",
    "    def __repr__(self):\n",
    "        retStr =self.matName+\" has \"+str(self.colCount)+ \" Columns and \"+str(self.rowCount)+\" Rows\\n-----------------------------------------------------\\n\"\n",
    "        for z in self.rowEntry:\n",
    "                retStr = retStr + str(z)+\"\\n\"\n",
    "        return(retStr+\"-----------------------------------------------------\")"
   ]
  },
  {
   "cell_type": "code",
   "execution_count": 173,
   "metadata": {},
   "outputs": [],
   "source": [
    "myMatrix1 = Matrix(14,15,100,\"matrix1\")\n",
    "myMatrix2 = Matrix(14,15,10,\"matrix2\")"
   ]
  },
  {
   "cell_type": "code",
   "execution_count": 174,
   "metadata": {},
   "outputs": [
    {
     "name": "stdout",
     "output_type": "stream",
     "text": [
      "matrix1 has 14 Columns and 15 Rows\n",
      "-----------------------------------------------------\n",
      "[40, 68, 52, 53, 38, 29, 42, 72, 50, 2, 28, 72, 42, 35]\n",
      "[89, 46, 63, 6, 73, 65, 33, 59, 81, 88, 93, 67, 6, 17]\n",
      "[74, 8, 91, 75, 91, 59, 41, 91, 51, 16, 52, 28, 38, 13]\n",
      "[44, 31, 65, 98, 83, 64, 79, 23, 17, 47, 88, 70, 23, 53]\n",
      "[18, 50, 73, 62, 37, 78, 79, 92, 26, 19, 98, 34, 8, 43]\n",
      "[22, 67, 40, 22, 69, 41, 97, 23, 84, 34, 65, 68, 57, 32]\n",
      "[27, 43, 20, 74, 31, 46, 78, 60, 85, 10, 98, 28, 76, 12]\n",
      "[85, 57, 13, 51, 40, 19, 52, 39, 50, 90, 70, 5, 5, 56]\n",
      "[39, 67, 74, 20, 15, 44, 5, 97, 45, 7, 10, 73, 39, 1]\n",
      "[22, 51, 37, 0, 15, 80, 34, 96, 37, 51, 32, 73, 59, 76]\n",
      "[47, 38, 81, 23, 55, 45, 49, 12, 4, 72, 39, 46, 14, 80]\n",
      "[85, 5, 72, 73, 59, 1, 71, 36, 43, 6, 73, 47, 70, 97]\n",
      "[3, 66, 62, 6, 56, 35, 33, 97, 20, 28, 20, 90, 2, 96]\n",
      "[93, 69, 68, 11, 85, 92, 28, 99, 82, 65, 41, 20, 84, 10]\n",
      "[21, 77, 97, 19, 91, 23, 40, 29, 81, 64, 44, 52, 85, 51]\n",
      "-----------------------------------------------------\n",
      "matrix2 has 14 Columns and 15 Rows\n",
      "-----------------------------------------------------\n",
      "[4, 0, 4, 4, 7, 0, 7, 7, 0, 4, 6, 4, 8, 6]\n",
      "[6, 1, 10, 5, 2, 1, 3, 10, 4, 10, 6, 8, 5, 2]\n",
      "[2, 2, 6, 7, 10, 9, 6, 0, 7, 2, 9, 4, 1, 4]\n",
      "[7, 8, 1, 5, 7, 8, 3, 4, 1, 4, 1, 4, 0, 1]\n",
      "[7, 0, 0, 5, 5, 10, 9, 4, 8, 6, 1, 2, 1, 7]\n",
      "[3, 10, 1, 2, 0, 7, 7, 7, 6, 8, 4, 6, 3, 2]\n",
      "[8, 7, 3, 1, 8, 5, 2, 3, 4, 7, 4, 8, 4, 9]\n",
      "[1, 4, 5, 8, 3, 4, 5, 1, 0, 8, 6, 3, 2, 3]\n",
      "[9, 4, 5, 1, 2, 7, 9, 10, 8, 6, 7, 4, 6, 1]\n",
      "[4, 2, 3, 0, 2, 1, 2, 10, 9, 2, 0, 5, 3, 6]\n",
      "[9, 9, 1, 5, 10, 0, 7, 9, 2, 8, 5, 4, 6, 5]\n",
      "[1, 2, 0, 3, 6, 10, 10, 5, 6, 4, 2, 0, 3, 6]\n",
      "[10, 9, 3, 9, 6, 3, 0, 2, 0, 8, 6, 0, 6, 8]\n",
      "[9, 3, 8, 10, 8, 4, 9, 9, 9, 4, 10, 9, 0, 6]\n",
      "[3, 7, 3, 3, 3, 1, 2, 4, 9, 8, 2, 9, 0, 3]\n",
      "-----------------------------------------------------\n"
     ]
    }
   ],
   "source": [
    "print(myMatrix1)\n",
    "print(myMatrix2)"
   ]
  },
  {
   "cell_type": "code",
   "execution_count": 175,
   "metadata": {},
   "outputs": [
    {
     "name": "stdout",
     "output_type": "stream",
     "text": [
      "matrix1-Row:15 values\n",
      "[21, 77, 97, 19, 91, 23, 40, 29, 81, 64, 44, 52, 85, 51]\n"
     ]
    }
   ],
   "source": [
    "print(myMatrix1.getRow(15))\n"
   ]
  },
  {
   "cell_type": "code",
   "execution_count": 177,
   "metadata": {},
   "outputs": [
    {
     "name": "stdout",
     "output_type": "stream",
     "text": [
      "matrix2-Row:12, Column: 14 value \n",
      "6\n"
     ]
    }
   ],
   "source": [
    "print(myMatrix2.getRowCol(12,14))"
   ]
  },
  {
   "cell_type": "code",
   "execution_count": 178,
   "metadata": {},
   "outputs": [
    {
     "name": "stdout",
     "output_type": "stream",
     "text": [
      "matrix2-Column:9 values\n",
      "[0, 4, 7, 1, 8, 6, 4, 0, 8, 9, 2, 6, 0, 9, 9]\n"
     ]
    }
   ],
   "source": [
    "print(myMatrix2.getCol(9))"
   ]
  },
  {
   "cell_type": "code",
   "execution_count": null,
   "metadata": {},
   "outputs": [],
   "source": []
  },
  {
   "cell_type": "code",
   "execution_count": null,
   "metadata": {},
   "outputs": [],
   "source": []
  }
 ],
 "metadata": {
  "kernelspec": {
   "display_name": "Python 3",
   "language": "python",
   "name": "python3"
  },
  "language_info": {
   "codemirror_mode": {
    "name": "ipython",
    "version": 3
   },
   "file_extension": ".py",
   "mimetype": "text/x-python",
   "name": "python",
   "nbconvert_exporter": "python",
   "pygments_lexer": "ipython3",
   "version": "3.7.3"
  }
 },
 "nbformat": 4,
 "nbformat_minor": 2
}
