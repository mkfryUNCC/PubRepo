{
 "cells": [
  {
   "cell_type": "markdown",
   "metadata": {},
   "source": [
    "# Create Matrix to harness rows and columns, perform row/column searches as well as an addition and multiplication function..."
   ]
  },
  {
   "cell_type": "code",
   "execution_count": 1,
   "metadata": {},
   "outputs": [],
   "source": [
    "import random as r\n",
    "import math as m"
   ]
  },
  {
   "cell_type": "markdown",
   "metadata": {},
   "source": [
    "### defined random integer list for usage in new Matrix"
   ]
  },
  {
   "cell_type": "code",
   "execution_count": 2,
   "metadata": {},
   "outputs": [],
   "source": [
    "def makeList(lenOflist,startRand,endRand):\n",
    "    retList =[]\n",
    "    for i in range(0,lenOflist):\n",
    "        retList.append(r.randint(startRand,endRand))\n",
    "    return retList"
   ]
  },
  {
   "cell_type": "markdown",
   "metadata": {},
   "source": [
    "### Matrix class to harness initialization of new Matrix, with functions to perform upon matrix"
   ]
  },
  {
   "cell_type": "code",
   "execution_count": 3,
   "metadata": {},
   "outputs": [],
   "source": [
    "class Matrix:\n",
    "    def __init__(self,cols,rows,randomMax,name,genEmpty):  \n",
    "        #initalize with row count, column count, the Maximum random integer for creation,\n",
    "        #matrix name, and a Boolean expression if to create an empty list for Row Entry\n",
    "        if type(rows) == int and type(cols) == int and type(randomMax) == int and len(name) > 0:\n",
    "            self.matName = name #name of Matrix\n",
    "            self.randomMax = randomMax #max num of chars in 1 value\n",
    "            self.maxItems = rows * cols #max number of values in Matrix\n",
    "            self.rowEntry=[]  #empty list declaration\n",
    "            self.colCount = cols #harness column count for display\n",
    "            self.rowCount = rows #harness row count for display\n",
    "            if genEmpty == False: # test if requests function returns empty matrix\n",
    "                initItems = makeList(self.maxItems,0,randomMax) # Genteratre random integer list\n",
    "                colAssign = 1\n",
    "                rowAssign = 1\n",
    "                lastposihold = 0\n",
    "                  \n",
    "                while colAssign <= cols+1:     \n",
    "                    if colAssign == 1 :\n",
    "                        self.rowEntry.append(initItems[:cols])\n",
    "                        lastposihold = cols\n",
    "                    else:\n",
    "                        self.rowEntry.append(initItems[lastposihold:(cols*rowAssign)])\n",
    "                        lastposihold = (cols*rowAssign)\n",
    "                    colAssign += 1\n",
    "                    rowAssign += 1\n",
    "        else:\n",
    "            return False\n",
    "       \n",
    "    def getRowDetai(self, Row):   #get values of specific row\n",
    "        if Row > 0 and Row-1<= self.rowCount:\n",
    "            return self.matName + \"-Row:\" +str(Row)+\" values\\n\"+str(self.rowEntry[Row-1])\n",
    "        else:\n",
    "            return False\n",
    "        \n",
    "    def getColDetail(self,Col):  # get values of specific Column\n",
    "        if Col > 0 and Col <= self.colCount:\n",
    "            retCol=[]\n",
    "            for i in range(0,self.rowCount):\n",
    "                retCol.append(self.rowEntry[i][Col-1])\n",
    "            return self.matName + \"-Column:\" +str(Col)+\" values\\n\"+str(retCol)\n",
    "        else:\n",
    "            return False\n",
    "        \n",
    "    def getRowColDetail(self,Col,Row):    #return Cooridinate value\n",
    "        if Col > 0 and Col <= self.colCount  and Row > 0 and Row <= self.rowCount:\n",
    "            return str(self.matName) + \"-Row:\" +str(Row)+\", Column: \"+str(Col)+\" value \\n\"+str(self.rowEntry[Row-1][Col-1])\n",
    "        else:\n",
    "            return False\n",
    "    def addToMat(self,mat2):    #add 2 of the same layout matrices\n",
    "        if type(mat2) ==Matrix:\n",
    "            if self.rowCount == mat2.rowCount and self.colCount == mat2.colCount:\n",
    "                maxNum = 0\n",
    "                for i in range(len(self.rowEntry)):\n",
    "                   # iterate through columns of 2ndMatrix\n",
    "                   for j in range(len(mat2.rowEntry[0])):\n",
    "                            if (self.rowEntry[i][j] + mat2.rowEntry[i][j]) > maxNum:\n",
    "                                maxNum = self.rowEntry[i][j] + mat2.rowEntry[i][j]\n",
    "                            self.rowEntry[i][j] += mat2.rowEntry[i][j]\n",
    "                self.randomMax = maxNum\n",
    "            else:\n",
    "                return \"Matrices do not have the same layout\"\n",
    "        else:\n",
    "            return False\n",
    "        \n",
    "    \n",
    "    def matMulti(self,mat2):    #Multiply 2 of the same layout matrices\n",
    "        if type(mat2) ==Matrix:\n",
    "            if self.rowCount == mat2.rowCount and self.colCount == mat2.colCount:\n",
    "                prodMat = Matrix(self.colCount,self.rowCount,0,\"prodMatrix\"+str(r.randint(0,self.colCount*self.rowCount)),True)\n",
    "                prodMat.randomMax = self.randomMax\n",
    "                prodMat.rowEntry = [[0 for cols in range(self.colCount)] for rows in range(self.rowCount)] \n",
    "               # iterate through columns of 1stMatrix\n",
    "                maxNum = 0 \n",
    "                for i in range(len(self.rowEntry)):\n",
    "                   # iterate through columns of 2ndMatrix\n",
    "                   for j in range(len(mat2.rowEntry[0])):\n",
    "                            if (self.rowEntry[i][j] * mat2.rowEntry[i][j]) > maxNum:\n",
    "                                maxNum = self.rowEntry[i][j] * mat2.rowEntry[i][j] # reseting the char count for char display \n",
    "                            prodMat.rowEntry[i][j] += self.rowEntry[i][j] * mat2.rowEntry[i][j]\n",
    "                prodMat.randomMax = maxNum\n",
    "                return prodMat\n",
    "            else:\n",
    "                return \"Matrices do not have the same layout\"\n",
    "        else:\n",
    "            return False\n",
    "    \n",
    "    def __repr__(self):\n",
    "        retStr =self.matName+\" has \"+str(self.colCount)+ \" Columns and \"+str(self.rowCount)+\" Rows\\n-----------------------------------------------------\\n\"\n",
    "        ctr = 1\n",
    "        cols =\"   \"\n",
    "        colsp = \"\"\n",
    "        for l in range(len(str(self.randomMax))):  #put in loop to allow better column number spacing\n",
    "            colsp = colsp+\" \"\n",
    "        while ctr <= self.colCount:#a loop to iterate thru column numbering\n",
    "            cols = cols + str(ctr)+ colsp\n",
    "            ctr += 1\n",
    "        ctr = 1\n",
    "        retStr =retStr + cols +\"\\n   --------------------------------------------------\\n\"\n",
    "        for z in self.rowEntry:\n",
    "                retStr = retStr + str(ctr) + \"-|\"+str(z)+\"\\n\" #loop thur rows with row numbering\n",
    "                ctr += 1\n",
    "        return(retStr+\"-----------------------------------------------------\")"
   ]
  },
  {
   "cell_type": "code",
   "execution_count": 4,
   "metadata": {},
   "outputs": [],
   "source": [
    "myMatrix1 = Matrix(3,4,100,\"matrix1\",False)\n",
    "myMatrix2 = Matrix(3,4,10,\"matrix2\",False)\n",
    "myMatrixProd = Matrix.matMulti(myMatrix1,myMatrix2)"
   ]
  },
  {
   "cell_type": "code",
   "execution_count": 5,
   "metadata": {},
   "outputs": [
    {
     "name": "stdout",
     "output_type": "stream",
     "text": [
      "matrix1 has 3 Columns and 4 Rows\n",
      "-----------------------------------------------------\n",
      "   1   2   3   \n",
      "   --------------------------------------------------\n",
      "1-|[44, 70, 69]\n",
      "2-|[1, 6, 66]\n",
      "3-|[44, 24, 70]\n",
      "4-|[6, 15, 33]\n",
      "-----------------------------------------------------\n",
      "matrix2 has 3 Columns and 4 Rows\n",
      "-----------------------------------------------------\n",
      "   1  2  3  \n",
      "   --------------------------------------------------\n",
      "1-|[9, 9, 6]\n",
      "2-|[8, 1, 6]\n",
      "3-|[9, 10, 3]\n",
      "4-|[4, 2, 5]\n",
      "-----------------------------------------------------\n",
      "prodMatrix12 has 3 Columns and 4 Rows\n",
      "-----------------------------------------------------\n",
      "   1   2   3   \n",
      "   --------------------------------------------------\n",
      "1-|[396, 630, 414]\n",
      "2-|[8, 6, 396]\n",
      "3-|[396, 240, 210]\n",
      "4-|[24, 30, 165]\n",
      "-----------------------------------------------------\n",
      "matrix1-Row:3 values\n",
      "[44, 24, 70]\n",
      "matrix2-Column:1 values\n",
      "[9, 8, 9, 4]\n",
      "prodMatrix12-Row:1, Column: 3 value \n",
      "414\n"
     ]
    }
   ],
   "source": [
    "print(myMatrix1)\n",
    "print(myMatrix2)\n",
    "print(myMatrixProd)\n",
    "print(myMatrix1.getRow(3))\n",
    "print(myMatrix2.getCol(1))\n",
    "print(myMatrixProd.getRowCol(3,1))"
   ]
  },
  {
   "cell_type": "code",
   "execution_count": 6,
   "metadata": {},
   "outputs": [
    {
     "name": "stdout",
     "output_type": "stream",
     "text": [
      "matrix1 has 3 Columns and 4 Rows\n",
      "-----------------------------------------------------\n",
      "   1   2   3   \n",
      "   --------------------------------------------------\n",
      "1-|[440, 700, 483]\n",
      "2-|[9, 12, 462]\n",
      "3-|[440, 264, 280]\n",
      "4-|[30, 45, 198]\n",
      "-----------------------------------------------------\n"
     ]
    }
   ],
   "source": [
    "myMatrix1.addToMat(myMatrixProd)\n",
    "print(myMatrix1)"
   ]
  },
  {
   "cell_type": "code",
   "execution_count": null,
   "metadata": {},
   "outputs": [],
   "source": []
  }
 ],
 "metadata": {
  "kernelspec": {
   "display_name": "Python 3",
   "language": "python",
   "name": "python3"
  },
  "language_info": {
   "codemirror_mode": {
    "name": "ipython",
    "version": 3
   },
   "file_extension": ".py",
   "mimetype": "text/x-python",
   "name": "python",
   "nbconvert_exporter": "python",
   "pygments_lexer": "ipython3",
   "version": "3.7.3"
  }
 },
 "nbformat": 4,
 "nbformat_minor": 2
}
