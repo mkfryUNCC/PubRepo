{
 "cells": [
  {
   "cell_type": "markdown",
   "metadata": {},
   "source": [
    "# Create Matrix to harness rows and columns "
   ]
  },
  {
   "cell_type": "code",
   "execution_count": null,
   "metadata": {},
   "outputs": [],
   "source": [
    "import random as r\n",
    "import math as m"
   ]
  },
  {
   "cell_type": "code",
   "execution_count": null,
   "metadata": {},
   "outputs": [],
   "source": [
    "def makeList(lenOflist):\n",
    "    retList=[]\n",
    "    for i in range(0,lenOflist):\n",
    "        retList.append(r.randint(0,255))\n",
    "    return retList"
   ]
  },
  {
   "cell_type": "code",
   "execution_count": null,
   "metadata": {},
   "outputs": [],
   "source": [
    "myTestList = makeList(100)"
   ]
  },
  {
   "cell_type": "code",
   "execution_count": null,
   "metadata": {},
   "outputs": [],
   "source": [
    "class Matrix:\n",
    "    def __init__(self, matrixTablename, rowdata):\n",
    "        if rowdata:\n",
    "            colAssign = 1\n",
    "            rowAssign = 1\n",
    "            lastposihold = 0\n",
    "            rowShort = 0\n",
    "            self.rowEntry=[]\n",
    "            sqRT = m.sqrt(len(rowdata))\n",
    "            Col = m.floor(sqRT)\n",
    "            self.colCount = Col\n",
    "            self.rowCount = Col\n",
    "            if m.remainder(sqRT,1) > 0: \n",
    "                rowShort = (len(rowdata))-(Col ** 2)\n",
    "                self.rowCount = Col + 1\n",
    "            self.tableName = matrixTablename           \n",
    "            while colAssign <= Col+1:\n",
    "                             \n",
    "                if colAssign == 1 :\n",
    "                    self.rowEntry.append(rowdata[:Col])\n",
    "                    lastposihold = Col\n",
    "                else:\n",
    "                    if (len(rowdata)) - lastposihold <=Col:\n",
    "                        self.rowEntry.append(rowdata[lastposihold:(lastposihold + rowShort)])\n",
    "                    else:\n",
    "                        self.rowEntry.append(rowdata[lastposihold:(Col*rowAssign)])\n",
    "                        lastposihold = (Col*rowAssign)\n",
    "                \n",
    "                \n",
    "                colAssign += 1\n",
    "                rowAssign += 1\n",
    "       \n",
    "    def getRow(self, Index):\n",
    "        return str(self.rowEntry[Index])\n",
    "    \n",
    "    def getRowCol(self,Row,Index):\n",
    "        return str(self.rowEntry[Row][Index])\n",
    "    \n",
    "    def __repr__(self):\n",
    "        print(\"TableName: \"+str(self.tableName)+\" with \"+str(self.colCount)+ \" and \"+str(self.rowCount)+\" Rows\\n\")\n",
    "        print(\"--------------------------------------------------------\")\n",
    "        for z in self.rowEntry:\n",
    "            if z:\n",
    "                print(str(z)) #+ \"  Count:\"+str(len(z)))\n",
    "        print(\"--------------------------------------------------------\")\n",
    "                "
   ]
  },
  {
   "cell_type": "code",
   "execution_count": null,
   "metadata": {},
   "outputs": [],
   "source": [
    "myMatrix = Matrix(\"testMatrix01\",myTestList)"
   ]
  },
  {
   "cell_type": "code",
   "execution_count": null,
   "metadata": {},
   "outputs": [],
   "source": [
    "print(myMatrix)"
   ]
  },
  {
   "cell_type": "code",
   "execution_count": null,
   "metadata": {},
   "outputs": [],
   "source": [
    "print(myMatrix.getRow(2))"
   ]
  },
  {
   "cell_type": "code",
   "execution_count": null,
   "metadata": {},
   "outputs": [],
   "source": [
    "print(myMatrix.getRowCol(2,9))"
   ]
  },
  {
   "cell_type": "code",
   "execution_count": null,
   "metadata": {},
   "outputs": [],
   "source": []
  }
 ],
 "metadata": {
  "kernelspec": {
   "display_name": "Python 3",
   "language": "python",
   "name": "python3"
  },
  "language_info": {
   "codemirror_mode": {
    "name": "ipython",
    "version": 3
   },
   "file_extension": ".py",
   "mimetype": "text/x-python",
   "name": "python",
   "nbconvert_exporter": "python",
   "pygments_lexer": "ipython3",
   "version": "3.7.3"
  }
 },
 "nbformat": 4,
 "nbformat_minor": 2
}
