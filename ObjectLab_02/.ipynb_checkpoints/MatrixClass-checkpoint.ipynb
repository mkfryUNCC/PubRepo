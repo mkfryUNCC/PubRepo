{
 "cells": [
  {
   "cell_type": "markdown",
   "metadata": {},
   "source": [
    "# Create Matrix to harness rows and columns, perform row/column searches as well as an addition and multiplication function..."
   ]
  },
  {
   "cell_type": "code",
   "execution_count": 1,
   "metadata": {},
   "outputs": [],
   "source": [
    "import random as r\n",
    "import math as m"
   ]
  },
  {
   "cell_type": "markdown",
   "metadata": {},
   "source": [
    "### defined random integer list for usage in new Matrix"
   ]
  },
  {
   "cell_type": "code",
   "execution_count": 2,
   "metadata": {},
   "outputs": [],
   "source": [
    "def makeList(lenOflist,startRand,endRand):\n",
    "    retList =[]\n",
    "    for i in range(0,lenOflist):\n",
    "        retList.append(r.randint(startRand,endRand))\n",
    "    return retList"
   ]
  },
  {
   "cell_type": "markdown",
   "metadata": {},
   "source": [
    "### Matrix class to harness initialization of new Matrix, with functions to perform opertions upon matrix"
   ]
  },
  {
   "cell_type": "code",
   "execution_count": 3,
   "metadata": {},
   "outputs": [],
   "source": [
    "class Matrix:\n",
    "    def __init__(self,cols,rows,randomMax,name,genEmpty):  \n",
    "        #initalize with row count, column count, the Maximum random integer for creation,\n",
    "        #matrix name, and a Boolean expression if to create an empty list for Row Entry\n",
    "        if type(rows) == int and type(cols) == int and type(randomMax) == int and len(name) > 0:\n",
    "            self.matName = name #name of Matrix\n",
    "            self.randomMax = randomMax #max num of chars in 1 value\n",
    "            self.maxItems = rows * cols #max number of values in Matrix\n",
    "            self.rowEntry=[]  #empty list declaration\n",
    "            self.colCount = cols #harness column count for display\n",
    "            self.rowCount = rows #harness row count for display\n",
    "            if genEmpty == False: # test if requests function returns empty matrix\n",
    "                initItems = makeList(self.maxItems,0,randomMax) # Genteratre random integer list\n",
    "                colAssign = 1\n",
    "                rowAssign = 1\n",
    "                lastposihold = 0\n",
    "                  \n",
    "                while colAssign <= cols+1:     \n",
    "                    if colAssign == 1 :\n",
    "                        self.rowEntry.append(initItems[:cols])\n",
    "                        lastposihold = cols\n",
    "                    else:\n",
    "                        self.rowEntry.append(initItems[lastposihold:(cols*rowAssign)])\n",
    "                        lastposihold = (cols*rowAssign)\n",
    "                    colAssign += 1\n",
    "                    rowAssign += 1\n",
    "        else:\n",
    "            return False\n",
    "        \n",
    "    def getRow(self, Row):   #get values of specific row as list\n",
    "        if Row > 0 and Row-1<= self.rowCount:\n",
    "            retRow=[]\n",
    "            retRow=self.rowEntry[Row-1]\n",
    "            return retRow\n",
    "        else:\n",
    "            return False\n",
    "        \n",
    "    def getCol(self,Col):  # get values of specific Column as list\n",
    "        if Col > 0 and Col <= self.colCount:\n",
    "            retCol=[]\n",
    "            for i in range(0,self.rowCount):\n",
    "                retCol.append(self.rowEntry[i][Col-1])\n",
    "            return retCol  \n",
    "        else:\n",
    "            return False\n",
    "        \n",
    "    def getRowCol(self,Col,Row):    #return Cooridinate value as integer\n",
    "        if Col > 0 and Col <= self.colCount  and Row > 0 and Row <= self.rowCount:\n",
    "            return self.rowEntry[Row-1][Col-1]\n",
    "        else:\n",
    "            return False\n",
    "       \n",
    "    def getRowDetail(self, Row):   #get values of specific row\n",
    "        if Row > 0 and Row-1<= self.rowCount:\n",
    "            return self.matName + \"-Row:\" +str(Row)+\" values\\n\"+str(self.rowEntry[Row-1])\n",
    "        else:\n",
    "            return False\n",
    "        \n",
    "    def getColDetail(self,Col):  # get values of specific Column\n",
    "        if Col > 0 and Col <= self.colCount:\n",
    "            retCol=[]\n",
    "            for i in range(0,self.rowCount):\n",
    "                retCol.append(self.rowEntry[i][Col-1])\n",
    "            return self.matName + \"-Column:\" +str(Col)+\" values\\n\"+str(retCol)\n",
    "        else:\n",
    "            return False\n",
    "        \n",
    "    def getRowColDetail(self,Col,Row):    #return Cooridinate value\n",
    "        if Col > 0 and Col <= self.colCount  and Row > 0 and Row <= self.rowCount:\n",
    "            return str(self.matName) + \"-Row:\" +str(Row)+\", Column: \"+str(Col)+\" value \\n\"+str(self.rowEntry[Row-1][Col-1])\n",
    "        else:\n",
    "            return False\n",
    "    def addToMat(self,mat2):    #add 2 of the same layout matrices\n",
    "        if type(mat2) ==Matrix:\n",
    "            if self.rowCount == mat2.rowCount and self.colCount == mat2.colCount:\n",
    "                maxNum = 0\n",
    "                for i in range(len(self.rowEntry)):\n",
    "                   # iterate through columns of 2ndMatrix\n",
    "                   for j in range(len(mat2.rowEntry[0])):\n",
    "                            if (self.rowEntry[i][j] + mat2.rowEntry[i][j]) > maxNum:\n",
    "                                maxNum = self.rowEntry[i][j] + mat2.rowEntry[i][j]\n",
    "                            self.rowEntry[i][j] += mat2.rowEntry[i][j]\n",
    "                self.randomMax = maxNum\n",
    "            else:\n",
    "                return \"Matrices do not have the same layout\"\n",
    "        else:\n",
    "            return False\n",
    "        \n",
    "    \n",
    "    def matMulti(self,mat2):    #Multiply 2 of the same layout matrices\n",
    "        if type(mat2) ==Matrix:\n",
    "            if self.rowCount == mat2.rowCount and self.colCount == mat2.colCount:\n",
    "                #when creating new Matrix obj, unable to supply Matrix name it was decided to use a prodMatrix +random int \n",
    "                #to avoid conflict with an exsisting Matrix name, while understanding  it still is possible but unlikely..\n",
    "                prodMat = Matrix(self.colCount,self.rowCount,0,\"prodMatrix\"+str(r.randint(0,1000)),True)\n",
    "                prodMat.rowEntry = [[0 for cols in range(self.colCount)] for rows in range(self.rowCount)] \n",
    "               # iterate through columns of 1stMatrix\n",
    "                maxNum = 0 \n",
    "                for i in range(len(self.rowEntry)):\n",
    "                   # iterate through columns of 2ndMatrix\n",
    "                   for j in range(len(mat2.rowEntry[0])):\n",
    "                            if (self.rowEntry[i][j] * mat2.rowEntry[i][j]) > maxNum:\n",
    "                                maxNum = self.rowEntry[i][j] * mat2.rowEntry[i][j] # reseting the char count for char display \n",
    "                            prodMat.rowEntry[i][j] += self.rowEntry[i][j] * mat2.rowEntry[i][j]\n",
    "                prodMat.randomMax = maxNum\n",
    "                return prodMat\n",
    "            else:\n",
    "                return \"Matrices do not have the same layout\"\n",
    "        else:\n",
    "            return False\n",
    "    \n",
    "    def __repr__(self):\n",
    "        retStr =self.matName+\" has \"+str(self.colCount)+ \" Columns and \"+str(self.rowCount)+\" Rows\\n-----------------------------------------------------\\n\"\n",
    "        ctr = 1\n",
    "        cols =\"   \"\n",
    "        colsp = \"\"\n",
    "        for l in range(len(str(self.randomMax))):  #put in loop to allow better column number spacing\n",
    "            colsp = colsp+\" \"\n",
    "        while ctr <= self.colCount:#a loop to iterate thru column numbering\n",
    "            cols = cols + str(ctr)+ colsp\n",
    "            ctr += 1\n",
    "        ctr = 1\n",
    "        retStr =retStr + cols +\"\\n   --------------------------------------------------\\n\"\n",
    "        for z in self.rowEntry:\n",
    "                retStr = retStr + str(ctr) + \"-|\"+str(z)+\"\\n\" #loop thur rows with row numbering\n",
    "                ctr += 1\n",
    "        return(retStr+\"-----------------------------------------------------\")"
   ]
  },
  {
   "cell_type": "code",
   "execution_count": 4,
   "metadata": {},
   "outputs": [],
   "source": [
    "myMatrix1 = Matrix(3,4,100,\"matrix1\",False)\n",
    "myMatrix2 = Matrix(3,4,10,\"matrix2\",False)\n",
    "myMatrixProd = Matrix.matMulti(myMatrix1,myMatrix2)"
   ]
  },
  {
   "cell_type": "code",
   "execution_count": 5,
   "metadata": {},
   "outputs": [
    {
     "name": "stdout",
     "output_type": "stream",
     "text": [
      "matrix1 has 3 Columns and 4 Rows\n",
      "-----------------------------------------------------\n",
      "   1   2   3   \n",
      "   --------------------------------------------------\n",
      "1-|[9, 60, 96]\n",
      "2-|[91, 5, 81]\n",
      "3-|[97, 91, 80]\n",
      "4-|[92, 94, 90]\n",
      "-----------------------------------------------------\n",
      "matrix2 has 3 Columns and 4 Rows\n",
      "-----------------------------------------------------\n",
      "   1  2  3  \n",
      "   --------------------------------------------------\n",
      "1-|[1, 10, 6]\n",
      "2-|[2, 9, 9]\n",
      "3-|[10, 0, 1]\n",
      "4-|[4, 0, 9]\n",
      "-----------------------------------------------------\n",
      "prodMatrix763 has 3 Columns and 4 Rows\n",
      "-----------------------------------------------------\n",
      "   1   2   3   \n",
      "   --------------------------------------------------\n",
      "1-|[9, 600, 576]\n",
      "2-|[182, 45, 729]\n",
      "3-|[970, 0, 80]\n",
      "4-|[368, 0, 810]\n",
      "-----------------------------------------------------\n",
      "[97, 91, 80]\n",
      "[1, 2, 10, 4]\n",
      "576\n",
      "matrix1-Row:3 values\n",
      "[97, 91, 80]\n",
      "matrix2-Column:1 values\n",
      "[1, 2, 10, 4]\n",
      "prodMatrix763-Row:1, Column: 3 value \n",
      "576\n"
     ]
    }
   ],
   "source": [
    "print(myMatrix1)\n",
    "print(myMatrix2)\n",
    "print(myMatrixProd)\n",
    "print(myMatrix1.getRow(3)) #list return \n",
    "print(myMatrix2.getCol(1)) #list retun\n",
    "print(myMatrixProd.getRowCol(3,1)) # int return\n",
    "print(myMatrix1.getRowDetail(3))# added some functionality to better display data\n",
    "print(myMatrix2.getColDetail(1))# added some functionality to better display data\n",
    "print(myMatrixProd.getRowColDetail(3,1))# added some functionality to better display data"
   ]
  },
  {
   "cell_type": "code",
   "execution_count": 6,
   "metadata": {},
   "outputs": [
    {
     "name": "stdout",
     "output_type": "stream",
     "text": [
      "matrix1 has 3 Columns and 4 Rows\n",
      "-----------------------------------------------------\n",
      "   1    2    3    \n",
      "   --------------------------------------------------\n",
      "1-|[18, 660, 672]\n",
      "2-|[273, 50, 810]\n",
      "3-|[1067, 91, 160]\n",
      "4-|[460, 94, 900]\n",
      "-----------------------------------------------------\n"
     ]
    }
   ],
   "source": [
    "myMatrix1.addToMat(myMatrixProd)# function to add to exsisting matrix \n",
    "print(myMatrix1) # reprint to provide updated results"
   ]
  },
  {
   "cell_type": "code",
   "execution_count": null,
   "metadata": {},
   "outputs": [],
   "source": []
  }
 ],
 "metadata": {
  "kernelspec": {
   "display_name": "Python 3",
   "language": "python",
   "name": "python3"
  },
  "language_info": {
   "codemirror_mode": {
    "name": "ipython",
    "version": 3
   },
   "file_extension": ".py",
   "mimetype": "text/x-python",
   "name": "python",
   "nbconvert_exporter": "python",
   "pygments_lexer": "ipython3",
   "version": "3.7.3"
  }
 },
 "nbformat": 4,
 "nbformat_minor": 2
}
