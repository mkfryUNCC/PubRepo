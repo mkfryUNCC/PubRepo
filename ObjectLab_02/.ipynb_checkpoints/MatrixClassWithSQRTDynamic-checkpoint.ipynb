{
 "cells": [
  {
   "cell_type": "markdown",
   "metadata": {},
   "source": [
    "# Create Matrix to harness rows and columns based off sqrt to make a close to perfect matrix"
   ]
  },
  {
   "cell_type": "code",
   "execution_count": 1,
   "metadata": {},
   "outputs": [],
   "source": [
    "import random as r\n",
    "import math as m"
   ]
  },
  {
   "cell_type": "code",
   "execution_count": 36,
   "metadata": {},
   "outputs": [],
   "source": [
    "def makeList(lenOflist,startRand,endRand):\n",
    "    retList =[]\n",
    "    for i in range(0,lenOflist):\n",
    "        retList.append(r.randint(startRand,endRand))\n",
    "    return retList\n"
   ]
  },
  {
   "cell_type": "code",
   "execution_count": 37,
   "metadata": {},
   "outputs": [],
   "source": [
    "myTestList = makeList(99,0,255)"
   ]
  },
  {
   "cell_type": "code",
   "execution_count": 41,
   "metadata": {},
   "outputs": [
    {
     "ename": "SyntaxError",
     "evalue": "invalid syntax (<ipython-input-41-d8f2ecec44e4>, line 27)",
     "output_type": "error",
     "traceback": [
      "\u001b[0;36m  File \u001b[0;32m\"<ipython-input-41-d8f2ecec44e4>\"\u001b[0;36m, line \u001b[0;32m27\u001b[0m\n\u001b[0;31m    self.rowEntry.append([0]:Col)\u001b[0m\n\u001b[0m                            ^\u001b[0m\n\u001b[0;31mSyntaxError\u001b[0m\u001b[0;31m:\u001b[0m invalid syntax\n"
     ]
    }
   ],
   "source": [
    "class Matrix:\n",
    "    def __init__(self, rowdata,name):\n",
    "        if type(rowdata) == list and len(name)>0:\n",
    "            self.matName = name\n",
    "            colAssign = 1\n",
    "            rowAssign = 1\n",
    "            lastposihold = 0\n",
    "            self.rowEntry=[]\n",
    "            sqRT = m.sqrt(len(rowdata))\n",
    "            Col = m.floor(sqRT)\n",
    "            rowShort = (len(rowdata))-(Col ** 2)\n",
    "            self.colCount = Col\n",
    "            self.rowCount = Col\n",
    "            while colAssign <= Col+1:     \n",
    "                if colAssign == 1 :\n",
    "                    self.rowEntry.append(rowdata[:Col])\n",
    "                    lastposihold = Col\n",
    "                else:\n",
    "                    self.rowEntry.append(rowdata[lastposihold:(Col*rowAssign)])\n",
    "                    lastposihold = (Col*rowAssign)\n",
    "                colAssign += 1\n",
    "                rowAssign += 1\n",
    "            if rowShort <= Col:\n",
    "                self.rowEntry.append(rowdata[lastposihold:(Col*rowAssign)+rowShort])\n",
    "                lastposihold = (Col ** 2)+rowShort\n",
    "          \n",
    "        else:            \n",
    "            return False\n",
    "        \n",
    "    def getRow(self, Row):\n",
    "        if Row > 0 and Row-1<= self.rowCount:\n",
    "            return self.matName + \"-Row:\" +str(Row)+\" values\\n\"+str(self.rowEntry[Row-1])\n",
    "        else:\n",
    "            return False\n",
    "    def getCol(self,Col):\n",
    "        if Col > 0 and Col <= self.colCount:\n",
    "            retCol=[]\n",
    "            for i in range(0,self.rowCount):\n",
    "                retCol.append(self.rowEntry[i][Col-1])\n",
    "            return self.matName + \"-Column:\" +str(Col)+\" values\\n\"+str(retCol)\n",
    "        else:\n",
    "            return False\n",
    "        \n",
    "    def getRowCol(self,Row,Col):\n",
    "        if Col > 0 and Col <= self.colCount  and Row > 0 and Row <= self.rowCount:\n",
    "            return str(self.matName) + \"-Row:\" +str(Row)+\", Column: \"+str(Col)+\" value \\n\"+str(self.rowEntry[Row-1][Col-1])\n",
    "        else:\n",
    "            return False\n",
    "    \n",
    "    def __repr__(self):\n",
    "        retStr =self.matName+\" has \"+str(self.colCount)+ \" Columns and \"+str(self.rowCount)+\" Rows\\n-----------------------------------------------------\\n\"\n",
    "        for z in self.rowEntry:\n",
    "                retStr = retStr + str(z)+\"\\n\"\n",
    "        return(retStr+\"-----------------------------------------------------\")"
   ]
  },
  {
   "cell_type": "code",
   "execution_count": 42,
   "metadata": {},
   "outputs": [],
   "source": [
    "myMatrix = Matrix(myTestList,\"Matrix1\")"
   ]
  },
  {
   "cell_type": "code",
   "execution_count": 43,
   "metadata": {},
   "outputs": [
    {
     "name": "stdout",
     "output_type": "stream",
     "text": [
      "Matrix1 has 9 Columns and 9 Rows\n",
      "-----------------------------------------------------\n",
      "[113, 6, 35, 38, 22, 223, 152, 242, 50]\n",
      "[235, 235, 1, 93, 231, 82, 205, 113, 174]\n",
      "[23, 145, 113, 216, 24, 170, 53, 177, 253]\n",
      "[113, 119, 110, 144, 77, 224, 68, 26, 17]\n",
      "[234, 130, 156, 164, 213, 233, 227, 247, 63]\n",
      "[6, 158, 123, 249, 38, 126, 204, 138, 122]\n",
      "[85, 181, 242, 53, 52, 175, 94, 241, 138]\n",
      "[95, 165, 68, 53, 120, 203, 215, 34, 220]\n",
      "[151, 26, 225, 240, 248, 248, 58, 118, 223]\n",
      "[186, 39, 71, 15, 182, 61, 113, 203, 236]\n",
      "-----------------------------------------------------\n"
     ]
    }
   ],
   "source": [
    "print(myMatrix)"
   ]
  },
  {
   "cell_type": "code",
   "execution_count": null,
   "metadata": {},
   "outputs": [],
   "source": [
    "print(myMatrix.getRow(2))"
   ]
  },
  {
   "cell_type": "code",
   "execution_count": null,
   "metadata": {},
   "outputs": [],
   "source": [
    "print(myMatrix.getRowCol(2,9))"
   ]
  },
  {
   "cell_type": "code",
   "execution_count": null,
   "metadata": {},
   "outputs": [],
   "source": [
    "print(myMatrix.getCol(9))"
   ]
  },
  {
   "cell_type": "code",
   "execution_count": null,
   "metadata": {},
   "outputs": [],
   "source": []
  },
  {
   "cell_type": "code",
   "execution_count": null,
   "metadata": {},
   "outputs": [],
   "source": []
  }
 ],
 "metadata": {
  "kernelspec": {
   "display_name": "Python 3",
   "language": "python",
   "name": "python3"
  },
  "language_info": {
   "codemirror_mode": {
    "name": "ipython",
    "version": 3
   },
   "file_extension": ".py",
   "mimetype": "text/x-python",
   "name": "python",
   "nbconvert_exporter": "python",
   "pygments_lexer": "ipython3",
   "version": "3.7.3"
  }
 },
 "nbformat": 4,
 "nbformat_minor": 2
}
