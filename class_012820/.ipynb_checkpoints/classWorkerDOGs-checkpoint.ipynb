{
 "cells": [
  {
   "cell_type": "code",
   "execution_count": 10,
   "metadata": {},
   "outputs": [],
   "source": [
    "class Dog:\n",
    "    def __init__(self,name,breed):\n",
    "        self.name = name\n",
    "        self.breed = breed\n",
    "        self.happiness = 0\n",
    "        self.friends = []\n",
    "        \n",
    "    def __repr__(self):\n",
    "        return(self.name + \" the \" + self.breed)\n",
    "    \n",
    "    def addFriend(self, friend):\n",
    "        print(self.name + \" became friends with \" + str(friend))\n",
    "        self.friends.append(friend)\n",
    "        friend.friends.append(self)\n",
    "        \n",
    "    def petDog(self):\n",
    "        self.happiness += 10\n",
    "        print(\"You pet \" + self.name)\n",
    "        \n",
    "    def giveTreat(self,treatType):\n",
    "        if treatType == 'Pig Ear':\n",
    "            self.happiness += 30\n",
    "        elif treatType == 'Milkbone':\n",
    "            self.happiness += 20\n",
    "        else:\n",
    "            self.happiness += 15\n",
    "            \n",
    "class DogPark:\n",
    "    def __init__(self):\n",
    "        self.dogsInPark=[]\n",
    "        self.name=name\n",
    "        \n",
    "    def checkDog(self,dog):\n",
    "        if type(dog) == Dog:\n",
    "            return True\n",
    "        else:\n",
    "            return False\n",
    "    def addDogToPark(self,dog):\n",
    "        if self.checkDog(dog):\n",
    "            self.dogsInPark.append(dog)\n",
    "        else:\n",
    "            print(\"That is not a valid dog to add to the park\")\n",
    "    \n",
    "    def getDogsInPark(self):\n",
    "        for dog in self.dogsInPark:\n",
    "            print(str(dog))\n",
    "    def playingTogether(self):\n",
    "        print(str(self.dogsInPark[0]) + \" and \" + self.dogsInPark[2])\n",
    "    \n",
    "\n",
    "            \n",
    "        \n",
    "        \n",
    "        "
   ]
  },
  {
   "cell_type": "code",
   "execution_count": 11,
   "metadata": {},
   "outputs": [
    {
     "name": "stdout",
     "output_type": "stream",
     "text": [
      "Mateo became friends with Snuffles the Terrier\n",
      "Mateo the mutt\n"
     ]
    }
   ],
   "source": [
    "dog1 = Dog(\"Mateo\",\"mutt\")\n",
    "dog2 = Dog(\"Snuffles\", \"Terrier\")\n",
    "dog1.addFriend(dog2)\n",
    "print(dog1)"
   ]
  },
  {
   "cell_type": "code",
   "execution_count": 12,
   "metadata": {},
   "outputs": [
    {
     "name": "stdout",
     "output_type": "stream",
     "text": [
      "Mateo the mutt\n"
     ]
    }
   ],
   "source": [
    "print(dog1.name + \" the \" + dog1.breed)"
   ]
  },
  {
   "cell_type": "code",
   "execution_count": 13,
   "metadata": {},
   "outputs": [
    {
     "name": "stdout",
     "output_type": "stream",
     "text": [
      "You pet Mateo\n",
      "10\n"
     ]
    }
   ],
   "source": [
    "dog1.petDog()\n",
    "print(dog1.happiness)"
   ]
  },
  {
   "cell_type": "code",
   "execution_count": 16,
   "metadata": {},
   "outputs": [
    {
     "ename": "TypeError",
     "evalue": "__init__() takes 1 positional argument but 2 were given",
     "output_type": "error",
     "traceback": [
      "\u001b[1;31m---------------------------------------------------------------------------\u001b[0m",
      "\u001b[1;31mTypeError\u001b[0m                                 Traceback (most recent call last)",
      "\u001b[1;32m<ipython-input-16-5a03c7be9397>\u001b[0m in \u001b[0;36m<module>\u001b[1;34m\u001b[0m\n\u001b[0;32m      1\u001b[0m \u001b[0mrex\u001b[0m \u001b[1;33m=\u001b[0m \u001b[0mDog\u001b[0m\u001b[1;33m(\u001b[0m\u001b[1;34m\"Rex\"\u001b[0m\u001b[1;33m,\u001b[0m \u001b[1;34m\"Jack Russell\"\u001b[0m\u001b[1;33m)\u001b[0m\u001b[1;33m\u001b[0m\u001b[1;33m\u001b[0m\u001b[0m\n\u001b[1;32m----> 2\u001b[1;33m \u001b[0mfreedompark\u001b[0m \u001b[1;33m=\u001b[0m \u001b[0mDogPark\u001b[0m\u001b[1;33m(\u001b[0m\u001b[1;34m\"freedom\"\u001b[0m\u001b[1;33m)\u001b[0m\u001b[1;33m\u001b[0m\u001b[1;33m\u001b[0m\u001b[0m\n\u001b[0m",
      "\u001b[1;31mTypeError\u001b[0m: __init__() takes 1 positional argument but 2 were given"
     ]
    }
   ],
   "source": [
    "rex = Dog(\"Rex\", \"Jack Russell\")\n",
    "freedompark = DogPark(\"freedom\")"
   ]
  },
  {
   "cell_type": "code",
   "execution_count": null,
   "metadata": {},
   "outputs": [],
   "source": []
  },
  {
   "cell_type": "code",
   "execution_count": null,
   "metadata": {},
   "outputs": [],
   "source": []
  },
  {
   "cell_type": "code",
   "execution_count": null,
   "metadata": {},
   "outputs": [],
   "source": []
  }
 ],
 "metadata": {
  "kernelspec": {
   "display_name": "Python 3",
   "language": "python",
   "name": "python3"
  },
  "language_info": {
   "codemirror_mode": {
    "name": "ipython",
    "version": 3
   },
   "file_extension": ".py",
   "mimetype": "text/x-python",
   "name": "python",
   "nbconvert_exporter": "python",
   "pygments_lexer": "ipython3",
   "version": "3.7.1"
  }
 },
 "nbformat": 4,
 "nbformat_minor": 2
}
