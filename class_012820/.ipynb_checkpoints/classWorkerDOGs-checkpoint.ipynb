{
 "cells": [
  {
   "cell_type": "code",
   "execution_count": 42,
   "metadata": {},
   "outputs": [],
   "source": [
    "class Pet:\n",
    "    def __init__(self,name,age,gender):\n",
    "        self.name = name\n",
    "        self.age = age\n",
    "        self.gender = gender\n",
    "    def eat(self):\n",
    "        print(self.name + \" starts to eat thier food...\")\n",
    "    def __repr__(self):\n",
    "        return self.name\n",
    "    \n",
    "    \n",
    "    \n",
    "    "
   ]
  },
  {
   "cell_type": "markdown",
   "metadata": {},
   "source": [
    "### Demonstrate sub classes with init to parent "
   ]
  },
  {
   "cell_type": "code",
   "execution_count": 46,
   "metadata": {},
   "outputs": [],
   "source": [
    "class Cat(Pet):\n",
    "    #pass\n",
    "    def __init__(self,name,age,gender,color):# added additional attribute other than parent\n",
    "        #Pet.__inint__(self,name,age)   -this could be used but super() is better to relate to inheritance\n",
    "        super().__init__(name,age,gender)\n",
    "        self.color = color\n",
    "    def eat(self):\n",
    "        super().eat()#you can also refer to the parent class method even though overriding\n",
    "        print(self.name + \" plays with their food... then eats the rest of it\")\n",
    "        \n",
    "    def __repr__(self):\n",
    "        return \"Your kitty is: \"+self.name"
   ]
  },
  {
   "cell_type": "markdown",
   "metadata": {},
   "source": [
    "### with the subclass you can override any method from the parent"
   ]
  },
  {
   "cell_type": "code",
   "execution_count": 49,
   "metadata": {},
   "outputs": [
    {
     "name": "stdout",
     "output_type": "stream",
     "text": [
      "RittyRat starts to eat thier food...\n",
      "RittyRat plays with their food... then eats the rest of it\n",
      "Your kitty is: RittyRat\n"
     ]
    }
   ],
   "source": [
    "ratcat = Cat(\"RittyRat\",1,\"black\",\"F\")\n",
    "ratcat.eat()\n",
    "print(ratcat)   #demo of the overriding of parent __repr__ method"
   ]
  },
  {
   "cell_type": "code",
   "execution_count": 48,
   "metadata": {},
   "outputs": [],
   "source": [
    "class Dog:\n",
    "    def __init__(self,name,breed):\n",
    "        self.name = name\n",
    "        self.breed = breed\n",
    "        self.happiness = 0\n",
    "        self.friends = []\n",
    "        \n",
    "    def __repr__(self):\n",
    "        return(self.name + \" the \" + self.breed)\n",
    "    \n",
    "    def addFriend(self, friend):\n",
    "        print(self.name + \" became friends with \" + str(friend))\n",
    "        self.friends.append(friend)\n",
    "        friend.friends.append(self)\n",
    "        \n",
    "    def petDog(self):\n",
    "        self.happiness += 10\n",
    "        print(\"You pet \" + self.name)\n",
    "        \n",
    "    def giveTreat(self,treatType):\n",
    "        if treatType == 'Pig Ear':\n",
    "            self.happiness += 30\n",
    "        elif treatType == 'Milkbone':\n",
    "            self.happiness += 20\n",
    "        else:\n",
    "            self.happiness += 15\n",
    "            \n",
    "class DogPark:\n",
    "    def __init__(self,name):\n",
    "        self.dogsInPark=[]\n",
    "        self.name=name\n",
    "        \n",
    "    def checkDog(self,dog):\n",
    "        if type(dog) == Dog:\n",
    "            return True\n",
    "        else:\n",
    "            return False\n",
    "    def addDogToPark(self,dog):\n",
    "        if self.checkDog(dog):\n",
    "            self.dogsInPark.append(dog)\n",
    "        else:\n",
    "            print(\"That is not a valid dog to add to the park\")\n",
    "    \n",
    "    def getDogsInPark(self):\n",
    "        for dog in self.dogsInPark:\n",
    "            print(str(dog))\n",
    "    def playingTogether(self):\n",
    "        print(str(self.dogsInPark[0]) + \" and \" + self.dogsInPark[2])\n",
    "    \n",
    "\n",
    "            \n",
    "        \n",
    "        \n",
    "        "
   ]
  },
  {
   "cell_type": "code",
   "execution_count": 39,
   "metadata": {},
   "outputs": [
    {
     "name": "stdout",
     "output_type": "stream",
     "text": [
      "Mateo became friends with Snuffles the Terrier\n",
      "Mateo the mutt\n"
     ]
    }
   ],
   "source": [
    "dog1 = Dog(\"Mateo\",\"mutt\")\n",
    "dog2 = Dog(\"Snuffles\", \"Terrier\")\n",
    "dog1.addFriend(dog2)\n",
    "print(dog1)"
   ]
  },
  {
   "cell_type": "code",
   "execution_count": null,
   "metadata": {},
   "outputs": [],
   "source": [
    "print(dog1.name + \" the \" + dog1.breed)"
   ]
  },
  {
   "cell_type": "code",
   "execution_count": null,
   "metadata": {},
   "outputs": [],
   "source": [
    "dog1.petDog()\n",
    "print(dog1.happiness)"
   ]
  },
  {
   "cell_type": "code",
   "execution_count": null,
   "metadata": {},
   "outputs": [],
   "source": [
    "pokey = Dog(\"Pokey\", \"Jack Russell\")\n",
    "freedompark = DogPark(\"freedom\")"
   ]
  },
  {
   "cell_type": "code",
   "execution_count": null,
   "metadata": {},
   "outputs": [],
   "source": [
    "freedompark.addDogToPark(pokey)"
   ]
  },
  {
   "cell_type": "code",
   "execution_count": null,
   "metadata": {},
   "outputs": [],
   "source": []
  },
  {
   "cell_type": "code",
   "execution_count": null,
   "metadata": {},
   "outputs": [],
   "source": []
  }
 ],
 "metadata": {
  "kernelspec": {
   "display_name": "Python 3",
   "language": "python",
   "name": "python3"
  },
  "language_info": {
   "codemirror_mode": {
    "name": "ipython",
    "version": 3
   },
   "file_extension": ".py",
   "mimetype": "text/x-python",
   "name": "python",
   "nbconvert_exporter": "python",
   "pygments_lexer": "ipython3",
   "version": "3.7.1"
  }
 },
 "nbformat": 4,
 "nbformat_minor": 2
}
