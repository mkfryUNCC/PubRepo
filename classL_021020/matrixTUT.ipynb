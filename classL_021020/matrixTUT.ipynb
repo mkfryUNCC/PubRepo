{
 "cells": [
  {
   "cell_type": "code",
   "execution_count": 1,
   "metadata": {},
   "outputs": [],
   "source": [
    "lst = [[1,2,3],[3,2,1]]"
   ]
  },
  {
   "cell_type": "code",
   "execution_count": 2,
   "metadata": {},
   "outputs": [],
   "source": [
    "class M:\n",
    "    def __init__(self,data):\n",
    "        self.data =data\n",
    "        \n",
    "    def __repr__(self):\n",
    "        rep =\"\"\n",
    "        for row in self.data:\n",
    "           \n",
    "            rep += str(row) + \"\\n\"\n",
    "\n",
    "        return rep\n",
    "    def getRow(self,rowNum):\n",
    "        return self.data[rowNum]\n",
    "    def getCol(self,colNum):\n",
    "        retlst =[]\n",
    "        for row in self.data:\n",
    "            retlst.append(row[colNum])\n",
    "        return retlst\n",
    "    def getDims(self):\n",
    "        rows = len(self.data)\n",
    "        cols = len(self.data[0])\n",
    "        \n",
    "        return rows, cols\n",
    "    \n",
    "    def addto(self,mat2):\n",
    "        rows1, cols1 = self.getDims()\n",
    "        rows2, cols2 = mat2.getDims()\n",
    "        \n",
    "        if rows1 == rows2 and cols1 == cols2:\n",
    "            for i in range(0,rows1):\n",
    "                for j in range(0,cols1):\n",
    "                    self.data[i][j]+=mat2.data[i][j]\n",
    "                    \n",
    "    def multiTO(self, mat2):\n",
    "        newlst=[]\n",
    "        rows1, cols1 = self.getDims()\n",
    "        rows2, cols2 = mat2.getDims()\n",
    "        \n",
    "        if cols1 == rows2:\n",
    "            for i in range(0,rows1):\n",
    "                sublst = []\n",
    "                for j in range (0, cols2):\n",
    "                    row = self.data[i]\n",
    "                    col = matrix2.getCol(j)\n",
    "                    rowColSum = 0\n",
    "                    for k in range(0,rows1):\n",
    "                        rowColSum += row[k]*col[k]\n",
    "                    sublst.append(rowColSum)\n",
    "                newlst.append(sublst)\n",
    "        \n",
    "            return M(newlst)\n",
    "                "
   ]
  },
  {
   "cell_type": "code",
   "execution_count": 4,
   "metadata": {},
   "outputs": [
    {
     "data": {
      "text/plain": [
       "[4, 5]"
      ]
     },
     "execution_count": 4,
     "metadata": {},
     "output_type": "execute_result"
    }
   ],
   "source": [
    "m1 = M(lst)\n",
    "m1.getCol(1)"
   ]
  },
  {
   "cell_type": "code",
   "execution_count": 3,
   "metadata": {},
   "outputs": [
    {
     "name": "stdout",
     "output_type": "stream",
     "text": [
      "[1, 2, 3]\n",
      "[3, 2, 1]\n",
      "\n",
      "[3, 4, 5]\n",
      "[6, 5, 4]\n",
      "\n",
      "None\n"
     ]
    }
   ],
   "source": [
    "lst2 = [[2,2,2],[3,3,3]]\n",
    "lst3 = [[2,2,2],[3,3,3]]\n",
    "m2=M(lst2)\n",
    "m3=M(lst3)\n",
    "print(m1)\n",
    "m1.addto(m2)\n",
    "print(m1)\n",
    "m3 =m1.multiTO(m2)\n",
    "print(m3)"
   ]
  },
  {
   "cell_type": "code",
   "execution_count": null,
   "metadata": {},
   "outputs": [],
   "source": []
  }
 ],
 "metadata": {
  "kernelspec": {
   "display_name": "Python 3",
   "language": "python",
   "name": "python3"
  },
  "language_info": {
   "codemirror_mode": {
    "name": "ipython",
    "version": 3
   },
   "file_extension": ".py",
   "mimetype": "text/x-python",
   "name": "python",
   "nbconvert_exporter": "python",
   "pygments_lexer": "ipython3",
   "version": "3.7.3"
  }
 },
 "nbformat": 4,
 "nbformat_minor": 2
}
