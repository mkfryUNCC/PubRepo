{
 "cells": [
  {
   "cell_type": "markdown",
   "metadata": {},
   "source": [
    "###http://rosalind.info/problems/ini6/  -String detection and returning counts of words"
   ]
  },
  {
   "cell_type": "code",
   "execution_count": 11,
   "metadata": {},
   "outputs": [],
   "source": [
    "#Declare String for word testing\n",
    "stringTest = \"we are at home and we are at Home and we are going HOME and we aren't going to homebase\""
   ]
  },
  {
   "cell_type": "code",
   "execution_count": 12,
   "metadata": {},
   "outputs": [],
   "source": [
    "#Declare Dictionary for storage\n",
    "wordDir ={}"
   ]
  },
  {
   "cell_type": "code",
   "execution_count": 13,
   "metadata": {},
   "outputs": [],
   "source": [
    "#working with split and define as function to compare performance\n",
    "def splitReturn(passstr):\n",
    "    wordDir.clear()\n",
    "    for i in passstr.split(' '):\n",
    "        if i in wordDir:\n",
    "            wordDir[i]=int(wordDir[i])+1\n",
    "        else:\n",
    "            wordDir[i]= 1\n",
    "    return wordDir"
   ]
  },
  {
   "cell_type": "code",
   "execution_count": 14,
   "metadata": {},
   "outputs": [
    {
     "name": "stdout",
     "output_type": "stream",
     "text": [
      "{'we': 4, 'are': 3, 'at': 2, 'home': 1, 'and': 3, 'Home': 1, 'going': 2, 'HOME': 1, \"aren't\": 1, 'to': 1, 'homebase': 1}\n"
     ]
    }
   ],
   "source": [
    "print(splitReturn(stringTest))"
   ]
  },
  {
   "cell_type": "code",
   "execution_count": 18,
   "metadata": {},
   "outputs": [
    {
     "name": "stdout",
     "output_type": "stream",
     "text": [
      "we 4\n",
      "are 3\n",
      "at 2\n",
      "home 1\n",
      "and 3\n",
      "Home 1\n",
      "going 2\n",
      "HOME 1\n",
      "aren't 1\n",
      "to 1\n",
      "homebase 1\n"
     ]
    }
   ],
   "source": [
    "for key, value in splitReturn(stringTest).items():\n",
    "    print(key + ' ' + str(value))"
   ]
  },
  {
   "cell_type": "code",
   "execution_count": null,
   "metadata": {},
   "outputs": [],
   "source": []
  }
 ],
 "metadata": {
  "kernelspec": {
   "display_name": "Python 3",
   "language": "python",
   "name": "python3"
  },
  "language_info": {
   "codemirror_mode": {
    "name": "ipython",
    "version": 3
   },
   "file_extension": ".py",
   "mimetype": "text/x-python",
   "name": "python",
   "nbconvert_exporter": "python",
   "pygments_lexer": "ipython3",
   "version": "3.7.3"
  }
 },
 "nbformat": 4,
 "nbformat_minor": 2
}
