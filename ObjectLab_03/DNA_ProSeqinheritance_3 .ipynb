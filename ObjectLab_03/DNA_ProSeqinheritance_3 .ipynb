{
 "cells": [
  {
   "cell_type": "markdown",
   "metadata": {},
   "source": [
    "# Define parent sequence class, later inherit class in a DNASeq and ProtienSeq class"
   ]
  },
  {
   "cell_type": "markdown",
   "metadata": {},
   "source": [
    " ### Sequence Class notes\n",
    "    1.Sequence class mainly bulit from previous code"
   ]
  },
  {
   "cell_type": "markdown",
   "metadata": {},
   "source": [
    "### DNASeq Class notes:\n",
    "    1.DNASeq class dep\n",
    "    requirements\n",
    "        -a translate method that will convert the DNA sequence and return a ProteinSequence object\n",
    "        -one other method of your choice (what you did previously is fine)\n",
    "    2. DNA seq should check that it is in fact a DNA seq, functionality checking validity"
   ]
  },
  {
   "cell_type": "markdown",
   "metadata": {},
   "source": [
    "### ProteinSeq Class notes:\n",
    "            -a method of your choice. In this case, if the method you would implement is too complex to reasonably implement or would use resources you don't have access to, it is okay to leave it as what is called a stub method (has only one line, \"pass\") and explain in comments what this method would do and it's purpose\n",
    "            a: ProtienSeq must mave different elements than DNASeq but similarties to Sequence class for inheir\n",
    "            b: What might be unique to protien sequences that might be useful data to add to a method?"
   ]
  },
  {
   "cell_type": "code",
   "execution_count": 1,
   "metadata": {},
   "outputs": [],
   "source": [
    "import datetime as dt#a way to snapshot current datetime"
   ]
  },
  {
   "cell_type": "code",
   "execution_count": 2,
   "metadata": {},
   "outputs": [],
   "source": [
    "def readMultilineFASTA(file):\n",
    "\n",
    "\tfh = open(file)\n",
    "\n",
    "\tname = None\n",
    "\tseq = \"\"\n",
    "\n",
    "\n",
    "\tfor line in fh:\n",
    "\t\tif line.startswith(\">\"):   #Dr. Whaley supplied fasta file pull in function\n",
    "\t\t\tif name:\n",
    "\t\t\t\t\n",
    "\t\t\t\tyield (name,seq)\n",
    "\t\t\t\tname = None\n",
    "\t\t\t\tseq = \"\"\n",
    "\n",
    "\t\t\tname = line.rstrip().lstrip(\">\")\n",
    "\n",
    "\t\telse:\n",
    "\t\t\tseq += line.rstrip()\n",
    "\t\t\t\n",
    "\n",
    "\tyield name,seq"
   ]
  },
  {
   "cell_type": "markdown",
   "metadata": {},
   "source": [
    "#### parent class "
   ]
  },
  {
   "cell_type": "code",
   "execution_count": 3,
   "metadata": {},
   "outputs": [],
   "source": [
    "class Sequence:\n",
    "    def __init__(self,stamp,seq): #initalize parent class Sequence\n",
    "        self.seq = seq\n",
    "        self.stamp = stamp\n",
    "        self.orgLen = len(seq)\n",
    "    def __repr__(self):\n",
    "        return list(self.seq)"
   ]
  },
  {
   "cell_type": "markdown",
   "metadata": {},
   "source": [
    "#### child class 1 of 2  (DNAsequence) checks for validity and provides a conversion to Protein Sequence\n",
    "specific string return"
   ]
  },
  {
   "cell_type": "code",
   "execution_count": 4,
   "metadata": {},
   "outputs": [],
   "source": [
    "class DNASeq(Sequence): # Child sequence class to harness DNA sequence record\n",
    "    def __init__(self,stamp,seq,seqHeader,label,index):\n",
    "      \n",
    "        DNAbase=['G','A','T','C'] #Listto test valid DNASEQ\n",
    "        failindex=0\n",
    "        for i in range(len(seq)):\n",
    "            if seq[i] not in DNAbase:  #Test bases for DNA validity\n",
    "                failindex = i\n",
    "        if failindex==0:\n",
    "            super().__init__(stamp,seq)\n",
    "            self.label = label\n",
    "            self.seqHeader = seqHeader\n",
    "            self.importindex = index\n",
    "            self.orgLen=len(seq)\n",
    "        else:\n",
    "            print(\"Not a DNA SEQUENCE, last failed at char index \"+str(failindex)+\": \"+str(seq[failindex]))\n",
    "\n",
    "            \n",
    "    def stringComptoPro(self,str2,dictKey):# simple method to count occurances of string match\n",
    "        matches=\"\"\n",
    "        for i in range(len(self.seq)):\n",
    "            if self.seq[i:i+len(str2)] == str2:\n",
    "                matches+=dictKey\n",
    "        return matches\n",
    "        \n",
    "    def convertfromKEY(self,convDict):# a dictionary lookup from KEY\n",
    "        newProSeq=\"\"\n",
    "        for i in self.seq:\n",
    "            if i in convDict:\n",
    "                newProSeq+=str(convDict[i])+\"\\n\"\n",
    "        return newProSeq\n",
    "    \n",
    "    def convertfromVal(self,convDict):# a dictionary lookup for Value\n",
    "        newProSeq=\"\"        \n",
    "        for i in range(len(self.seq)):\n",
    "            for key, val in convDict.items():\n",
    "                for vals in val:\n",
    "                    if self.seq[i:i+len(vals)] == vals: \n",
    "                        newProSeq+= key\n",
    "        return newProSeq\n",
    "    def __repr__(self):\n",
    "        if self.orgLen == len(self.seq):  # Checks if original Char length or if Modified\n",
    "            retstr =\"I'm DNASequence: \"+self.label+\"\\n\"\n",
    "            retstr+=\"DataSequence length:\" +str(self.orgLen)+\"\\n\"\n",
    "            retstr+=\"______________________________________________\\n\"\n",
    "            retstr+=self.seq+\"\\n-------------------------------------------------------------\"\n",
    "        else:\n",
    "            retstr =\"I'm DNASequence: \"+self.label+\"\\n\"\n",
    "            retstr+=\"DataSequence orignal length:\" +str(self.orgLen)+\" but was modified to new Length:\"+str(len(seq))+\"\\n\"\n",
    "            retstr+=\"______________________________________________\\n\"\n",
    "            retstr+=self.seq +\"\\n-------------------------------------------------------------\"\n",
    "        return retstr\n",
    "                "
   ]
  },
  {
   "cell_type": "markdown",
   "metadata": {},
   "source": [
    "#### child class 2 of 2 (Protein Sequence) allows linking from converted DNA sequence\n",
    "specific string return"
   ]
  },
  {
   "cell_type": "code",
   "execution_count": 5,
   "metadata": {},
   "outputs": [],
   "source": [
    "class ProSeq(Sequence): #Child sequence class to harness DNA sequence record\n",
    "    def __init__(self,stamp,seq,label):\n",
    "        super().__init__(stamp,seq)\n",
    "        self.label = label\n",
    "        self.DNAimportbit = False # a boolean set false later toggled by method linking to DNAseq\n",
    "        self.DNAseqlabel=\"\"\n",
    "        self.importindex = 0\n",
    "    \n",
    "    def setFromDNA(self,genLabel,index):  #method to update generating sequence label and toggle import bit\n",
    "        self.DNAseqlabel = genLabel\n",
    "        self.DNAimportbit =True\n",
    "        self.importindex = index\n",
    "        \n",
    "    \n",
    "    def __repr__(self):\n",
    "        retstr =\"I'm Protein Sequence: \"+self.label+\"\\n\"\n",
    "        if self.DNAimportbit == False:\n",
    "            retstr+=\"DataSequence length:\" +str(len(self.seq))+\"\\n\"\n",
    "            retstr+=\"______________________________________________\\n\"\n",
    "            retstr+=self.seq+\"\\n-------------------------------------------------------------\"\n",
    "        else:\n",
    "            retstr+=\"DataSequence genrated from \" +self.DNAseqlabel+\" with a length of:\" +str(len(self.seq))+\"\\n\"\"\\n\"\n",
    "            retstr+=\"______________________________________________\\n\"\n",
    "            retstr+=self.seq+\"\\n-------------------------------------------------------------\"\n",
    "        return retstr"
   ]
  },
  {
   "cell_type": "code",
   "execution_count": 6,
   "metadata": {},
   "outputs": [],
   "source": [
    "#supplied DNA translation \n",
    "aa_dict = {'M':['ATG'], 'F':['TTT', 'TTC'], 'L':['TTA', 'TTG', 'CTT', 'CTC', 'CTA', 'CTG'], 'C':['TGT', 'TGC'], 'Y':['TAC', 'TAT'], 'W':['TGG'], 'P':['CCT', 'CCC', 'CCA', 'CCG'], 'H':['CAT', 'CAC'],\n",
    "'Q':['CAA', 'CAG'], 'R':['CGT', 'CGC', 'CGA', 'CGG', 'AGA', 'AGG'], 'I':['ATT', 'ATC', 'ATA'], 'T':['ACT', 'ACC', 'ACA', 'ACG'],\n",
    "'N':['AAT', 'AAC'], 'K':['AAA', 'AAG'], 'S':['AGT', 'AGC', 'TCT', 'TCC', 'TCA', 'TCG'], 'V':['GTT', 'GTC', 'GTA', 'GTG'],\n",
    "'A':['GCT', 'GCC', 'GCA', 'GCG'], 'D':['GAT', 'GAC'], 'E':['GAA', 'GAG'], 'G':['GGT', 'GGC', 'GGA', 'GGG'], '*':['TAA','TAG','TGA']}"
   ]
  },
  {
   "cell_type": "markdown",
   "metadata": {},
   "source": [
    "#### main () I know that there are only 3 returning dictionary entries in supllied FASTA file, so I generate 3 sets of class objects.  "
   ]
  },
  {
   "cell_type": "code",
   "execution_count": 7,
   "metadata": {},
   "outputs": [],
   "source": [
    "counter = 1\n",
    "currentStamp = dt.datetime.now()\n",
    "for name,seq in readMultilineFASTA(\"SampleData.fa\"):\n",
    "    if counter == 1:\n",
    "        DNAtest1 = DNASeq(currentStamp,seq,name,\"DNA1\",counter)\n",
    "        Protest1 = ProSeq(currentStamp,DNAtest1.convertfromVal(aa_dict),\"ProfromDNA1\")\n",
    "        Protest1.setFromDNA(DNAtest1.label,counter*counter)\n",
    "    if counter == 2:\n",
    "        DNAtest2 = DNASeq(currentStamp,seq,name,\"DNA2\",counter)\n",
    "        Protest2 = ProSeq(currentStamp,DNAtest2.convertfromVal(aa_dict),\"ProfromDNA2\")\n",
    "        Protest2.setFromDNA(DNAtest2.label,counter*counter) \n",
    "    if counter == 3:\n",
    "        DNAtest3 = DNASeq(currentStamp,seq,name,\"DNA3\",counter)\n",
    "        Protest3 = ProSeq(currentStamp,DNAtest3.convertfromVal(aa_dict),\"ProfromDNA3\")\n",
    "        Protest3.setFromDNA(DNAtest3.label,counter*counter)\n",
    "    counter+=1"
   ]
  },
  {
   "cell_type": "code",
   "execution_count": 8,
   "metadata": {},
   "outputs": [
    {
     "name": "stdout",
     "output_type": "stream",
     "text": [
      "I'm Protein Sequence: ProfromDNA2\n",
      "DataSequence genrated from DNA2 with a length of:1729\n",
      "\n",
      "______________________________________________\n",
      "MWGARVSLSLSLSPHISRALFSHTHILYTLSPHIFFSPLSHMWGAPLSPPQKRENI*SAQNTHTPQSVYTPHTPPLSLSHISLFFSQNTQKKNTPPPHIFFSRV*KKKNTHTPPQKKNISLSHTPLFFFSREKKKKNTRAPHISHIFFFSLSHTRVFFFSPHM*EKKKNM*DTPQRGEKKNTRENTPPHTLFSLFSLFSRVSRAPRVSRVSRGALCVLCAQSVFFSPREREKSAPRESARDTRGAQSV*ERDTPPQRGERESV*ENILCAPQSAQREKRGESAL*DTLSL*ESVSL*DM*ERGEREKKREREKSAQSALWGERDTRGDILWGEKRDTRGDTRERGESVFSQKREKSVFSHMWGGEKNISPLFSRDIL*EKSALCAQNI*KKSVLWGEREKREKKKRGGAQRDI*RGEKNTLSQKRGDISLL*DI*RGGEKKSV*SVWGGENTPPHIFLCAQRGGDISPL*ENTQKKSVFFLCARV*DTQSVFL*DTPQREREREKRGERERGALWGEREKKSAL*EKRERDTRVFSQKRGAQNIL*DISLL*NTQKSVL*KRGESVLCVFFLWGGVFL*DIYTHIFFFFFSPQNTL*DMCVFSRGERDIFLWGERDMWGERGAHIFFFLCVLWGEKNIFL*ERGERDTPQNIL*EKRERGVSHMCAPPQKNIL*RESAQKKKSALYISL*EKSARGAQRGEKREREKSVLCVCVLYMWGVFSHMWGEKREKKKKNTL*NM*DTHISQREKKNTQRGVSLCVYMWGVCAQNTPPQKNILWGEKNIL*DISLCAQSVFL*ESVSQNTPQKSAL*ESAHTLSPLFLWGGVLYMCV*ESVCAQSV*SAPLLYMCVCVSRAPHTRVFLWGGDTPRV*SALSL*NI*KSVWGALFSLFSPL*EKNTPL*DMCALYTHMWGGDM*DTLYTPLLCAPQNMCVLCVCAPPPLSLFLWGVWGALFSPLYISLYIFFLWGGESVFFSL*ERDI*SARDTL*RESV*DTQSALCALSRVSHTRGVCV*KKNTLSQSVSPHISLFFFSLLCVCAPHISPQNILWGDTQRGALCVFL*RGESV*DM*ENI*NTLYM*ENISHTLCALFSPQKNTQKREKKSARALFFFL*DTHIFSPQSVWGAHTRAHTRGAL*SVCAHIYISLSHTHISHTLWGVCALLCAQNILCALCALFFLCVWGAL*DMWGEKSALFL*NMWGGGGV*DTQNMCAHILCVYIYI*KRGAPRAQNIFSLFSLFL*NI*NISPPLLCALFFSLFFLCVSPQNIFLCVLYILWGVSPLLYTRARGDM*DTPLLWGEKNMCVCALCAPPLYMCAQSVWGEKRGVCVLWGESVFSPLCVL*DISPPPLLCAPLFLCALWGDTLFSL*RGGDMWGVWGV*DTLFSLSL*ENTLLCVLCAPHMCVWGGERDTLSREKRGERGAPRGDILCAHTQKSALYMCVFLWGGERERGVYTRGALCALSLCALYISRVFLCAPHTHISRALFFLYTLLWGGDILWGVWGAPL*KSVWGEKSVCVSPLFLCAPLWGAHMWGGGDILYIFLCAPHTPLFSLFSPRGGGVWGEREKREKNMCAPLCAREKKRDM*EKNISHTPPPPHMWGGERDTRDI*RGVFLCALLWGGGVLCVCVSPLSRGAPLLYISLCALFSPLSHTRALFFFSPPL*NTHISRGERGGDTRVFSLSPQSALSHIFFFL*KSVCAHTPHIFFFFSQRGGGV*DIYMCV*\n",
      "-------------------------------------------------------------\n",
      "I'm DNASequence: DNA2\n",
      "DataSequence length:1731\n",
      "______________________________________________\n",
      "ATGGCGTCTCTCTCCATCGCTTCACATTACTCCATTTCCTCATGGCCTCCCAAGAATAGCAACACCAGTACCACCCTCTCATCTTTCAACAAAACCCCATTTCGTAAAAACACCCAAAATCTCACCTTTTCGAAAAAACGCCATCATTTTCTCACGTTTTCCATGAAAAATGACCAGGAAAACGAACCCACTTCTTCTTCGTCGCCGTCGTCGGCTGTTGCAGTTTCCGAGAAGCCGAGCGACGGCAGTGAGACCCAGGAGAGTGAATTGCCAGCAGAAGGAGCTGACTCTGAGTCTGATGAGGAGAAAGAGAAGCAGCTGGAGACGGATTGGAAGACGGACGAGGAGTTCAAGAAGTTCATGGGAAATCCTTCGATTGAAGCTGCAATAAAGTTGGAGAAGAAAAGGGCAGATAGGAAACTCAAGGATCTTGATAGGGAAAGTAGTGGGAACCCATTTGCAGGGATCCTGAACAAAGTTTTGCGTGACAGTTTGACCAGAGAGAAGGAGAGGCTGGAGAAAGCTGAAGAGACGTTCAAGGCAATTGATCTTAACAAGTTAAGGAGTTGTTTTGGGTTTGATACATTTTTTCCAACTGATGTTCGGAGATTTGGAGATGGAGGCATTTTTGTTGGAAATTTGAGGAGACCAATTGAAGAGGTCATGCCCAAATTAGAGCAAAAGCTATCTGAAGCGGCAGGAAGAGAAGTTGTGTTATGGTTCATGGAAGAAAAAACTAATGACATCAGAAAACAGGTCTGTATGGTGCAACCCAAATTGGAAATTGATCTGCAGTTTGAGTCAACCAAGCTGAGCACTCCTTTGGGTTATGTGAGTGCAGTAGCCTTATGTGTCGCCACGTTTGGGACCGTAGCTCTAATAAGTGGCTTCTTCCTGAAACCTGATGCTACATGGGATGACTACCTTGCCAATGTTGTGCCCCTCTTTGGTGGCTTCCTATCTATTTTGGGAGTTTCTGAGATAGCGACTAGAGTGACAGCTGCTCGTCACGGTGTAAAACTCAGTCCATCTTTTCTTGTGCCATCCAATTGGACAGGCTGTTTAGGAGTGATGAATAACTATGAATCACTGCTTCCAAACAAGAAAGCGCTTTTTGACATTCCAGTGGCACGCACGGCTAGTGCATATCTCACATCACTGGTGCTTGCAATTGCTGCTTTTGTGGCTGATGGAAGCTTTAATGGGGGTGACAATGCATTGTATATAAGGCCGCAATTCTTCTTTAATAATCCCTTGCTTTCTTTTGTCCAATTTGTTATTGGTCCTTACGCGGATGACCTTGGAAATGTGCTGCCCTATGCAGTGGAAGGTGTTGGAGTTCCTGTTGATCCCCTTGCCTTTGCTGGACTTCTAGGGATGGTGGTGACTTCTCTGAACTTGTTGCCATGTGGGAGACTCGAAGGAGGCCGGATTGCACAAGCTATGTTTGGGAGAGGTACGGCTGCTCTGCTATCGTTTGCCACATCGCTTTTACTTGGGATTGGTGGCCTAAGTGGAAGTGTCCTTTGCCTGGCATGGGGATTATTTGCCACCTTCTTCCGGGGTGGAGAAGAAATGCCTGCGAAAGATGAAATCACCCCCATGGGAGACGATAGGTTTGCTTGGGGTTGTGTCCTCGGCCTTATCTGCTTCCTCACGCTTTTCCCTAACATCGGAGGGACGTTCTCCAGCTCATTTTTAAGTGCACCATTTTTCAGGGGTGATATGTAA\n",
      "-------------------------------------------------------------\n"
     ]
    }
   ],
   "source": [
    "print(Protest2)\n",
    "print(DNAtest2)"
   ]
  },
  {
   "cell_type": "code",
   "execution_count": 9,
   "metadata": {},
   "outputs": [
    {
     "name": "stdout",
     "output_type": "stream",
     "text": [
      "I'm Protein Sequence: ProfromDNA1\n",
      "DataSequence genrated from DNA1 with a length of:2944\n",
      "\n",
      "______________________________________________\n",
      "M*DMCAQSVSPRVWGALSPLCVCVCAQNMCVSLCARGARESAQRGVWGGGALLWGVCAPQNMWGGGERGVFFFSRVWGAHMCAPHTRESVCV*NIFFSPPPHIFLCAQKRGALLCVFFSRDM*EKRDMCVSQKRGALWGGARV*KKSVFLCALLCAQSVCVWGVYIFSPPLYM*DTRDI*NTPPRVLWGARGESVYM*EKNTQKKRGVCVSQRGAHTLSRDISPHTQNMWGEKSALSHTPL*ENI*NIYTHTQRGDIYTQRGENIFSHMCAL*RGAHIYISQSAQSVCVCVSLYTRVLWGDI*SV*ENIL*KNTRDM*ENISLWGAQNISPRDIFLWGEKRENI*RESVWGEKKSVLWGEKRGDI*KREKRGDI*KREKRGDI*KKKKRDISQKREKREKKKKRGDIYTHTPL*NMWGGGEKKKKRERGALSQKNIFSPHTPL*EREKSAQRDM*DTQRERGENIYIFSHISQRERGALCARGENTPHTLFFSQNTLSLSRVSPPHTLFSPHISL*NTQRENISHTHTPHIYTQRENTLCVLYI*NILYMCARDIL*DISHIFSLSRAPPLFFFSLFSPHILYISRESV*NTQKNISPLCVL*DI*SVCALLYTRGVSLYMWGVFSHTLFSRDISHIYMCV*ERDISLWGVFLCALFFFFSLLWGGVCVLWGDISQSVFFSPL*KSVWGVSLSPQSVL*NISRGDTLYTHIFLYTL*DTQRGVLYISLCAPQRGVFL*EKKRERERGGV*ENTLSLSPRESALLCALCALCVWGDIFFSLFSRV*KSVYTQSVL*DISPRVL*EKKRENTPRAPPLL*DILYTLCAPQNIYTPRVCALFFSLYISPLLCALCV*RDTLYTPPLCVWGDTQKKSVFFSPLCALYMCVCVSL*DM*DMWGVCALCAPHMCALLYTHIFL*ENISPPLLCAPREKNTHISL*ENIFLCAQNTQKKSVWGGVFSPLFFSLCAQKREKNIFFFSQNIL*ENTPHTRVCAHTPL*ESVFFLYTLFSLSHTQKKKRDIL*DTLYTLL*EKRGDI*KKSVCAQNTPHISLFFLCV*EKRGESARAQRESARDM*EKKKRERDILYM*EKRESVFSQKKSVCARENM*ENMCALFL*SV*SAQKKRGALSQKKKKNTHTPQREKREKRGDMWGDTLYMCAQKRDMWGENTLSPHMWGAPQRGEKNI*NTLSRARV*DTPHISPLWGGDM*DISPQRGVCVFSPLLWGDTHI*SARGVCAPLYM*DTHISRERGGEKNM*ENTLFSPLSRDILWGVFLYMCVSLSREREREREKRERDTPPRGALYTPPHTHISHTQKREKKSALWGVCAL*EKKNMCALFLWGV*KRGGVCVSLCAQSVFSLSHTQKNMCAPPPHIYTHISPLSQNISLL*DTLCV*DISHTLYTRVL*NTQNTQSAPQRGAQNIFSRV*ERGAQNMCVCVFFSLL*DMWGDTPPLSQKSVSRGVSREREKSVYMCALYMCVCAQSVFFSPLSQRERGVFL*DMWGVYIL*DISRAQSV*DISRDIYMCAL*NISRAQNTHTQSVFFFSLFL*DMCVL*NTHM*EKKRGDTLWGDMWGAHIFSQKRGVSPQSVYIYMCVWGGGDTQRGDMCVLCVFFSQNTQRGAQKSAHTLFLYTRGALYTRGVSPLSPLFSLYMCAPPRAPLLYISPQKRGALCALFSPLSHISPLSPLCALSLLCVLCALCVSPPLSL*KREKSAPPLSL*KKRDMCVCVSQRERGALLYISRERDMCAQKKNTQRGERGESALL*DMCALCAPHIFFFL*NTPLSPRV*DIYIL*ERENILYM*DM*ESALL*ERERGVSQNMCAL*DISLSRAQRDTQKSALFL*EREKKNTLFFLWGDILYISRVSLCVYIFSHISRENISLYTRAL*NMWGERENTRGERGESVWGAPRENISLFSPQNTPPLFSQNTHIL*DISQKRGERGARDIFSHTRVSHIL*SALCVWGVLYM*EKREREKRDTPRARVWGGGEKKKRERDILWGVLWGDIYIYMWGDISQNISHTL*ERGDIYISLL*NTPRGVFFSQKRDMCAHILCAPRVWGDMWGERGVSQNIFLYTLCAHMCAPPLL*ERDTPLCAHIFSQKKRGGVSQSALSPPHIL*NTPLFFSL*DISRDTLCAHTPQKSVFSLFSRGVWGGAHTLWGGDISRGVWGEKNIFFFSPLSQSV*RDTHILCVSPLSLSLWGVYTRGGVFLCAQRGERGAPRAPLSQKNILCALFSQRERENMWGAHIYIYISQNTHTLYILCVFLYTPPPLFSHTHISPPLSPPLSLSRVSRALLYTLCAHTHTLSPPLCAQNIYMCAPLFSLSHTQRGEKKNIFSHISHISPPQNTHTLLYTQKNTPLWGAQKSVCAPPLCVFFSLLWGAPLSLFSHISLSPHISHILCALYTQKSVCVCALL*ESVL*ERGVWGESVWGESVSPRAHIL*ERGDTLLYMWGARV*NTRESAQSVFSLWGGV*DISRGERGVCVFFSQSAPPHISLSLFLCAPRVSLFSPQKRGVFFSLL*KKRDMCVLWGAPRGENIL*DTHTPQNTLFSHTPRVSHTQNTPQKNISQSAPREKRDTHTQRENIFSRGERESALSLYISL*DISQKNMWGDTPHTHTLFFL*DIFSPPPPQNTLYTHTLSPLSHISRVSQNTHMWGVLWGVCVLCVLCAQRGDIFFFSRGDTRAPPLSQNTQKRGGDIYTREKSALLWGGGGAPHTLFFFSRGGEKRGVFFFSLFLCAPLFSLWGGV*DIFSLFSHISLYIYISPPLFSPLSQKKRGVSLSHMWGGDTRAPQKKNTPRGDTLSPQNTPHISRVLCVFFLCVWGVSQSVCALSLLWGAPLSLCVSLFSLSPPLLCVFLWGGV*EKRDI*KNISPHIFLCV*ESAQKKSVWGDTQSALSQNTRALLCALSQKKSALCAHIFFSPHI*RDTLCAL*\n",
      "-------------------------------------------------------------\n",
      "I'm DNASequence: DNA1\n",
      "DataSequence length:2946\n",
      "______________________________________________\n",
      "ATGATGCAGTCCGTGGCTCCTGTGTGCAATGTCTGCGGCGAGCAGGTGGGGCTTGGTGCCAATGGGGAGGTTTTCGTGGCATGCCACGAGTGTAATTTCCCCATTTGCAAGGCTTGTTTCGATGAAGATGTCAAGGCTGGGCGTAAAGTTTGCTTGCAGTGTGGTATTCCCTATGACGATAACCCGTTGGCGGAGTATGAAACAAAGGTGTCAGGCACTCGATCCACAATGGAAGCTCACCTGAATAATACACAGGATACAGGAATTCATGCTAGGCATATCAGCAGTGTGTCTACGTTGGATAGTGAATTAAACGATGAATCTGGCAATCCGATTTGGAAGAATAGAGTGGAAAGTTGGAAGGATAAGAAGGATAAGAAGGATAAAAAGATCAAGAAGAAAAAGGATACACCTAATGGGGAAAAAGAGGCTCAAATTCCACCTGAGAAGCAGATGACAGAGGAATATTCATCAGAGGCTGCGGAACCACTTTCAACTCTCGTCCCACTTCCATCTAACAGAATCACACCATACAGAACTGTTATAATTATGCGATTGATCATTCTCGCCCTTTTCTTCCATTATCGAGTAACAAATCCTGTTGATAGTGCTTACGGTCTATGGTTCACTTCGATCATATGTGAGATCTGGTTTGCTTTTTCTTGGGTGTTGGATCAGTTTCCTAAGTGGTCTCCAGTTAATCGGACTACATTTACTGACAGGTTATCTGCCAGGTTTGAAAGAGAGGGTGAACTCTCCGAGCTTGCTGCTGTGGATTTCTTCGTAAGTACAGTTGATCCGTTGAAAGAACCGCCCTTGATTACTGCCAATACCGTGCTTTCTATCCTTGCTGTAGACTACCCTGTGGACAAAGTTTCCTGCTATGTGTCTGATGATGGTGCTGCCATGCTTACATTTGAATCCCTTGCCGAAACATCTGAATTTGCAACAAAGTGGGTTCCTTTCTGCAAGAAATTTTCAATTGAACCACGTGCACCTGAGTTTTACTTCTCACAAAAGATTGACTACTTGAAGGATAAAGTGCAACCATCTTTTGTGAAGGAGCGCAGAGCGATGAAAAGAGATTATGAAGAGTTCAAAGTGCGAATGAATGCTTTAGTAGCAAAGGCTCAAAAAACACCAGAAGAAGGATGGACTATGCAAGATGGAACTCCATGGCCAGGAAATAACTCGCGTGACCATCCTGGGATGATCCAGGTGTTCCTTGGACATAGCGGTGCCTATGACATCGAGGGAAATGAACTTCCTCGATTGGTTTATGTCTCGAGAGAGAAGAGACCCGGCTACCCACATCACAAGAAAGCTGGTGCTGAAAATGCTTTGGTAAGGGTGTCTGCAGTTCTCACAAATGCCCCATACATCCTCAATCTTGACTGTGATCACTACGTTAACAACAGCCAGGCAATTCGTGAGGCAATGTGTTTCTTGATGGACCCTCAAGTCGGTCGAGAAGTATGCTATGTGCAGTTTCCTCAGAGGTTTGATGGTATTGATCGCAGTGATCGATATGCTAATCGCAACACAGTTTTCTTTGATGTTAACATGAAAGGACTGGATGGCATTCAAGGTCCAGTATATGTGGGGACAGGATGTTGTTTCAACAGGCAAGCACTTTACGGCTACGGTCCTCCTTCTATGCCCGCCTTATCCAAGGCTGCTTCCTCATCCTCCTGCTCTTGTTGCTGTCCCTCTAAGAAGCCCTCTAAAGATGTGTCAGAGGCTTATCGAGATGCAAAACAGGAGGAGCTTGATGCTGCCATTTTTAACCTCCGTGATATTGAGAATTATGATGAGCTTGAGAGGTCAATGCTGATCTCGCAGACAAGCTTTGAGAAAACTTTTGGATTATCGTCTGTATTCATCGAATCTACGCTAATGGAGAACGGAGGAGTGGCCGAATCTTCCAACCCTTCAACATTGATCAAGGAGGCGATTCACGTCATTAGCTGTGGTTATGAAGAGAAGACCGCGTGGGGAAAAGAGATTGGTTGGATATATGGATCAATCACTGAGGATATCTTAACCGGTTTCAAGATGCATTGCCGTGGATGGAGGTCAATTTACTGCATGCCCTTGAGACCTGCATTCAAAGGGTCAGCTCCCATTAACCTTTCTGATCGACTGCACCAAGTTCTTCGGTGGGCACTGGGATCGGTGGAAATTTTCCTCAGTAGACATTGTCCTCTCTGGTACGGGTTTGCAGGAGGCCGCCTCAAATTGCTTCAGAGAATGGCATATATCAACACTATTGTTTACCCCTTCACATCCCTCCCTCTCGTCGCTTACTGCACACTCCCTGCAATATGCCTTCTCACAGGAAAATTCATCATCCCAACACTTACAAACCTGGCAAGTGCCCTGTTTCTTGGCCTCTTCATCTCCATCATTGCTACAAGTGTGCTTGAGTTGAGGTGGAGTGGAGTCCGCATTGAGGACTTATGGCGTAACGAGCAGTTCTGGGTGATCGGAGGTGTTTCAGCCCATCTCTTTGCCGTCTTCCAAGGTTTCTTAAAGATGTTGGCCGGAATTGACACCAACTTCACCGTCACAACCAAATCAGCCGAAGACACAGAATTCGGAGAGCTCTATCTGATCAAATGGACCACACTTTTGATTCCCCCAACTACACTCCTCATCGTCAACATGGTTGGTGTTGTTGCAGGATTTTCGGACGCCCTCAACAAGGGATACGAAGCTTGGGGGCCACTTTTCGGGAAGGTTTTCTTTGCCTTCTGGGTGATTCTTCATCTATATCCCTTCCTCAAAGGTCTCATGGGACGCCAAAACCGGACTCCAACCATCGTTGTTTTGTGGTCAGTGCTCTTGGCCTCTGTCTTCTCCCTTGTTTGGGTGAAGATAAATCCATTTGTGAGCAAAGTGGACAGCTCAACGCTTGCTCAAAGCTGCATTTCCATAGACTGCTGA\n",
      "-------------------------------------------------------------\n"
     ]
    }
   ],
   "source": [
    "print(Protest1)\n",
    "print(DNAtest1)"
   ]
  },
  {
   "cell_type": "code",
   "execution_count": 10,
   "metadata": {},
   "outputs": [
    {
     "name": "stdout",
     "output_type": "stream",
     "text": [
      "I'm DNASequence: DNA3\n",
      "DataSequence length:468\n",
      "______________________________________________\n",
      "ATGTCGTCGTCGTCGAAGATCACCCTGCAGAGCTCCGACGGCGAGTCGTTCGAGGTCGAGGAGGCGGTGGCGCTGGAATCACAGACCATTGGGCTCGTGATCGAGAACGACTGCGCCGACAACTGTATTCCTTTGCCCAACGTCACCAGCAAGATCTTGGCCATGGTCATCGAGTACTGCAAGAGGCACGTCGACGCCGCCAAGCTCGACGAGAAGATCTTCGAGGACGATCTCGAGTCCTGGGATCAGGCGTTCGTAAAGGTGGACCAGGCTACGCTGTTTGATCTCATTAACGCTGCAGCCTACTTGAACATCAAGAGCCTTTTGGACCTGACATGCCAGGCAGTTGCAGACATGATCAAGGGTAAGACTCCAGAAGAGATCAGAAAGACCTTCAACATCAAGGACGAGTTCACCCTGGAGGAAGAGGAGGAAGTTCGTCGTGAGAACCAGTGGGCGTTTGAATGA\n",
      "-------------------------------------------------------------\n",
      "I'm Protein Sequence: ProfromDNA3\n",
      "DataSequence genrated from DNA3 with a length of:466\n",
      "\n",
      "______________________________________________\n",
      "MCVSRVSRVSRVSREKRDISHTPPLCAQRESALSPRDTRGARESVSRVFSRERGVSRERGERGARGVWGARALWGENISHTQRDTPHILWGGALSRV*DISRERENTRDTLCARAPRDTQNTLCVYIFSPLFLCAPPQNTRVSHTPQSAQKRDISLLWGAPHMWGVSHISRESVYTLCAQKRERGAHTRVSRDTRAPRAPQKSALSRDTREREKRDISLFSRERGDTRDISLSRESVSPLWGGDISQRGARVFSRV*KKRGVWGDTPQRGALYTRALCVFL*DISLSHIL*NTRALCAQSAPLYTLL*ENTHISQKRESAPLFFLWGDTPL*DTHMCAPQRGAQSVLCAQRDTHM*DISQKRGGV*KRDTLSPQREKRERDISQREKKRDTPLFSQNTHISQKRGDTRESVFSHTPPLWGERGEKRERGERGEKSVFSRVSRV*ERENTPQSVWGGARVFL*ENM*\n",
      "-------------------------------------------------------------\n"
     ]
    }
   ],
   "source": [
    "print(DNAtest3)\n",
    "print(Protest3)"
   ]
  },
  {
   "cell_type": "markdown",
   "metadata": {},
   "source": [
    "## I added a datetime stamp to seq class, and import index to child classes thinking that might aid in sorting, these instance variables where not used but were assigned"
   ]
  }
 ],
 "metadata": {
  "kernelspec": {
   "display_name": "Python 3",
   "language": "python",
   "name": "python3"
  },
  "language_info": {
   "codemirror_mode": {
    "name": "ipython",
    "version": 3
   },
   "file_extension": ".py",
   "mimetype": "text/x-python",
   "name": "python",
   "nbconvert_exporter": "python",
   "pygments_lexer": "ipython3",
   "version": "3.7.3"
  }
 },
 "nbformat": 4,
 "nbformat_minor": 2
}
