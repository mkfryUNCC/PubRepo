{
 "cells": [
  {
   "cell_type": "markdown",
   "metadata": {},
   "source": [
    "# Define parent sequence class, later inherit class in a DNASeq and ProSeq class"
   ]
  },
  {
   "cell_type": "markdown",
   "metadata": {},
   "source": [
    " ### Sequence Class notes\n",
    "    1.Sequence class mainly bulit from previous code\n",
    "    2. provide a simple translation dictionary to X-reference inside object (may not be the most efficient route,might be hidden redunancy)"
   ]
  },
  {
   "cell_type": "markdown",
   "metadata": {},
   "source": [
    "### DNASeq Class notes:\n",
    "    1.DNASeq class dep\n",
    "    requirements\n",
    "        -a translate method that will convert the DNA sequence and return a ProteinSequence object\n",
    "        -one other method of your choice (what you did previously is fine)\n",
    "    2. DNA seq should check that it is in fact a DNA seq, functionality checking validity"
   ]
  },
  {
   "cell_type": "markdown",
   "metadata": {},
   "source": [
    "### ProteinSeq Class notes:\n",
    "            -a method of your choice. In this case, if the method you would implement is too complex to reasonably implement or would use resources you don't have access to, it is okay to leave it as what is called a stub method (has only one line, \"pass\") and explain in comments what this method would do and it's purpose\n",
    "            a: ProtienSeq must mave different elements than DNASeq but similarties to Sequence class for inheir\n",
    "            b: What might be unique to protien sequences that might be useful data to add to a method?"
   ]
  },
  {
   "cell_type": "code",
   "execution_count": 1,
   "metadata": {},
   "outputs": [],
   "source": [
    "import datetime as dt#a way to snapshot current datetime"
   ]
  },
  {
   "cell_type": "code",
   "execution_count": 2,
   "metadata": {},
   "outputs": [],
   "source": [
    "def readMultilineFASTA(file):\n",
    "\n",
    "\tfh = open(file)\n",
    "\n",
    "\tname = None\n",
    "\tseq = \"\"\n",
    "\n",
    "\n",
    "\tfor line in fh:\n",
    "\t\tif line.startswith(\">\"):   #Dr. Whaley supplied fasta file pull in function\n",
    "\t\t\tif name:\n",
    "\t\t\t\t\n",
    "\t\t\t\tyield (name,seq)\n",
    "\t\t\t\tname = None\n",
    "\t\t\t\tseq = \"\"\n",
    "\n",
    "\t\t\tname = line.rstrip().lstrip(\">\")\n",
    "\n",
    "\t\telse:\n",
    "\t\t\tseq += line.rstrip()\n",
    "\t\t\t\n",
    "\n",
    "\tyield name,seq"
   ]
  },
  {
   "cell_type": "markdown",
   "metadata": {},
   "source": [
    "#### parent class "
   ]
  },
  {
   "cell_type": "code",
   "execution_count": 3,
   "metadata": {},
   "outputs": [],
   "source": [
    "class Sequence:\n",
    "    #supplied DNA translation \n",
    "    transDict = {'M':['ATG'], 'F':['TTT', 'TTC'], 'L':['TTA', 'TTG', 'CTT', 'CTC', 'CTA', 'CTG'], 'C':['TGT', 'TGC'], 'Y':['TAC', 'TAT'], 'W':['TGG'], 'P':['CCT', 'CCC', 'CCA', 'CCG'], 'H':['CAT', 'CAC'],\n",
    "    'Q':['CAA', 'CAG'], 'R':['CGT', 'CGC', 'CGA', 'CGG', 'AGA', 'AGG'], 'I':['ATT', 'ATC', 'ATA'], 'T':['ACT', 'ACC', 'ACA', 'ACG'],\n",
    "    'N':['AAT', 'AAC'], 'K':['AAA', 'AAG'], 'S':['AGT', 'AGC', 'TCT', 'TCC', 'TCA', 'TCG'], 'V':['GTT', 'GTC', 'GTA', 'GTG'],\n",
    "    'A':['GCT', 'GCC', 'GCA', 'GCG'], 'D':['GAT', 'GAC'], 'E':['GAA', 'GAG'], 'G':['GGT', 'GGC', 'GGA', 'GGG'], '*':['TAA','TAG','TGA']}\n",
    "    def __init__(self,stamp,seq): #initalize parent class Sequence\n",
    "        self.seq = seq\n",
    "        self.stamp = stamp # date time stamp of Seq creation\n",
    "        self.orgLen = len(seq)  # this stores original char len, if seq's length is modifed then this will tell us that \n",
    "    def __repr__(self):\n",
    "        return list(self.seq)"
   ]
  },
  {
   "cell_type": "markdown",
   "metadata": {},
   "source": [
    "#### child class 1 of 2  (DNAsequence) checks for validity and provides a conversion to Protein Sequence\n",
    "specific string return, a triple char list return, translation to Protein Sequence "
   ]
  },
  {
   "cell_type": "code",
   "execution_count": 4,
   "metadata": {},
   "outputs": [],
   "source": [
    "class DNASeq(Sequence): # Child sequence class to harness DNA sequence record\n",
    "    \n",
    "    \n",
    "    \n",
    "    def __init__(self,stamp,seq,seqHeader,label,index):\n",
    "          \n",
    "        if isinstance(seq, ProSeq):\n",
    "            return \"Protein Sequence not allowed...\"\n",
    "    \n",
    "        else:\n",
    "            DNAbase=['G','A','T','C','N'] #List to test valid DNAseq\n",
    "            failindex=0\n",
    "            for i in range(len(seq)):\n",
    "                if seq[i] not in DNAbase:  #Test bases for DNA validity\n",
    "                    failindex = i\n",
    "            if failindex==0:\n",
    "                super().__init__(stamp,seq)\n",
    "                self.label = label\n",
    "                self.seqHeader = seqHeader\n",
    "                self.importindex = index\n",
    "                self.orgLen=len(seq)\n",
    "            else:\n",
    "                print(\"Not a DNA SEQUENCE, last failed at char index \"+str(failindex)+\": \"+str(seq[failindex]))\n",
    "\n",
    "               \n",
    "    def returnTriples(self):  #breaks DNA sequence into 3 character item list\n",
    "        triples = [self.seq[i:i+3] for i in range(0, len(self.seq), 3)]\n",
    "        return triples\n",
    "    \n",
    "    def transToPro(self):# a dictionary lookup for Value --translation method to ProSeq\n",
    "        newSeq=\"\"\n",
    "        for i in self.returnTriples():\n",
    "            for key, val in super().transDict.items():\n",
    "                if i in val:\n",
    "                    newSeq+=str(key)\n",
    "        return newSeq\n",
    "    \n",
    "    def convertfromVal(self): #another converting method but transToPro I thought might be more efficient to demo\n",
    "        newSeq=\"\"\n",
    "        testSTR =\"\"\n",
    "        for i in range(len(self.seq)):\n",
    "            if i%3 ==0:\n",
    "                if i ==0:\n",
    "                    testSTR = self.seq[0:3]\n",
    "                else:\n",
    "                    testSTR = self.seq[i-3:i]\n",
    "                \n",
    "                for key, val in super().transDict.items():\n",
    "                    if testSTR in val:\n",
    "                        newSeq+=str(key)\n",
    "                myindex = i\n",
    "            else:\n",
    "                myindex=i\n",
    "        return newSeq\n",
    "    \n",
    "    def __repr__(self):\n",
    "        if self.orgLen == len(self.seq):  # Checks if original Char length or if Modified\n",
    "            retstr =\"I'm DNASequence: \"+self.label+\"\\n\"\n",
    "            retstr+=\"DataSequence length:\" +str(self.orgLen)+\"\\n\"\n",
    "            retstr+=\"______________________________________________\\n\"\n",
    "            retstr+=self.seq+\"\\n-------------------------------------------------------------\"\n",
    "        else:\n",
    "            retstr =\"I'm DNASequence: \"+self.label+\"\\n\"\n",
    "            retstr+=\"DataSequence orignal length:\" +str(self.orgLen)+\" but was modified to new Length:\"+str(len(seq))+\"\\n\"\n",
    "            retstr+=\"______________________________________________\\n\"\n",
    "            retstr+=self.seq +\"\\n-------------------------------------------------------------\"\n",
    "        return retstr\n",
    "                "
   ]
  },
  {
   "cell_type": "markdown",
   "metadata": {},
   "source": [
    "#### child class 2 of 2 (Protein Sequence) allows linking from converted DNA sequence\n",
    "specific string return, a set method, a convert return values from dictionary"
   ]
  },
  {
   "cell_type": "code",
   "execution_count": 5,
   "metadata": {},
   "outputs": [],
   "source": [
    "class ProSeq(Sequence): #Child sequence class to harness DNA sequence record\n",
    "\n",
    "    def __init__(self,stamp,seq,label):\n",
    "        \n",
    "        if isinstance(seq, DNASeq): #test if  DNASeq obj\n",
    "            print(\"Not a valid Protien Sequence\")\n",
    "        else:\n",
    "            failindex = 0\n",
    "            for i in seq:           #check for valid Amino Acid Chars\n",
    "                if i not in super().transDict.keys():\n",
    "                        failindex+=1\n",
    "            if failindex > 0:\n",
    "                print(str(failindex)+ \" invalid characters made this sequence not a proper protien sequence\")\n",
    "            else:\n",
    "                \n",
    "                super().__init__(stamp,seq)\n",
    "                self.label = label\n",
    "                self.DNAimportbit = False # a boolean set false later toggled by method linking to DNAseq\n",
    "                self.DNAseqlabel=\"\"\n",
    "                self.importindex = 0\n",
    "    \n",
    "    def setFromDNA(self,genLabel,index):  #method to update generating sequence label and toggle import bit\n",
    "        self.DNAseqlabel = genLabel\n",
    "        self.DNAimportbit =True\n",
    "        self.importindex = index\n",
    "        \n",
    "    def convertfromKEY(self):# a dictionary lookup from KEY\n",
    "        newSeq=\"\"\n",
    "        for i in self.seq:\n",
    "            for key,val in super().transDict.items():\n",
    "                if i in key:\n",
    "                    newSeq +=val[0]\n",
    "        return newSeq\n",
    "    \n",
    "    def countAcids(self):# a simple method to count Amino Acid codes\n",
    "        acidCount={}\n",
    "        for i in self.seq:\n",
    "            if i not in acidCount.keys():\n",
    "                acidCount[i]=1\n",
    "            else:\n",
    "                acidCount[i]=int(acidCount[i])+1\n",
    "        return acidCount\n",
    "    \n",
    "    def __repr__(self):\n",
    "        retstr =\"I'm Protein Sequence: \"+self.label+\"\\n\"\n",
    "        if self.DNAimportbit == False:\n",
    "            retstr+=\"DataSequence length:\" +str(len(self.seq))+\"\\n\"\n",
    "            retstr+=\"______________________________________________\\n\"\n",
    "            retstr+=self.seq+\"\\n-------------------------------------------------------------\"\n",
    "        else:\n",
    "            retstr+=\"DataSequence genrated from \" +self.DNAseqlabel+\" with a length of:\" +str(len(self.seq))+\"\\n\"\"\\n\"\n",
    "            retstr+=\"______________________________________________\\n\"\n",
    "            retstr+=self.seq+\"\\n-------------------------------------------------------------\"\n",
    "        return retstr"
   ]
  },
  {
   "cell_type": "markdown",
   "metadata": {},
   "source": [
    "#### main () I know that there are only 3 returning dictionary entries in supllied FASTA file, so I generate 3 sets of class objects.  "
   ]
  },
  {
   "cell_type": "code",
   "execution_count": 6,
   "metadata": {},
   "outputs": [],
   "source": [
    "counter = 1\n",
    "currentStamp = dt.datetime.now()\n",
    "for name,seq in readMultilineFASTA(\"SampleData.fa\"):\n",
    "    if counter == 1:\n",
    "        DNAtest1 = DNASeq(currentStamp,seq,name,\"DNA1\",counter)\n",
    "        Protest1 = ProSeq(currentStamp,DNAtest1.transToPro(),\"ProfromDNA1\")\n",
    "        Protest1.setFromDNA(DNAtest1.label,counter*counter)\n",
    "    if counter == 2:\n",
    "        DNAtest2 = DNASeq(currentStamp,seq,name,\"DNA2\",counter)\n",
    "        Protest2 = ProSeq(currentStamp,DNAtest2.convertfromVal(),\"ProfromDNA2\")\n",
    "        Protest2.setFromDNA(DNAtest2.label,counter*counter) \n",
    "    if counter == 3:\n",
    "        DNAtest3 = DNASeq(currentStamp,seq,name,\"DNA3\",counter)\n",
    "        Protest3 = ProSeq(currentStamp,DNAtest3.convertfromVal(),\"ProfromDNA3\")\n",
    "        Protest3.setFromDNA(DNAtest3.label,counter*counter)\n",
    "    counter+=1"
   ]
  },
  {
   "cell_type": "markdown",
   "metadata": {},
   "source": [
    "#### Print results from DNAseq objects"
   ]
  },
  {
   "cell_type": "code",
   "execution_count": 7,
   "metadata": {},
   "outputs": [
    {
     "name": "stdout",
     "output_type": "stream",
     "text": [
      "I'm DNASequence: DNA1\n",
      "DataSequence length:2946\n",
      "______________________________________________\n",
      "ATGATGCAGTCCGTGGCTCCTGTGTGCAATGTCTGCGGCGAGCAGGTGGGGCTTGGTGCCAATGGGGAGGTTTTCGTGGCATGCCACGAGTGTAATTTCCCCATTTGCAAGGCTTGTTTCGATGAAGATGTCAAGGCTGGGCGTAAAGTTTGCTTGCAGTGTGGTATTCCCTATGACGATAACCCGTTGGCGGAGTATGAAACAAAGGTGTCAGGCACTCGATCCACAATGGAAGCTCACCTGAATAATACACAGGATACAGGAATTCATGCTAGGCATATCAGCAGTGTGTCTACGTTGGATAGTGAATTAAACGATGAATCTGGCAATCCGATTTGGAAGAATAGAGTGGAAAGTTGGAAGGATAAGAAGGATAAGAAGGATAAAAAGATCAAGAAGAAAAAGGATACACCTAATGGGGAAAAAGAGGCTCAAATTCCACCTGAGAAGCAGATGACAGAGGAATATTCATCAGAGGCTGCGGAACCACTTTCAACTCTCGTCCCACTTCCATCTAACAGAATCACACCATACAGAACTGTTATAATTATGCGATTGATCATTCTCGCCCTTTTCTTCCATTATCGAGTAACAAATCCTGTTGATAGTGCTTACGGTCTATGGTTCACTTCGATCATATGTGAGATCTGGTTTGCTTTTTCTTGGGTGTTGGATCAGTTTCCTAAGTGGTCTCCAGTTAATCGGACTACATTTACTGACAGGTTATCTGCCAGGTTTGAAAGAGAGGGTGAACTCTCCGAGCTTGCTGCTGTGGATTTCTTCGTAAGTACAGTTGATCCGTTGAAAGAACCGCCCTTGATTACTGCCAATACCGTGCTTTCTATCCTTGCTGTAGACTACCCTGTGGACAAAGTTTCCTGCTATGTGTCTGATGATGGTGCTGCCATGCTTACATTTGAATCCCTTGCCGAAACATCTGAATTTGCAACAAAGTGGGTTCCTTTCTGCAAGAAATTTTCAATTGAACCACGTGCACCTGAGTTTTACTTCTCACAAAAGATTGACTACTTGAAGGATAAAGTGCAACCATCTTTTGTGAAGGAGCGCAGAGCGATGAAAAGAGATTATGAAGAGTTCAAAGTGCGAATGAATGCTTTAGTAGCAAAGGCTCAAAAAACACCAGAAGAAGGATGGACTATGCAAGATGGAACTCCATGGCCAGGAAATAACTCGCGTGACCATCCTGGGATGATCCAGGTGTTCCTTGGACATAGCGGTGCCTATGACATCGAGGGAAATGAACTTCCTCGATTGGTTTATGTCTCGAGAGAGAAGAGACCCGGCTACCCACATCACAAGAAAGCTGGTGCTGAAAATGCTTTGGTAAGGGTGTCTGCAGTTCTCACAAATGCCCCATACATCCTCAATCTTGACTGTGATCACTACGTTAACAACAGCCAGGCAATTCGTGAGGCAATGTGTTTCTTGATGGACCCTCAAGTCGGTCGAGAAGTATGCTATGTGCAGTTTCCTCAGAGGTTTGATGGTATTGATCGCAGTGATCGATATGCTAATCGCAACACAGTTTTCTTTGATGTTAACATGAAAGGACTGGATGGCATTCAAGGTCCAGTATATGTGGGGACAGGATGTTGTTTCAACAGGCAAGCACTTTACGGCTACGGTCCTCCTTCTATGCCCGCCTTATCCAAGGCTGCTTCCTCATCCTCCTGCTCTTGTTGCTGTCCCTCTAAGAAGCCCTCTAAAGATGTGTCAGAGGCTTATCGAGATGCAAAACAGGAGGAGCTTGATGCTGCCATTTTTAACCTCCGTGATATTGAGAATTATGATGAGCTTGAGAGGTCAATGCTGATCTCGCAGACAAGCTTTGAGAAAACTTTTGGATTATCGTCTGTATTCATCGAATCTACGCTAATGGAGAACGGAGGAGTGGCCGAATCTTCCAACCCTTCAACATTGATCAAGGAGGCGATTCACGTCATTAGCTGTGGTTATGAAGAGAAGACCGCGTGGGGAAAAGAGATTGGTTGGATATATGGATCAATCACTGAGGATATCTTAACCGGTTTCAAGATGCATTGCCGTGGATGGAGGTCAATTTACTGCATGCCCTTGAGACCTGCATTCAAAGGGTCAGCTCCCATTAACCTTTCTGATCGACTGCACCAAGTTCTTCGGTGGGCACTGGGATCGGTGGAAATTTTCCTCAGTAGACATTGTCCTCTCTGGTACGGGTTTGCAGGAGGCCGCCTCAAATTGCTTCAGAGAATGGCATATATCAACACTATTGTTTACCCCTTCACATCCCTCCCTCTCGTCGCTTACTGCACACTCCCTGCAATATGCCTTCTCACAGGAAAATTCATCATCCCAACACTTACAAACCTGGCAAGTGCCCTGTTTCTTGGCCTCTTCATCTCCATCATTGCTACAAGTGTGCTTGAGTTGAGGTGGAGTGGAGTCCGCATTGAGGACTTATGGCGTAACGAGCAGTTCTGGGTGATCGGAGGTGTTTCAGCCCATCTCTTTGCCGTCTTCCAAGGTTTCTTAAAGATGTTGGCCGGAATTGACACCAACTTCACCGTCACAACCAAATCAGCCGAAGACACAGAATTCGGAGAGCTCTATCTGATCAAATGGACCACACTTTTGATTCCCCCAACTACACTCCTCATCGTCAACATGGTTGGTGTTGTTGCAGGATTTTCGGACGCCCTCAACAAGGGATACGAAGCTTGGGGGCCACTTTTCGGGAAGGTTTTCTTTGCCTTCTGGGTGATTCTTCATCTATATCCCTTCCTCAAAGGTCTCATGGGACGCCAAAACCGGACTCCAACCATCGTTGTTTTGTGGTCAGTGCTCTTGGCCTCTGTCTTCTCCCTTGTTTGGGTGAAGATAAATCCATTTGTGAGCAAAGTGGACAGCTCAACGCTTGCTCAAAGCTGCATTTCCATAGACTGCTGA\n",
      "-------------------------------------------------------------\n",
      "I'm DNASequence: DNA2\n",
      "DataSequence length:1731\n",
      "______________________________________________\n",
      "ATGGCGTCTCTCTCCATCGCTTCACATTACTCCATTTCCTCATGGCCTCCCAAGAATAGCAACACCAGTACCACCCTCTCATCTTTCAACAAAACCCCATTTCGTAAAAACACCCAAAATCTCACCTTTTCGAAAAAACGCCATCATTTTCTCACGTTTTCCATGAAAAATGACCAGGAAAACGAACCCACTTCTTCTTCGTCGCCGTCGTCGGCTGTTGCAGTTTCCGAGAAGCCGAGCGACGGCAGTGAGACCCAGGAGAGTGAATTGCCAGCAGAAGGAGCTGACTCTGAGTCTGATGAGGAGAAAGAGAAGCAGCTGGAGACGGATTGGAAGACGGACGAGGAGTTCAAGAAGTTCATGGGAAATCCTTCGATTGAAGCTGCAATAAAGTTGGAGAAGAAAAGGGCAGATAGGAAACTCAAGGATCTTGATAGGGAAAGTAGTGGGAACCCATTTGCAGGGATCCTGAACAAAGTTTTGCGTGACAGTTTGACCAGAGAGAAGGAGAGGCTGGAGAAAGCTGAAGAGACGTTCAAGGCAATTGATCTTAACAAGTTAAGGAGTTGTTTTGGGTTTGATACATTTTTTCCAACTGATGTTCGGAGATTTGGAGATGGAGGCATTTTTGTTGGAAATTTGAGGAGACCAATTGAAGAGGTCATGCCCAAATTAGAGCAAAAGCTATCTGAAGCGGCAGGAAGAGAAGTTGTGTTATGGTTCATGGAAGAAAAAACTAATGACATCAGAAAACAGGTCTGTATGGTGCAACCCAAATTGGAAATTGATCTGCAGTTTGAGTCAACCAAGCTGAGCACTCCTTTGGGTTATGTGAGTGCAGTAGCCTTATGTGTCGCCACGTTTGGGACCGTAGCTCTAATAAGTGGCTTCTTCCTGAAACCTGATGCTACATGGGATGACTACCTTGCCAATGTTGTGCCCCTCTTTGGTGGCTTCCTATCTATTTTGGGAGTTTCTGAGATAGCGACTAGAGTGACAGCTGCTCGTCACGGTGTAAAACTCAGTCCATCTTTTCTTGTGCCATCCAATTGGACAGGCTGTTTAGGAGTGATGAATAACTATGAATCACTGCTTCCAAACAAGAAAGCGCTTTTTGACATTCCAGTGGCACGCACGGCTAGTGCATATCTCACATCACTGGTGCTTGCAATTGCTGCTTTTGTGGCTGATGGAAGCTTTAATGGGGGTGACAATGCATTGTATATAAGGCCGCAATTCTTCTTTAATAATCCCTTGCTTTCTTTTGTCCAATTTGTTATTGGTCCTTACGCGGATGACCTTGGAAATGTGCTGCCCTATGCAGTGGAAGGTGTTGGAGTTCCTGTTGATCCCCTTGCCTTTGCTGGACTTCTAGGGATGGTGGTGACTTCTCTGAACTTGTTGCCATGTGGGAGACTCGAAGGAGGCCGGATTGCACAAGCTATGTTTGGGAGAGGTACGGCTGCTCTGCTATCGTTTGCCACATCGCTTTTACTTGGGATTGGTGGCCTAAGTGGAAGTGTCCTTTGCCTGGCATGGGGATTATTTGCCACCTTCTTCCGGGGTGGAGAAGAAATGCCTGCGAAAGATGAAATCACCCCCATGGGAGACGATAGGTTTGCTTGGGGTTGTGTCCTCGGCCTTATCTGCTTCCTCACGCTTTTCCCTAACATCGGAGGGACGTTCTCCAGCTCATTTTTAAGTGCACCATTTTTCAGGGGTGATATGTAA\n",
      "-------------------------------------------------------------\n",
      "I'm DNASequence: DNA3\n",
      "DataSequence length:468\n",
      "______________________________________________\n",
      "ATGTCGTCGTCGTCGAAGATCACCCTGCAGAGCTCCGACGGCGAGTCGTTCGAGGTCGAGGAGGCGGTGGCGCTGGAATCACAGACCATTGGGCTCGTGATCGAGAACGACTGCGCCGACAACTGTATTCCTTTGCCCAACGTCACCAGCAAGATCTTGGCCATGGTCATCGAGTACTGCAAGAGGCACGTCGACGCCGCCAAGCTCGACGAGAAGATCTTCGAGGACGATCTCGAGTCCTGGGATCAGGCGTTCGTAAAGGTGGACCAGGCTACGCTGTTTGATCTCATTAACGCTGCAGCCTACTTGAACATCAAGAGCCTTTTGGACCTGACATGCCAGGCAGTTGCAGACATGATCAAGGGTAAGACTCCAGAAGAGATCAGAAAGACCTTCAACATCAAGGACGAGTTCACCCTGGAGGAAGAGGAGGAAGTTCGTCGTGAGAACCAGTGGGCGTTTGAATGA\n",
      "-------------------------------------------------------------\n"
     ]
    }
   ],
   "source": [
    "print(DNAtest1)\n",
    "print(DNAtest2)\n",
    "print(DNAtest3)"
   ]
  },
  {
   "cell_type": "markdown",
   "metadata": {},
   "source": [
    "#### Print results from ProSeq objects"
   ]
  },
  {
   "cell_type": "code",
   "execution_count": 8,
   "metadata": {},
   "outputs": [
    {
     "name": "stdout",
     "output_type": "stream",
     "text": [
      "I'm Protein Sequence: ProfromDNA1\n",
      "DataSequence genrated from DNA1 with a length of:982\n",
      "\n",
      "______________________________________________\n",
      "MMQSVAPVCNVCGEQVGLGANGEVFVACHECNFPICKACFDEDVKAGRKVCLQCGIPYDDNPLAEYETKVSGTRSTMEAHLNNTQDTGIHARHISSVSTLDSELNDESGNPIWKNRVESWKDKKDKKDKKIKKKKDTPNGEKEAQIPPEKQMTEEYSSEAAEPLSTLVPLPSNRITPYRTVIIMRLIILALFFHYRVTNPVDSAYGLWFTSIICEIWFAFSWVLDQFPKWSPVNRTTFTDRLSARFEREGELSELAAVDFFVSTVDPLKEPPLITANTVLSILAVDYPVDKVSCYVSDDGAAMLTFESLAETSEFATKWVPFCKKFSIEPRAPEFYFSQKIDYLKDKVQPSFVKERRAMKRDYEEFKVRMNALVAKAQKTPEEGWTMQDGTPWPGNNSRDHPGMIQVFLGHSGAYDIEGNELPRLVYVSREKRPGYPHHKKAGAENALVRVSAVLTNAPYILNLDCDHYVNNSQAIREAMCFLMDPQVGREVCYVQFPQRFDGIDRSDRYANRNTVFFDVNMKGLDGIQGPVYVGTGCCFNRQALYGYGPPSMPALSKAASSSSCSCCCPSKKPSKDVSEAYRDAKQEELDAAIFNLRDIENYDELERSMLISQTSFEKTFGLSSVFIESTLMENGGVAESSNPSTLIKEAIHVISCGYEEKTAWGKEIGWIYGSITEDILTGFKMHCRGWRSIYCMPLRPAFKGSAPINLSDRLHQVLRWALGSVEIFLSRHCPLWYGFAGGRLKLLQRMAYINTIVYPFTSLPLVAYCTLPAICLLTGKFIIPTLTNLASALFLGLFISIIATSVLELRWSGVRIEDLWRNEQFWVIGGVSAHLFAVFQGFLKMLAGIDTNFTVTTKSAEDTEFGELYLIKWTTLLIPPTTLLIVNMVGVVAGFSDALNKGYEAWGPLFGKVFFAFWVILHLYPFLKGLMGRQNRTPTIVVLWSVLLASVFSLVWVKINPFVSKVDSSTLAQSCISIDC*\n",
      "-------------------------------------------------------------\n",
      "I'm Protein Sequence: ProfromDNA2\n",
      "DataSequence genrated from DNA2 with a length of:577\n",
      "\n",
      "______________________________________________\n",
      "MMASLSIASHYSISSWPPKNSNTSTTLSSFNKTPFRKNTQNLTFSKKRHHFLTFSMKNDQENEPTSSSSPSSAVAVSEKPSDGSETQESELPAEGADSESDEEKEKQLETDWKTDEEFKKFMGNPSIEAAIKLEKKRADRKLKDLDRESSGNPFAGILNKVLRDSLTREKERLEKAEETFKAIDLNKLRSCFGFDTFFPTDVRRFGDGGIFVGNLRRPIEEVMPKLEQKLSEAAGREVVLWFMEEKTNDIRKQVCMVQPKLEIDLQFESTKLSTPLGYVSAVALCVATFGTVALISGFFLKPDATWDDYLANVVPLFGGFLSILGVSEIATRVTAARHGVKLSPSFLVPSNWTGCLGVMNNYESLLPNKKALFDIPVARTASAYLTSLVLAIAAFVADGSFNGGDNALYIRPQFFFNNPLLSFVQFVIGPYADDLGNVLPYAVEGVGVPVDPLAFAGLLGMVVTSLNLLPCGRLEGGRIAQAMFGRGTAALLSFATSLLLGIGGLSGSVLCLAWGLFATFFRGGEEMPAKDEITPMGDDRFAWGCVLGLICFLTLFPNIGGTFSSSFLSAPFFRGDM\n",
      "-------------------------------------------------------------\n",
      "I'm Protein Sequence: ProfromDNA3\n",
      "DataSequence genrated from DNA3 with a length of:156\n",
      "\n",
      "______________________________________________\n",
      "MMSSSSKITLQSSDGESFEVEEAVALESQTIGLVIENDCADNCIPLPNVTSKILAMVIEYCKRHVDAAKLDEKIFEDDLESWDQAFVKVDQATLFDLINAAAYLNIKSLLDLTCQAVADMIKGKTPEEIRKTFNIKDEFTLEEEEEVRRENQWAFE\n",
      "-------------------------------------------------------------\n",
      "-----------------------------\n",
      "ProSeq convertfromKEY method:  \n",
      "-----------------------------\n",
      "\n",
      "ATGATGAGTAGTAGTAGTAAAATTACTTTACAAAGTAGTGATGGTGAAAGTTTTGAAGTTGAAGAAGCTGTTGCTTTAGAAAGTCAAACTATTGGTTTAGTTATTGAAAATGATTGTGCTGATAATTGTATTCCTTTACCTAATGTTACTAGTAAAATTTTAGCTATGGTTATTGAATACTGTAAACGTCATGTTGATGCTGCTAAATTAGATGAAAAAATTTTTGAAGATGATTTAGAAAGTTGGGATCAAGCTTTTGTTAAAGTTGATCAAGCTACTTTATTTGATTTAATTAATGCTGCTGCTTACTTAAATATTAAAAGTTTATTAGATTTAACTTGTCAAGCTGTTGCTGATATGATTAAAGGTAAAACTCCTGAAGAAATTCGTAAAACTTTTAATATTAAAGATGAATTTACTTTAGAAGAAGAAGAAGAAGTTCGTCGTGAAAATCAATGGGCTTTTGAA\n",
      "-----------------------------\n",
      "ProSeq acidCount method:  \n",
      "-----------------------------\n",
      "\n",
      "{'M': 4, 'S': 11, 'K': 11, 'I': 12, 'T': 8, 'L': 14, 'Q': 6, 'D': 13, 'G': 3, 'E': 20, 'F': 7, 'V': 10, 'A': 14, 'N': 7, 'C': 4, 'P': 3, 'Y': 2, 'R': 4, 'H': 1, 'W': 2}\n"
     ]
    }
   ],
   "source": [
    "print(Protest1)\n",
    "print(Protest2)\n",
    "print(Protest3)\n",
    "#Demo a convert from sequence translation dictionary in parent class\n",
    "print(\"-----------------------------\\nProSeq convertfromKEY method:  \\n-----------------------------\\n\")\n",
    "print(Protest3.convertfromKEY())\n",
    "print(\"-----------------------------\\nProSeq acidCount method:  \\n-----------------------------\\n\")\n",
    "print(Protest3.countAcids())"
   ]
  },
  {
   "cell_type": "markdown",
   "metadata": {},
   "source": [
    "### I added a datetime stamp to seq class, and import index to child classes thinking that might aid in sorting, these attributes were not displayed but were assigned"
   ]
  }
 ],
 "metadata": {
  "kernelspec": {
   "display_name": "Python 3",
   "language": "python",
   "name": "python3"
  },
  "language_info": {
   "codemirror_mode": {
    "name": "ipython",
    "version": 3
   },
   "file_extension": ".py",
   "mimetype": "text/x-python",
   "name": "python",
   "nbconvert_exporter": "python",
   "pygments_lexer": "ipython3",
   "version": "3.7.3"
  }
 },
 "nbformat": 4,
 "nbformat_minor": 2
}
