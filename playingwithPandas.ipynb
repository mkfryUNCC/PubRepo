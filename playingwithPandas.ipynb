{
 "cells": [
  {
   "cell_type": "code",
   "execution_count": 8,
   "metadata": {},
   "outputs": [],
   "source": [
    "import pandas as pd\n",
    "import random"
   ]
  },
  {
   "cell_type": "code",
   "execution_count": 9,
   "metadata": {},
   "outputs": [],
   "source": [
    "footballStats = {'pl00' :\n",
    "                {'name': ['bob'],\n",
    "                'touchdowns': ['12'],\n",
    "                'sacks': ['1']\n",
    "                },\n",
    "                'pl50' :\n",
    "                {'name': ['john'],\n",
    "                'touchdowns': ['14'],\n",
    "                'sacks': ['1']\n",
    "                },\n",
    "                'pl23' :\n",
    "                {'name': ['bill'],\n",
    "                'touchdowns': ['15'],\n",
    "                'sacks': ['15']\n",
    "                },\n",
    "                'pl12' :\n",
    "                {'name': ['matt'],\n",
    "                'touchdowns': ['1'],\n",
    "                'sacks': ['5']\n",
    "                },\n",
    "                'pl10' :\n",
    "                {'name': ['matt'],\n",
    "                'touchdowns': ['1'],\n",
    "                'sacks': ['5']\n",
    "                }\n",
    "                }"
   ]
  },
  {
   "cell_type": "code",
   "execution_count": 10,
   "metadata": {},
   "outputs": [],
   "source": [
    "def randomlistGen(entries):\n",
    "    retlist =[random.randint(0,100) for i in range(entries)]\n",
    "    return retlist\n",
    "\n"
   ]
  },
  {
   "cell_type": "code",
   "execution_count": 12,
   "metadata": {},
   "outputs": [],
   "source": [
    "diction1={}\n",
    "listct = 0\n",
    "while listct <3:\n",
    "    diction1[str(listct)+'entry']= randomlistGen(3)\n",
    "    listct+=1\n",
    "mydbex=pd.DataFrame(diction1)\n",
    "    "
   ]
  },
  {
   "cell_type": "code",
   "execution_count": 13,
   "metadata": {},
   "outputs": [
    {
     "data": {
      "text/html": [
       "<div>\n",
       "<style scoped>\n",
       "    .dataframe tbody tr th:only-of-type {\n",
       "        vertical-align: middle;\n",
       "    }\n",
       "\n",
       "    .dataframe tbody tr th {\n",
       "        vertical-align: top;\n",
       "    }\n",
       "\n",
       "    .dataframe thead th {\n",
       "        text-align: right;\n",
       "    }\n",
       "</style>\n",
       "<table border=\"1\" class=\"dataframe\">\n",
       "  <thead>\n",
       "    <tr style=\"text-align: right;\">\n",
       "      <th></th>\n",
       "      <th>0entry</th>\n",
       "      <th>1entry</th>\n",
       "      <th>2entry</th>\n",
       "    </tr>\n",
       "  </thead>\n",
       "  <tbody>\n",
       "    <tr>\n",
       "      <th>0</th>\n",
       "      <td>74</td>\n",
       "      <td>34</td>\n",
       "      <td>22</td>\n",
       "    </tr>\n",
       "    <tr>\n",
       "      <th>1</th>\n",
       "      <td>17</td>\n",
       "      <td>77</td>\n",
       "      <td>11</td>\n",
       "    </tr>\n",
       "    <tr>\n",
       "      <th>2</th>\n",
       "      <td>97</td>\n",
       "      <td>16</td>\n",
       "      <td>82</td>\n",
       "    </tr>\n",
       "  </tbody>\n",
       "</table>\n",
       "</div>"
      ],
      "text/plain": [
       "   0entry  1entry  2entry\n",
       "0      74      34      22\n",
       "1      17      77      11\n",
       "2      97      16      82"
      ]
     },
     "execution_count": 13,
     "metadata": {},
     "output_type": "execute_result"
    }
   ],
   "source": [
    "mydbex"
   ]
  },
  {
   "cell_type": "code",
   "execution_count": null,
   "metadata": {},
   "outputs": [],
   "source": []
  }
 ],
 "metadata": {
  "kernelspec": {
   "display_name": "Python 3",
   "language": "python",
   "name": "python3"
  },
  "language_info": {
   "codemirror_mode": {
    "name": "ipython",
    "version": 3
   },
   "file_extension": ".py",
   "mimetype": "text/x-python",
   "name": "python",
   "nbconvert_exporter": "python",
   "pygments_lexer": "ipython3",
   "version": "3.7.1"
  }
 },
 "nbformat": 4,
 "nbformat_minor": 2
}
